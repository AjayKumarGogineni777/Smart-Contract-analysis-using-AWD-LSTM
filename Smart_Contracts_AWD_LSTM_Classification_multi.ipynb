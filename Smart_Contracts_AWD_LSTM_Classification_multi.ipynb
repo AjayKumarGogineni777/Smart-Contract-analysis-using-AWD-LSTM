{
  "nbformat": 4,
  "nbformat_minor": 0,
  "metadata": {
    "accelerator": "GPU",
    "colab": {
      "name": "Smart_Contracts_AWD_LSTM_Classification_multi.ipynb",
      "provenance": [],
      "collapsed_sections": [],
      "include_colab_link": true
    },
    "kernelspec": {
      "name": "python3",
      "display_name": "Python 3"
    },
    "language_info": {
      "codemirror_mode": {
        "name": "ipython",
        "version": 3
      },
      "file_extension": ".py",
      "mimetype": "text/x-python",
      "name": "python",
      "nbconvert_exporter": "python",
      "pygments_lexer": "ipython3",
      "version": "3.6.7"
    }
  },
  "cells": [
    {
      "cell_type": "markdown",
      "metadata": {
        "id": "view-in-github",
        "colab_type": "text"
      },
      "source": [
        "<a href=\"https://colab.research.google.com/github/AjayKumarGogineni777/Smart-Contract-analysis-using-AWD-LSTM/blob/master/Smart_Contracts_AWD_LSTM_Classification_multi.ipynb\" target=\"_parent\"><img src=\"https://colab.research.google.com/assets/colab-badge.svg\" alt=\"Open In Colab\"/></a>"
      ]
    },
    {
      "cell_type": "code",
      "metadata": {
        "colab_type": "code",
        "id": "VvDUF_adnCy5",
        "colab": {}
      },
      "source": [
        "import fastai\n",
        "from fastai.callbacks import *"
      ],
      "execution_count": 0,
      "outputs": []
    },
    {
      "cell_type": "markdown",
      "metadata": {
        "id": "1tHt1mdc-JUV",
        "colab_type": "text"
      },
      "source": [
        ""
      ]
    },
    {
      "cell_type": "code",
      "metadata": {
        "colab_type": "code",
        "id": "YBcGGw2mnJLv",
        "outputId": "68ba353e-2139-4a7d-f2c1-ee8037a6c7ea",
        "colab": {
          "base_uri": "https://localhost:8080/",
          "height": 122
        }
      },
      "source": [
        "%reload_ext autoreload\n",
        "%autoreload 2\n",
        "%matplotlib inline\n",
        "from google.colab import drive\n",
        "drive.mount('/content/gdrive')"
      ],
      "execution_count": 0,
      "outputs": [
        {
          "output_type": "stream",
          "text": [
            "Go to this URL in a browser: https://accounts.google.com/o/oauth2/auth?client_id=947318989803-6bn6qk8qdgf4n4g3pfee6491hc0brc4i.apps.googleusercontent.com&redirect_uri=urn%3aietf%3awg%3aoauth%3a2.0%3aoob&response_type=code&scope=email%20https%3a%2f%2fwww.googleapis.com%2fauth%2fdocs.test%20https%3a%2f%2fwww.googleapis.com%2fauth%2fdrive%20https%3a%2f%2fwww.googleapis.com%2fauth%2fdrive.photos.readonly%20https%3a%2f%2fwww.googleapis.com%2fauth%2fpeopleapi.readonly\n",
            "\n",
            "Enter your authorization code:\n",
            "··········\n",
            "Mounted at /content/gdrive\n"
          ],
          "name": "stdout"
        }
      ]
    },
    {
      "cell_type": "code",
      "metadata": {
        "id": "foU2X7ouM92D",
        "colab_type": "code",
        "outputId": "8774789a-30a9-4862-f15e-7099ac33b2c6",
        "colab": {
          "base_uri": "https://localhost:8080/",
          "height": 204
        }
      },
      "source": [
        "import pandas as pd\n",
        "import numpy as np\n",
        "\n",
        "data = pd.read_csv('/content/gdrive/My Drive/SC Security Clean/clean_train.csv')\n",
        "data.head()"
      ],
      "execution_count": 0,
      "outputs": [
        {
          "output_type": "execute_result",
          "data": {
            "text/html": [
              "<div>\n",
              "<style scoped>\n",
              "    .dataframe tbody tr th:only-of-type {\n",
              "        vertical-align: middle;\n",
              "    }\n",
              "\n",
              "    .dataframe tbody tr th {\n",
              "        vertical-align: top;\n",
              "    }\n",
              "\n",
              "    .dataframe thead th {\n",
              "        text-align: right;\n",
              "    }\n",
              "</style>\n",
              "<table border=\"1\" class=\"dataframe\">\n",
              "  <thead>\n",
              "    <tr style=\"text-align: right;\">\n",
              "      <th></th>\n",
              "      <th>ADDRESS</th>\n",
              "      <th>OPCODE</th>\n",
              "      <th>CATEGORY</th>\n",
              "    </tr>\n",
              "  </thead>\n",
              "  <tbody>\n",
              "    <tr>\n",
              "      <th>0</th>\n",
              "      <td>0x219f4ee903f78e78773e5d1e3520cfd507485bc6</td>\n",
              "      <td>60 60 52 36 15 61 57 60 35 7c 90 04 63 16 80 6...</td>\n",
              "      <td>1 0 0 0</td>\n",
              "    </tr>\n",
              "    <tr>\n",
              "      <th>1</th>\n",
              "      <td>0x560ed796aa8d23411b94b9d047ecdda39d4fcdeb</td>\n",
              "      <td>60 60 52 36 15 61 57 60 35 7c 90 04 63 16 80 6...</td>\n",
              "      <td>1 0 0 0</td>\n",
              "    </tr>\n",
              "    <tr>\n",
              "      <th>2</th>\n",
              "      <td>0xe726f97ff3c63dd71c1520c102adc39d1a2693ea</td>\n",
              "      <td>60 60 52 36 15 61 57 60 35 7c 90 04 63 16 80 6...</td>\n",
              "      <td>1 0 0 0</td>\n",
              "    </tr>\n",
              "    <tr>\n",
              "      <th>3</th>\n",
              "      <td>0x8ebac490495958b3804bb079e259340f0f53b69c</td>\n",
              "      <td>60 60 52 36 15 61 57 60 35 7c 90 04 63 16 80 6...</td>\n",
              "      <td>1 0 0 0</td>\n",
              "    </tr>\n",
              "    <tr>\n",
              "      <th>4</th>\n",
              "      <td>0x190700d69031db6b072a30577f9b3dbc53a320a1</td>\n",
              "      <td>60 60 52 36 15 61 57 60 35 7c 90 04 63 16 80 6...</td>\n",
              "      <td>1 0 0 0</td>\n",
              "    </tr>\n",
              "  </tbody>\n",
              "</table>\n",
              "</div>"
            ],
            "text/plain": [
              "                                      ADDRESS  ... CATEGORY\n",
              "0  0x219f4ee903f78e78773e5d1e3520cfd507485bc6  ...  1 0 0 0\n",
              "1  0x560ed796aa8d23411b94b9d047ecdda39d4fcdeb  ...  1 0 0 0\n",
              "2  0xe726f97ff3c63dd71c1520c102adc39d1a2693ea  ...  1 0 0 0\n",
              "3  0x8ebac490495958b3804bb079e259340f0f53b69c  ...  1 0 0 0\n",
              "4  0x190700d69031db6b072a30577f9b3dbc53a320a1  ...  1 0 0 0\n",
              "\n",
              "[5 rows x 3 columns]"
            ]
          },
          "metadata": {
            "tags": []
          },
          "execution_count": 4
        }
      ]
    },
    {
      "cell_type": "code",
      "metadata": {
        "id": "zJF0vfNWNaLi",
        "colab_type": "code",
        "outputId": "e5ece47c-766f-404a-e686-3c0038d04397",
        "colab": {
          "base_uri": "https://localhost:8080/",
          "height": 34
        }
      },
      "source": [
        "len(data)"
      ],
      "execution_count": 0,
      "outputs": [
        {
          "output_type": "execute_result",
          "data": {
            "text/plain": [
              "892913"
            ]
          },
          "metadata": {
            "tags": []
          },
          "execution_count": 4
        }
      ]
    },
    {
      "cell_type": "code",
      "metadata": {
        "id": "xbb1c4PhM1Pn",
        "colab_type": "code",
        "colab": {}
      },
      "source": [
        ""
      ],
      "execution_count": 0,
      "outputs": []
    },
    {
      "cell_type": "code",
      "metadata": {
        "id": "0n9-dnP0NaYD",
        "colab_type": "code",
        "outputId": "cf395cf4-f5c0-4bc2-c38c-b98c2e619bc3",
        "colab": {
          "base_uri": "https://localhost:8080/",
          "height": 85
        }
      },
      "source": [
        "data.nunique()"
      ],
      "execution_count": 0,
      "outputs": [
        {
          "output_type": "execute_result",
          "data": {
            "text/plain": [
              "ADDRESS     892913\n",
              "OPCODE       34805\n",
              "CATEGORY         5\n",
              "dtype: int64"
            ]
          },
          "metadata": {
            "tags": []
          },
          "execution_count": 5
        }
      ]
    },
    {
      "cell_type": "code",
      "metadata": {
        "id": "YF1O8VUVNaV0",
        "colab_type": "code",
        "outputId": "ca566bf1-b7d0-41e0-9c74-075ed883a9d6",
        "colab": {
          "base_uri": "https://localhost:8080/",
          "height": 34
        }
      },
      "source": [
        "#Select the way how you want to store the output, could be pd.DataFrame or Dict, I will use Dict to demonstrate:\n",
        "col_uni_val={}\n",
        "data2 = data['CATEGORY']\n",
        "for i in data.columns:\n",
        "    col_uni_val[i] = len(data[i].unique())\n",
        "\n",
        "#Import pprint to display dic nicely:\n",
        "import pprint\n",
        "pprint.pprint(col_uni_val)"
      ],
      "execution_count": 0,
      "outputs": [
        {
          "output_type": "stream",
          "text": [
            "{'ADDRESS': 892913, 'CATEGORY': 5, 'OPCODE': 34805}\n"
          ],
          "name": "stdout"
        }
      ]
    },
    {
      "cell_type": "code",
      "metadata": {
        "id": "8r-aqq4oNaTd",
        "colab_type": "code",
        "outputId": "b85d2d40-7234-4b88-f01e-affc7bda5694",
        "colab": {
          "base_uri": "https://localhost:8080/",
          "height": 136
        }
      },
      "source": [
        "df = data.groupby('CATEGORY')['ADDRESS'].nunique()\n",
        "df.head()"
      ],
      "execution_count": 0,
      "outputs": [
        {
          "output_type": "execute_result",
          "data": {
            "text/plain": [
              "CATEGORY\n",
              "0 0 0 1      5801\n",
              "0 0 1 0      1461\n",
              "0 1 0 0      1207\n",
              "0 1 1 0       171\n",
              "1 0 0 0    884273\n",
              "Name: ADDRESS, dtype: int64"
            ]
          },
          "metadata": {
            "tags": []
          },
          "execution_count": 6
        }
      ]
    },
    {
      "cell_type": "code",
      "metadata": {
        "id": "-XJ16c-eNaD3",
        "colab_type": "code",
        "outputId": "aaf619cd-838f-4c4b-de6d-6f15858e85f6",
        "colab": {
          "base_uri": "https://localhost:8080/",
          "height": 136
        }
      },
      "source": [
        "df2 = data.groupby('CATEGORY')['OPCODE'].nunique()\n",
        "df2.head()"
      ],
      "execution_count": 0,
      "outputs": [
        {
          "output_type": "execute_result",
          "data": {
            "text/plain": [
              "CATEGORY\n",
              "0 0 0 1     1770\n",
              "0 0 1 0      370\n",
              "0 1 0 0      145\n",
              "0 1 1 0      129\n",
              "1 0 0 0    32408\n",
              "Name: OPCODE, dtype: int64"
            ]
          },
          "metadata": {
            "tags": []
          },
          "execution_count": 7
        }
      ]
    },
    {
      "cell_type": "code",
      "metadata": {
        "id": "G01ThpjjM99v",
        "colab_type": "code",
        "colab": {}
      },
      "source": [
        "### multi class\n",
        "df = data\n",
        "df_a = df.loc[df['CATEGORY'] == '1 0 0 0']\n",
        "df_a2 = df_a.drop('ADDRESS', 1)\n",
        "#df_a.head()\n",
        "df_b = df.loc[df['CATEGORY'] == '0 0 0 1']\n",
        "df_b2 = df_b.drop('ADDRESS', 1)\n",
        "\n",
        "df_c = df.loc[df['CATEGORY'] == '0 0 1 0']\n",
        "df_c2 = df_c.drop('ADDRESS', 1)\n",
        "#df_c.head()\n",
        "\n",
        "df_d = df.loc[df['CATEGORY'] == '0 1 0 0']\n",
        "df_d2 = df_d.drop('ADDRESS', 1)\n",
        "#df_d.head()\n",
        "\n",
        "#df_e = df.loc[df['CATEGORY'] == '0 1 1 0']\n",
        "#df_e2 = df_e.drop('ADDRESS', 1)\n",
        "\n",
        "#df_e.head()\n"
      ],
      "execution_count": 0,
      "outputs": []
    },
    {
      "cell_type": "code",
      "metadata": {
        "id": "TKpn0YadTy6B",
        "colab_type": "code",
        "outputId": "95af69c5-c629-418b-91c2-8595b7d02975",
        "colab": {
          "base_uri": "https://localhost:8080/",
          "height": 204
        }
      },
      "source": [
        "k1 = df_a.OPCODE.unique()\n",
        "k1 = pd.DataFrame({'OPCODE' : k1 , 'CATEGORY' : '1 0 0 0'})\n",
        "k1.head() "
      ],
      "execution_count": 0,
      "outputs": [
        {
          "output_type": "execute_result",
          "data": {
            "text/html": [
              "<div>\n",
              "<style scoped>\n",
              "    .dataframe tbody tr th:only-of-type {\n",
              "        vertical-align: middle;\n",
              "    }\n",
              "\n",
              "    .dataframe tbody tr th {\n",
              "        vertical-align: top;\n",
              "    }\n",
              "\n",
              "    .dataframe thead th {\n",
              "        text-align: right;\n",
              "    }\n",
              "</style>\n",
              "<table border=\"1\" class=\"dataframe\">\n",
              "  <thead>\n",
              "    <tr style=\"text-align: right;\">\n",
              "      <th></th>\n",
              "      <th>OPCODE</th>\n",
              "      <th>CATEGORY</th>\n",
              "    </tr>\n",
              "  </thead>\n",
              "  <tbody>\n",
              "    <tr>\n",
              "      <th>0</th>\n",
              "      <td>60 60 52 36 15 61 57 60 35 7c 90 04 63 16 80 6...</td>\n",
              "      <td>1 0 0 0</td>\n",
              "    </tr>\n",
              "    <tr>\n",
              "      <th>1</th>\n",
              "      <td>60 60 52 36 15 61 57 63 7c 60 35 04 16 63 81 1...</td>\n",
              "      <td>1 0 0 0</td>\n",
              "    </tr>\n",
              "    <tr>\n",
              "      <th>2</th>\n",
              "      <td>36 60 80 37 60 60 36 60 73 60 5a 03 f4 15 60 5...</td>\n",
              "      <td>1 0 0 0</td>\n",
              "    </tr>\n",
              "    <tr>\n",
              "      <th>3</th>\n",
              "      <td>60 60 52 5b fe 00 a1 65 20 65 0a 41 82 86 95 5...</td>\n",
              "      <td>1 0 0 0</td>\n",
              "    </tr>\n",
              "    <tr>\n",
              "      <th>4</th>\n",
              "      <td>60 60 52 36 15 61 57 63 60 60 0a 60 35 04 16 6...</td>\n",
              "      <td>1 0 0 0</td>\n",
              "    </tr>\n",
              "  </tbody>\n",
              "</table>\n",
              "</div>"
            ],
            "text/plain": [
              "                                              OPCODE CATEGORY\n",
              "0  60 60 52 36 15 61 57 60 35 7c 90 04 63 16 80 6...  1 0 0 0\n",
              "1  60 60 52 36 15 61 57 63 7c 60 35 04 16 63 81 1...  1 0 0 0\n",
              "2  36 60 80 37 60 60 36 60 73 60 5a 03 f4 15 60 5...  1 0 0 0\n",
              "3  60 60 52 5b fe 00 a1 65 20 65 0a 41 82 86 95 5...  1 0 0 0\n",
              "4  60 60 52 36 15 61 57 63 60 60 0a 60 35 04 16 6...  1 0 0 0"
            ]
          },
          "metadata": {
            "tags": []
          },
          "execution_count": 12
        }
      ]
    },
    {
      "cell_type": "code",
      "metadata": {
        "id": "Qyvc7i2kIVqf",
        "colab_type": "code",
        "colab": {}
      },
      "source": [
        "k2 = df_b.OPCODE.unique()\n",
        "k2 = pd.DataFrame({Cryptominers'OPCODE' : k2 , 'CATEGORY' : '0 0 0 1'})\n",
        "\n",
        "k3 = df_c.OPCODE.unique()\n",
        "k3 = pd.DataFrame({'OPCODE' : k3 , 'CATEGORY' : '0 0 0 1'})\n",
        "\n",
        "k4 = df_b.OPCODE.unique()\n",
        "k4 = pd.DataFrame({'OPCODE' : k4 , 'CATEGORY' : '0 0 0 1'})\n",
        "\n",
        "k5 = df_c.OPCODE.unique()\n",
        "k5 = pd.DataFrame({'OPCODE' : k5 , 'CATEGORY' : '0 0 0 1'})"
      ],
      "execution_count": 0,
      "outputs": []
    },
    {
      "cell_type": "code",
      "metadata": {
        "id": "_iJObUm8IqcW",
        "colab_type": "code",
        "colab": {}
      },
      "source": [
        "### binary \n",
        "k1_train = k1[0:15000]\n",
        "k1_test = k1[15000:20000]\n",
        "\n",
        "k2_train = k2[0:1500]\n",
        "k2_test = k2[1500:]\n",
        "\n",
        "k3_train = k3[0:330]\n",
        "k3_test = k3[330:]\n",
        "\n",
        "k4_train = k4[0:120]\n",
        "k4_test = k4[120:]\n",
        "\n",
        "k5_train = k5[0:100]\n",
        "k5_test = k5[100:]"
      ],
      "execution_count": 0,
      "outputs": []
    },
    {
      "cell_type": "code",
      "metadata": {
        "id": "wOf4bRpNIqXQ",
        "colab_type": "code",
        "colab": {}
      },
      "source": [
        "bin_train = pd.concat([k1_train, k2_train, k3_train, k4_train, k5_train])\n",
        "bin_test = pd.concat([k1_test, k2_test, k3_test, k4_test, k5_test])\n",
        "bin_train.to_csv('/content/gdrive/My Drive/DCNN/Smart Contracts/train_binary.csv')\n",
        "bin_test.to_csv('/content/gdrive/My Drive/DCNN/Smart Contracts/test_binary.csv')"
      ],
      "execution_count": 0,
      "outputs": []
    },
    {
      "cell_type": "code",
      "metadata": {
        "id": "7l5fK7Ufv3xc",
        "colab_type": "code",
        "colab": {}
      },
      "source": [
        "## multi class\n",
        "k1_train = k1[0:27408]\n",
        "k1_test = k1[27408:]"
      ],
      "execution_count": 0,
      "outputs": []
    },
    {
      "cell_type": "code",
      "metadata": {
        "id": "GoIf-Q8-wR2u",
        "colab_type": "code",
        "colab": {}
      },
      "source": [
        "b_train = df_b2[0:4931]\n",
        "b_test = df_b2[4931:]\n",
        "c_train = df_c2[0:1241]\n",
        "c_test = df_c2[1241:]\n",
        "d_train = df_d2[0:1026]\n",
        "d_test = df_d2[1026:]"
      ],
      "execution_count": 0,
      "outputs": []
    },
    {
      "cell_type": "code",
      "metadata": {
        "id": "zWKXnPFrNLsT",
        "colab_type": "code",
        "colab": {}
      },
      "source": [
        "targets = []\n",
        "t1 = [3 for i in range(len(k1_test)-1)]\n",
        "t2 = [0 for i in range(len(b_test)-1)]\n",
        "t3 = [1 for i in range(len(c_test)-1)]\n",
        "t4 = [2 for i in range(len(d_test)-1)]"
      ],
      "execution_count": 0,
      "outputs": []
    },
    {
      "cell_type": "code",
      "metadata": {
        "id": "02eN1NErRwBw",
        "colab_type": "code",
        "colab": {}
      },
      "source": [
        "t1"
      ],
      "execution_count": 0,
      "outputs": []
    },
    {
      "cell_type": "code",
      "metadata": {
        "id": "MY4ecKSSwzWp",
        "colab_type": "code",
        "outputId": "98a85e2d-aea9-4c36-f8d6-9b7e768811d1",
        "colab": {
          "base_uri": "https://localhost:8080/",
          "height": 34
        }
      },
      "source": [
        "train = pd.concat([k1_train, b_train, c_train, d_train])\n",
        "len(train)"
      ],
      "execution_count": 0,
      "outputs": [
        {
          "output_type": "execute_result",
          "data": {
            "text/plain": [
              "34606"
            ]
          },
          "metadata": {
            "tags": []
          },
          "execution_count": 21
        }
      ]
    },
    {
      "cell_type": "code",
      "metadata": {
        "id": "gqw8l3hyw76o",
        "colab_type": "code",
        "outputId": "5cccee75-5866-4037-b293-1a058989fc92",
        "colab": {
          "base_uri": "https://localhost:8080/",
          "height": 34
        }
      },
      "source": [
        "test = pd.concat([k1_test, b_test, c_test, d_test])\n",
        "len(test)"
      ],
      "execution_count": 0,
      "outputs": [
        {
          "output_type": "execute_result",
          "data": {
            "text/plain": [
              "6271"
            ]
          },
          "metadata": {
            "tags": []
          },
          "execution_count": 22
        }
      ]
    },
    {
      "cell_type": "code",
      "metadata": {
        "id": "9PwhDmZ9xQp7",
        "colab_type": "code",
        "colab": {}
      },
      "source": [
        "train.to_csv('/content/gdrive/My Drive/DCNN/Smart Contracts/train_final.csv')\n",
        "test.to_csv('/content/gdrive/My Drive/DCNN/Smart Contracts/test_final.csv')"
      ],
      "execution_count": 0,
      "outputs": []
    },
    {
      "cell_type": "code",
      "metadata": {
        "id": "ICnK8YzsxQi0",
        "colab_type": "code",
        "colab": {}
      },
      "source": [
        ""
      ],
      "execution_count": 0,
      "outputs": []
    },
    {
      "cell_type": "code",
      "metadata": {
        "id": "RMXPpaNZTHqj",
        "colab_type": "code",
        "outputId": "cf43fa93-dc8d-4a78-eb21-7ee165373a4d",
        "colab": {
          "base_uri": "https://localhost:8080/",
          "height": 206
        }
      },
      "source": [
        "  \n",
        "df_row_merged = pd.concat([k1, df_b2, df_c2, df_d2])\n",
        "df_row_merged.head()"
      ],
      "execution_count": 0,
      "outputs": [
        {
          "output_type": "execute_result",
          "data": {
            "text/html": [
              "<div>\n",
              "<style scoped>\n",
              "    .dataframe tbody tr th:only-of-type {\n",
              "        vertical-align: middle;\n",
              "    }\n",
              "\n",
              "    .dataframe tbody tr th {\n",
              "        vertical-align: top;\n",
              "    }\n",
              "\n",
              "    .dataframe thead th {\n",
              "        text-align: right;\n",
              "    }\n",
              "</style>\n",
              "<table border=\"1\" class=\"dataframe\">\n",
              "  <thead>\n",
              "    <tr style=\"text-align: right;\">\n",
              "      <th></th>\n",
              "      <th>OPCODE</th>\n",
              "      <th>CATEGORY</th>\n",
              "    </tr>\n",
              "  </thead>\n",
              "  <tbody>\n",
              "    <tr>\n",
              "      <th>0</th>\n",
              "      <td>60 60 52 36 15 61 57 60 35 7c 90 04 63 16 80 6...</td>\n",
              "      <td>1 0 0 0</td>\n",
              "    </tr>\n",
              "    <tr>\n",
              "      <th>1</th>\n",
              "      <td>60 60 52 36 15 61 57 63 7c 60 35 04 16 63 81 1...</td>\n",
              "      <td>1 0 0 0</td>\n",
              "    </tr>\n",
              "    <tr>\n",
              "      <th>2</th>\n",
              "      <td>36 60 80 37 60 60 36 60 73 60 5a 03 f4 15 60 5...</td>\n",
              "      <td>1 0 0 0</td>\n",
              "    </tr>\n",
              "    <tr>\n",
              "      <th>3</th>\n",
              "      <td>60 60 52 5b fe 00 a1 65 20 65 0a 41 82 86 95 5...</td>\n",
              "      <td>1 0 0 0</td>\n",
              "    </tr>\n",
              "    <tr>\n",
              "      <th>4</th>\n",
              "      <td>60 60 52 36 15 61 57 63 60 60 0a 60 35 04 16 6...</td>\n",
              "      <td>1 0 0 0</td>\n",
              "    </tr>\n",
              "  </tbody>\n",
              "</table>\n",
              "</div>"
            ],
            "text/plain": [
              "                                              OPCODE CATEGORY\n",
              "0  60 60 52 36 15 61 57 60 35 7c 90 04 63 16 80 6...  1 0 0 0\n",
              "1  60 60 52 36 15 61 57 63 7c 60 35 04 16 63 81 1...  1 0 0 0\n",
              "2  36 60 80 37 60 60 36 60 73 60 5a 03 f4 15 60 5...  1 0 0 0\n",
              "3  60 60 52 5b fe 00 a1 65 20 65 0a 41 82 86 95 5...  1 0 0 0\n",
              "4  60 60 52 36 15 61 57 63 60 60 0a 60 35 04 16 6...  1 0 0 0"
            ]
          },
          "metadata": {
            "tags": []
          },
          "execution_count": 97
        }
      ]
    },
    {
      "cell_type": "code",
      "metadata": {
        "colab_type": "code",
        "id": "uquTrtBGvpJZ",
        "colab": {}
      },
      "source": [
        "\n",
        "\n",
        "########### MAIN CODE\n",
        "\n",
        "import pandas as pd\n",
        "import numpy as np\n",
        "df_row_merged = pd.read_csv('/content/gdrive/My Drive/DCNN/Smart Contracts/train_final.csv')\n",
        "df_row_merged.head()\n",
        "df = df_row_merged\n"
      ],
      "execution_count": 0,
      "outputs": []
    },
    {
      "cell_type": "code",
      "metadata": {
        "id": "zBT0w-xTsogR",
        "colab_type": "code",
        "outputId": "865579be-e29b-4125-cac7-3ba3ed257e02",
        "colab": {
          "base_uri": "https://localhost:8080/",
          "height": 34
        }
      },
      "source": [
        "len(df_row_merged)"
      ],
      "execution_count": 0,
      "outputs": [
        {
          "output_type": "execute_result",
          "data": {
            "text/plain": [
              "34606"
            ]
          },
          "metadata": {
            "tags": []
          },
          "execution_count": 11
        }
      ]
    },
    {
      "cell_type": "code",
      "metadata": {
        "id": "NOqNj0KdTHiP",
        "colab_type": "code",
        "outputId": "de888711-d51e-428a-b236-b4627cfe3ae6",
        "colab": {
          "base_uri": "https://localhost:8080/",
          "height": 68
        }
      },
      "source": [
        "import nltk\n",
        "\n",
        "nltk.download('punkt')"
      ],
      "execution_count": 0,
      "outputs": [
        {
          "output_type": "stream",
          "text": [
            "[nltk_data] Downloading package punkt to /root/nltk_data...\n",
            "[nltk_data]   Unzipping tokenizers/punkt.zip.\n"
          ],
          "name": "stdout"
        },
        {
          "output_type": "execute_result",
          "data": {
            "text/plain": [
              "True"
            ]
          },
          "metadata": {
            "tags": []
          },
          "execution_count": 12
        }
      ]
    },
    {
      "cell_type": "code",
      "metadata": {
        "id": "rATAsNXyTHfr",
        "colab_type": "code",
        "colab": {}
      },
      "source": [
        "import nltk\n",
        "from fastai.text import *\n",
        "from nltk import tokenize"
      ],
      "execution_count": 0,
      "outputs": []
    },
    {
      "cell_type": "code",
      "metadata": {
        "id": "HGsd66XUY_mA",
        "colab_type": "code",
        "outputId": "7b29a528-4713-424f-f1eb-b22957323424",
        "colab": {
          "base_uri": "https://localhost:8080/",
          "height": 289
        }
      },
      "source": [
        "# Create databunch\n",
        "\n",
        "df = df_row_merged\n",
        "data = (TextList.from_df(df, cols='OPCODE')\n",
        "                .split_by_rand_pct(0.2)\n",
        "                .label_for_lm()  \n",
        "                .databunch(bs=48))\n",
        "data.show_batch()"
      ],
      "execution_count": 0,
      "outputs": [
        {
          "output_type": "display_data",
          "data": {
            "text/html": [
              ""
            ],
            "text/plain": [
              "<IPython.core.display.HTML object>"
            ]
          },
          "metadata": {
            "tags": []
          }
        },
        {
          "output_type": "display_data",
          "data": {
            "text/html": [
              ""
            ],
            "text/plain": [
              "<IPython.core.display.HTML object>"
            ]
          },
          "metadata": {
            "tags": []
          }
        },
        {
          "output_type": "display_data",
          "data": {
            "text/html": [
              "<table border=\"1\" class=\"dataframe\">\n",
              "  <thead>\n",
              "    <tr style=\"text-align: right;\">\n",
              "      <th>idx</th>\n",
              "      <th>text</th>\n",
              "    </tr>\n",
              "  </thead>\n",
              "  <tbody>\n",
              "    <tr>\n",
              "      <td>0</td>\n",
              "      <td>61 57 7f 60 60 90 54 90 61 0a 90 04 73 16 60 51 80 82 73 16 73 16 81 52 60 01 91 50 50 60 51 80 91 03 90 a1 61 56 5b 60 60 fd 5b 5b 56 5b 00 5b 34 15 61 57 fe 5b 61 60 80 80 35 73 16 90 60 01 90 91 90 50 50 61</td>\n",
              "    </tr>\n",
              "    <tr>\n",
              "      <td>1</td>\n",
              "      <td>90 52 81 54 87 01 90 91 55 91 90 93 01 92 7f 90 85 90 51 90 81 52 60 01 60 51 80 91 03 90 a3 60 60 60 0a 03 80 84 16 60 90 81 52 60 60 52 60 80 82 20 54 92 87 16 82 52 90 20 54 01 81 14 61 57 fe 5b 5b xxwrep 4 50</td>\n",
              "    </tr>\n",
              "    <tr>\n",
              "      <td>2</td>\n",
              "      <td>61 56 5b 50 50 50 90 50 90 81 01 90 60 16 80 15 61 57 80 82 03 80 51 60 83 60 03 61 0a 03 19 16 81 52 60 01 91 50 5b 50 92 50 50 50 60 51 80 91 03 90 f3 5b 34 15 61 57 fe 5b 60 80 51 60 60 60 35 81 81 01 35 60</td>\n",
              "    </tr>\n",
              "    <tr>\n",
              "      <td>3</td>\n",
              "      <td>82 01 84 81 81 51 81 52 60 01 91 50 80 51 90 60 01 90 80 83 83 60 5b 83 81 10 15 61 57 80 82 01 51 81 84 01 52 5b 60 01 61 56 5b xxwrep 4 50 90 50 90 81 01 90 60 16 80 15 61 57 80 82 03 80 51 60 83 60 03 61 0a 03</td>\n",
              "    </tr>\n",
              "    <tr>\n",
              "      <td>4</td>\n",
              "      <td>61 56 5b 83 30 60 60 60 0a 03 16 31 03 82 60 60 50 60 33 60 60 60 0a 03 16 81 52 60 01 90 81 52 60 01 60 20 60 50 54 04 02 90 50 83 30 60 60 60 0a 03 16 31 03 81 11 15 61 57 61 56 5b 60 51 33 60 60 60 0a 03 16</td>\n",
              "    </tr>\n",
              "  </tbody>\n",
              "</table>"
            ],
            "text/plain": [
              "<IPython.core.display.HTML object>"
            ]
          },
          "metadata": {
            "tags": []
          }
        }
      ]
    },
    {
      "cell_type": "code",
      "metadata": {
        "id": "bRqfEJsfY_it",
        "colab_type": "code",
        "outputId": "79e56fe3-bbf0-4faa-8aec-48a1a7c6d40f",
        "colab": {
          "base_uri": "https://localhost:8080/",
          "height": 34
        }
      },
      "source": [
        "data_lm = data\n",
        "learn = language_model_learner(data_lm, AWD_LSTM, drop_mult=0.3)"
      ],
      "execution_count": 0,
      "outputs": [
        {
          "output_type": "stream",
          "text": [
            "Downloading https://s3.amazonaws.com/fast-ai-modelzoo/wt103-fwd\n"
          ],
          "name": "stdout"
        },
        {
          "output_type": "display_data",
          "data": {
            "text/html": [
              ""
            ],
            "text/plain": [
              "<IPython.core.display.HTML object>"
            ]
          },
          "metadata": {
            "tags": []
          }
        }
      ]
    },
    {
      "cell_type": "code",
      "metadata": {
        "id": "t6DKMXi4Y_fd",
        "colab_type": "code",
        "outputId": "270e07ea-985d-494a-cfd4-a2c93f2f0cd4",
        "colab": {
          "base_uri": "https://localhost:8080/",
          "height": 374
        }
      },
      "source": [
        "learn.lr_find()\n",
        "learn.recorder.plot()"
      ],
      "execution_count": 0,
      "outputs": [
        {
          "output_type": "display_data",
          "data": {
            "text/html": [
              "\n",
              "    <div>\n",
              "        <style>\n",
              "            /* Turns off some styling */\n",
              "            progress {\n",
              "                /* gets rid of default border in Firefox and Opera. */\n",
              "                border: none;\n",
              "                /* Needs to be in here for Safari polyfill so background images work as expected. */\n",
              "                background-size: auto;\n",
              "            }\n",
              "            .progress-bar-interrupted, .progress-bar-interrupted::-webkit-progress-bar {\n",
              "                background: #F44336;\n",
              "            }\n",
              "        </style>\n",
              "      <progress value='0' class='' max='1', style='width:300px; height:20px; vertical-align: middle;'></progress>\n",
              "      0.00% [0/1 00:00<00:00]\n",
              "    </div>\n",
              "    \n",
              "<table border=\"1\" class=\"dataframe\">\n",
              "  <thead>\n",
              "    <tr style=\"text-align: left;\">\n",
              "      <th>epoch</th>\n",
              "      <th>train_loss</th>\n",
              "      <th>valid_loss</th>\n",
              "      <th>accuracy</th>\n",
              "      <th>time</th>\n",
              "    </tr>\n",
              "  </thead>\n",
              "  <tbody>\n",
              "  </tbody>\n",
              "</table><p>\n",
              "\n",
              "    <div>\n",
              "        <style>\n",
              "            /* Turns off some styling */\n",
              "            progress {\n",
              "                /* gets rid of default border in Firefox and Opera. */\n",
              "                border: none;\n",
              "                /* Needs to be in here for Safari polyfill so background images work as expected. */\n",
              "                background-size: auto;\n",
              "            }\n",
              "            .progress-bar-interrupted, .progress-bar-interrupted::-webkit-progress-bar {\n",
              "                background: #F44336;\n",
              "            }\n",
              "        </style>\n",
              "      <progress value='99' class='' max='13492', style='width:300px; height:20px; vertical-align: middle;'></progress>\n",
              "      0.73% [99/13492 00:10<23:41 4.4729]\n",
              "    </div>\n",
              "    "
            ],
            "text/plain": [
              "<IPython.core.display.HTML object>"
            ]
          },
          "metadata": {
            "tags": []
          }
        },
        {
          "output_type": "stream",
          "text": [
            "LR Finder is complete, type {learner_name}.recorder.plot() to see the graph.\n"
          ],
          "name": "stdout"
        },
        {
          "output_type": "display_data",
          "data": {
            "image/png": "[encoded data removed]",
            "text/plain": [
              "<Figure size 432x288 with 1 Axes>"
            ]
          },
          "metadata": {
            "tags": []
          }
        }
      ]
    },
    {
      "cell_type": "code",
      "metadata": {
        "id": "5sMSTL0VY_cM",
        "colab_type": "code",
        "outputId": "e8f4486d-7201-4c20-bf29-bca84e7770b8",
        "colab": {
          "base_uri": "https://localhost:8080/",
          "height": 80
        }
      },
      "source": [
        "learn.fit_one_cycle(1, 1e-2, moms=(0.8,0.7))"
      ],
      "execution_count": 0,
      "outputs": [
        {
          "output_type": "display_data",
          "data": {
            "text/html": [
              "<table border=\"1\" class=\"dataframe\">\n",
              "  <thead>\n",
              "    <tr style=\"text-align: left;\">\n",
              "      <th>epoch</th>\n",
              "      <th>train_loss</th>\n",
              "      <th>valid_loss</th>\n",
              "      <th>accuracy</th>\n",
              "      <th>time</th>\n",
              "    </tr>\n",
              "  </thead>\n",
              "  <tbody>\n",
              "    <tr>\n",
              "      <td>0</td>\n",
              "      <td>1.150070</td>\n",
              "      <td>0.944705</td>\n",
              "      <td>0.744644</td>\n",
              "      <td>23:35</td>\n",
              "    </tr>\n",
              "  </tbody>\n",
              "</table>"
            ],
            "text/plain": [
              "<IPython.core.display.HTML object>"
            ]
          },
          "metadata": {
            "tags": []
          }
        }
      ]
    },
    {
      "cell_type": "code",
      "metadata": {
        "id": "MiwXUm1rlPhX",
        "colab_type": "code",
        "colab": {}
      },
      "source": [
        "path_models1 = '/content/gdrive/My Drive/DCNN/Smart Contracts/weights2/encoder/'\n"
      ],
      "execution_count": 0,
      "outputs": []
    },
    {
      "cell_type": "code",
      "metadata": {
        "id": "1vA_QCf-aujN",
        "colab_type": "code",
        "colab": {}
      },
      "source": [
        "learn.save_encoder(path_models1 + 'initial_enc-1-epochs-complete')"
      ],
      "execution_count": 0,
      "outputs": []
    },
    {
      "cell_type": "code",
      "metadata": {
        "id": "gvyLtk60T6tq",
        "colab_type": "code",
        "colab": {}
      },
      "source": [
        "learn.save(path_models1 + 'fit_head')"
      ],
      "execution_count": 0,
      "outputs": []
    },
    {
      "cell_type": "code",
      "metadata": {
        "id": "4LvJwBv-T6qo",
        "colab_type": "code",
        "colab": {}
      },
      "source": [
        "learn.load(path_models1 + 'fit_head');"
      ],
      "execution_count": 0,
      "outputs": []
    },
    {
      "cell_type": "code",
      "metadata": {
        "id": "mHVl1ExrT6nT",
        "colab_type": "code",
        "colab": {}
      },
      "source": [
        "learn.unfreeze()"
      ],
      "execution_count": 0,
      "outputs": []
    },
    {
      "cell_type": "code",
      "metadata": {
        "id": "8jWTpH4CT6kG",
        "colab_type": "code",
        "outputId": "470ed8e3-5111-418d-f348-809572233620",
        "colab": {
          "base_uri": "https://localhost:8080/",
          "height": 142
        }
      },
      "source": [
        "learn.fit_one_cycle(3, 5e-2, moms=(0.8,0.7))"
      ],
      "execution_count": 0,
      "outputs": [
        {
          "output_type": "display_data",
          "data": {
            "text/html": [
              "<table border=\"1\" class=\"dataframe\">\n",
              "  <thead>\n",
              "    <tr style=\"text-align: left;\">\n",
              "      <th>epoch</th>\n",
              "      <th>train_loss</th>\n",
              "      <th>valid_loss</th>\n",
              "      <th>accuracy</th>\n",
              "      <th>time</th>\n",
              "    </tr>\n",
              "  </thead>\n",
              "  <tbody>\n",
              "    <tr>\n",
              "      <td>0</td>\n",
              "      <td>1.209170</td>\n",
              "      <td>1.034891</td>\n",
              "      <td>0.729575</td>\n",
              "      <td>18:42</td>\n",
              "    </tr>\n",
              "    <tr>\n",
              "      <td>1</td>\n",
              "      <td>1.188855</td>\n",
              "      <td>0.965753</td>\n",
              "      <td>0.742357</td>\n",
              "      <td>18:42</td>\n",
              "    </tr>\n",
              "    <tr>\n",
              "      <td>2</td>\n",
              "      <td>1.183764</td>\n",
              "      <td>0.906401</td>\n",
              "      <td>0.756119</td>\n",
              "      <td>18:43</td>\n",
              "    </tr>\n",
              "  </tbody>\n",
              "</table>"
            ],
            "text/plain": [
              "<IPython.core.display.HTML object>"
            ]
          },
          "metadata": {
            "tags": []
          }
        }
      ]
    },
    {
      "cell_type": "code",
      "metadata": {
        "id": "kMZxRerHlV8W",
        "colab_type": "code",
        "colab": {}
      },
      "source": [
        "learn.save(path_models1 + 'fit_head_2')"
      ],
      "execution_count": 0,
      "outputs": []
    },
    {
      "cell_type": "code",
      "metadata": {
        "id": "blCmLAWA_yUD",
        "colab_type": "code",
        "colab": {}
      },
      "source": [
        "learn.save_encoder(path_models1 + 'initial_enc-4-epochs-1e-3-complete-2')"
      ],
      "execution_count": 0,
      "outputs": []
    },
    {
      "cell_type": "code",
      "metadata": {
        "id": "HI5Deo4plIeS",
        "colab_type": "code",
        "colab": {}
      },
      "source": [
        ""
      ],
      "execution_count": 0,
      "outputs": []
    },
    {
      "cell_type": "code",
      "metadata": {
        "id": "xlKQ-yIAXkhL",
        "colab_type": "code",
        "outputId": "0d4d6417-e87b-4b63-d36b-13c7c88ad060",
        "colab": {
          "base_uri": "https://localhost:8080/",
          "height": 142
        }
      },
      "source": [
        "learn.fit_one_cycle(3, 7e-2, moms=(0.8,0.7))"
      ],
      "execution_count": 0,
      "outputs": [
        {
          "output_type": "display_data",
          "data": {
            "text/html": [
              "<table border=\"1\" class=\"dataframe\">\n",
              "  <thead>\n",
              "    <tr style=\"text-align: left;\">\n",
              "      <th>epoch</th>\n",
              "      <th>train_loss</th>\n",
              "      <th>valid_loss</th>\n",
              "      <th>accuracy</th>\n",
              "      <th>time</th>\n",
              "    </tr>\n",
              "  </thead>\n",
              "  <tbody>\n",
              "    <tr>\n",
              "      <td>0</td>\n",
              "      <td>1.370107</td>\n",
              "      <td>1.062524</td>\n",
              "      <td>0.718436</td>\n",
              "      <td>18:44</td>\n",
              "    </tr>\n",
              "    <tr>\n",
              "      <td>1</td>\n",
              "      <td>1.190393</td>\n",
              "      <td>0.980381</td>\n",
              "      <td>0.739281</td>\n",
              "      <td>18:43</td>\n",
              "    </tr>\n",
              "    <tr>\n",
              "      <td>2</td>\n",
              "      <td>1.152859</td>\n",
              "      <td>0.901615</td>\n",
              "      <td>0.757573</td>\n",
              "      <td>18:41</td>\n",
              "    </tr>\n",
              "  </tbody>\n",
              "</table>"
            ],
            "text/plain": [
              "<IPython.core.display.HTML object>"
            ]
          },
          "metadata": {
            "tags": []
          }
        }
      ]
    },
    {
      "cell_type": "code",
      "metadata": {
        "id": "GVERllnPT6gh",
        "colab_type": "code",
        "colab": {}
      },
      "source": [
        "learn.save(path_models1 + 'fine_tuned-ver-2')\n",
        "learn.save_encoder(path_models1 + 'initial_enc-7-epochs-1e-3-complete-2')"
      ],
      "execution_count": 0,
      "outputs": []
    },
    {
      "cell_type": "code",
      "metadata": {
        "id": "mk8Um7XLhugK",
        "colab_type": "code",
        "colab": {}
      },
      "source": [
        "learn.load_encoder(path_models1 + 'initial_enc-5-epochs-1e-3-complete-2');"
      ],
      "execution_count": 0,
      "outputs": []
    },
    {
      "cell_type": "code",
      "metadata": {
        "id": "LfyLJBVMW4zZ",
        "colab_type": "code",
        "colab": {}
      },
      "source": [
        "learn.load(path_models1 + 'fine_tuned-ver-2');"
      ],
      "execution_count": 0,
      "outputs": []
    },
    {
      "cell_type": "code",
      "metadata": {
        "id": "by82pkEGgq4S",
        "colab_type": "code",
        "outputId": "7f7ff29a-8789-4fd3-a375-d1467b8cd54f",
        "colab": {
          "base_uri": "https://localhost:8080/",
          "height": 111
        }
      },
      "source": [
        "learn.fit_one_cycle(2, 3e-2, moms=(0.8,0.7))"
      ],
      "execution_count": 0,
      "outputs": [
        {
          "output_type": "display_data",
          "data": {
            "text/html": [
              "<table border=\"1\" class=\"dataframe\">\n",
              "  <thead>\n",
              "    <tr style=\"text-align: left;\">\n",
              "      <th>epoch</th>\n",
              "      <th>train_loss</th>\n",
              "      <th>valid_loss</th>\n",
              "      <th>accuracy</th>\n",
              "      <th>time</th>\n",
              "    </tr>\n",
              "  </thead>\n",
              "  <tbody>\n",
              "    <tr>\n",
              "      <td>0</td>\n",
              "      <td>1.099067</td>\n",
              "      <td>0.952350</td>\n",
              "      <td>0.746386</td>\n",
              "      <td>18:43</td>\n",
              "    </tr>\n",
              "    <tr>\n",
              "      <td>1</td>\n",
              "      <td>1.167776</td>\n",
              "      <td>0.891738</td>\n",
              "      <td>0.760354</td>\n",
              "      <td>18:43</td>\n",
              "    </tr>\n",
              "  </tbody>\n",
              "</table>"
            ],
            "text/plain": [
              "<IPython.core.display.HTML object>"
            ]
          },
          "metadata": {
            "tags": []
          }
        }
      ]
    },
    {
      "cell_type": "code",
      "metadata": {
        "id": "BH5-VQm6Hc_Z",
        "colab_type": "code",
        "colab": {}
      },
      "source": [
        "learn.save(path_models1 + 'fine_tuned-final')\n",
        "learn.save_encoder(path_models1 + 'initial_enc-9-epochs-3e-2-complete-2')"
      ],
      "execution_count": 0,
      "outputs": []
    },
    {
      "cell_type": "code",
      "metadata": {
        "id": "Ou1EBuJBTHYP",
        "colab_type": "code",
        "outputId": "e79326ca-22ab-42a0-99fd-47d7ac6b463a",
        "colab": {
          "base_uri": "https://localhost:8080/",
          "height": 17
        }
      },
      "source": [
        "############# Classifier\n",
        "###########  Main code for classifier data\n",
        "\n",
        "bs = 32\n",
        "\n",
        "data_lm = data\n",
        "csv_path = '/content/gdrive/My Drive/DCNN/Smart Contracts/'\n",
        "classifier_data = (TextList.from_df(df, csv_path, cols=['OPCODE','CATEGORY'], vocab=data_lm.vocab)\n",
        "                    .split_by_rand_pct(0.15, seed = 42)\n",
        "                    .label_from_df(cols='CATEGORY', label_delim='|')\n",
        "                    .databunch(bs=bs))\n",
        "path_models = '/content/gdrive/My Drive/Smart Contracts/models/Smart_Contracts'\n",
        "\n",
        "test_df = pd.read_csv('/content/gdrive/My Drive/DCNN/Smart Contracts/test_final.csv')\n",
        "classifier_data.add_test(test_df['OPCODE'])"
      ],
      "execution_count": 0,
      "outputs": [
        {
          "output_type": "display_data",
          "data": {
            "text/html": [
              ""
            ],
            "text/plain": [
              "<IPython.core.display.HTML object>"
            ]
          },
          "metadata": {
            "tags": []
          }
        },
        {
          "output_type": "display_data",
          "data": {
            "text/html": [
              ""
            ],
            "text/plain": [
              "<IPython.core.display.HTML object>"
            ]
          },
          "metadata": {
            "tags": []
          }
        },
        {
          "output_type": "display_data",
          "data": {
            "text/html": [
              ""
            ],
            "text/plain": [
              "<IPython.core.display.HTML object>"
            ]
          },
          "metadata": {
            "tags": []
          }
        }
      ]
    },
    {
      "cell_type": "code",
      "metadata": {
        "id": "e1gaj2YTys3C",
        "colab_type": "code",
        "outputId": "025fc78b-fa06-4ce0-dc87-6a9269b53888",
        "colab": {
          "base_uri": "https://localhost:8080/",
          "height": 17
        }
      },
      "source": [
        ""
      ],
      "execution_count": 0,
      "outputs": [
        {
          "output_type": "display_data",
          "data": {
            "text/html": [
              ""
            ],
            "text/plain": [
              "<IPython.core.display.HTML object>"
            ]
          },
          "metadata": {
            "tags": []
          }
        }
      ]
    },
    {
      "cell_type": "code",
      "metadata": {
        "id": "xjhueyjjCMvV",
        "colab_type": "code",
        "outputId": "4e425c9d-6012-4795-bda9-d39183e857ab",
        "colab": {
          "base_uri": "https://localhost:8080/",
          "height": 231
        }
      },
      "source": [
        "bs = 32\n",
        "\n",
        "data_lm = data\n",
        "csv_path = '/content/gdrive/My Drive/DCNN/Smart Contracts/'\n",
        "test_df = pd.read_csv('/content/gdrive/My Drive/DCNN/Smart Contracts/test_final.csv')\n",
        "\n",
        "#classifier_data = (TextList.from_df(test_df, csv_path, cols=['OPCODE','CATEGORY'], vocab=data_lm.vocab)\n",
        "                    .split_by_rand_pct(0.1, seed = 42)\n",
        "                    .label_from_df(cols='CATEGORY', label_delim='|')\n",
        "                    .databunch(bs=bs))\n",
        "path_models = '/content/gdrive/My Drive/Smart Contracts/models/Smart_Contracts'"
      ],
      "execution_count": 0,
      "outputs": [
        {
          "output_type": "error",
          "ename": "NameError",
          "evalue": "ignored",
          "traceback": [
            "\u001b[0;31m---------------------------------------------------------------------------\u001b[0m",
            "\u001b[0;31mNameError\u001b[0m                                 Traceback (most recent call last)",
            "\u001b[0;32m<ipython-input-15-07c521c9311c>\u001b[0m in \u001b[0;36m<module>\u001b[0;34m()\u001b[0m\n\u001b[1;32m      1\u001b[0m \u001b[0mbs\u001b[0m \u001b[0;34m=\u001b[0m \u001b[0;36m32\u001b[0m\u001b[0;34m\u001b[0m\u001b[0;34m\u001b[0m\u001b[0m\n\u001b[1;32m      2\u001b[0m \u001b[0;34m\u001b[0m\u001b[0m\n\u001b[0;32m----> 3\u001b[0;31m \u001b[0mdata_lm\u001b[0m \u001b[0;34m=\u001b[0m \u001b[0mdata\u001b[0m\u001b[0;34m\u001b[0m\u001b[0;34m\u001b[0m\u001b[0m\n\u001b[0m\u001b[1;32m      4\u001b[0m \u001b[0mcsv_path\u001b[0m \u001b[0;34m=\u001b[0m \u001b[0;34m'/content/gdrive/My Drive/DCNN/Smart Contracts/'\u001b[0m\u001b[0;34m\u001b[0m\u001b[0;34m\u001b[0m\u001b[0m\n\u001b[1;32m      5\u001b[0m \u001b[0mtest_df\u001b[0m \u001b[0;34m=\u001b[0m \u001b[0mpd\u001b[0m\u001b[0;34m.\u001b[0m\u001b[0mread_csv\u001b[0m\u001b[0;34m(\u001b[0m\u001b[0;34m'/content/gdrive/My Drive/DCNN/Smart Contracts/test_final.csv'\u001b[0m\u001b[0;34m)\u001b[0m\u001b[0;34m\u001b[0m\u001b[0;34m\u001b[0m\u001b[0m\n",
            "\u001b[0;31mNameError\u001b[0m: name 'data' is not defined"
          ]
        }
      ]
    },
    {
      "cell_type": "code",
      "metadata": {
        "id": "kCnlwbgFa4Xf",
        "colab_type": "code",
        "outputId": "20caf77f-2980-425e-cbdd-37bed69dc626",
        "colab": {
          "base_uri": "https://localhost:8080/",
          "height": 34
        }
      },
      "source": [
        "learner = text_classifier_learner(classifier_data, AWD_LSTM, drop_mult=1.0, metrics=fbeta)"
      ],
      "execution_count": 0,
      "outputs": [
        {
          "output_type": "stream",
          "text": [
            "Downloading https://s3.amazonaws.com/fast-ai-modelzoo/wt103-fwd\n"
          ],
          "name": "stdout"
        },
        {
          "output_type": "display_data",
          "data": {
            "text/html": [
              ""
            ],
            "text/plain": [
              "<IPython.core.display.HTML object>"
            ]
          },
          "metadata": {
            "tags": []
          }
        }
      ]
    },
    {
      "cell_type": "code",
      "metadata": {
        "id": "6HbowDN6a4Uc",
        "colab_type": "code",
        "colab": {}
      },
      "source": [
        "#learner.load_encoder(path_models + 'initial_enc-2-epochs-1e-3-complete-2')\n",
        "#path_models = '/content/gdrive/My Drive/smart contracts/models/'\n",
        "\n",
        "path_models1 = '/content/gdrive/My Drive/DCNN/Smart Contracts/weights2/encoder/'\n",
        "\n",
        "learner.load_encoder(path_models1 + 'initial_enc-9-epochs-3e-2-complete-2');\n",
        "learner.freeze()"
      ],
      "execution_count": 0,
      "outputs": []
    },
    {
      "cell_type": "code",
      "metadata": {
        "id": "VTjtqEw6eQ0I",
        "colab_type": "code",
        "colab": {}
      },
      "source": [
        ""
      ],
      "execution_count": 0,
      "outputs": []
    },
    {
      "cell_type": "code",
      "metadata": {
        "colab_type": "code",
        "outputId": "fac1bf4d-39c9-40c1-b0bd-a8948a20221f",
        "id": "RAkwqkvmeRR4",
        "colab": {
          "base_uri": "https://localhost:8080/",
          "height": 374
        }
      },
      "source": [
        "## Learning Rate Scheduler for Classifier\n",
        "learner.lr_find()\n",
        "learner.recorder.plot()"
      ],
      "execution_count": 0,
      "outputs": [
        {
          "output_type": "display_data",
          "data": {
            "text/html": [
              "\n",
              "    <div>\n",
              "        <style>\n",
              "            /* Turns off some styling */\n",
              "            progress {\n",
              "                /* gets rid of default border in Firefox and Opera. */\n",
              "                border: none;\n",
              "                /* Needs to be in here for Safari polyfill so background images work as expected. */\n",
              "                background-size: auto;\n",
              "            }\n",
              "            .progress-bar-interrupted, .progress-bar-interrupted::-webkit-progress-bar {\n",
              "                background: #F44336;\n",
              "            }\n",
              "        </style>\n",
              "      <progress value='0' class='' max='1', style='width:300px; height:20px; vertical-align: middle;'></progress>\n",
              "      0.00% [0/1 00:00<00:00]\n",
              "    </div>\n",
              "    \n",
              "<table border=\"1\" class=\"dataframe\">\n",
              "  <thead>\n",
              "    <tr style=\"text-align: left;\">\n",
              "      <th>epoch</th>\n",
              "      <th>train_loss</th>\n",
              "      <th>valid_loss</th>\n",
              "      <th>fbeta</th>\n",
              "      <th>time</th>\n",
              "    </tr>\n",
              "  </thead>\n",
              "  <tbody>\n",
              "  </tbody>\n",
              "</table><p>\n",
              "\n",
              "    <div>\n",
              "        <style>\n",
              "            /* Turns off some styling */\n",
              "            progress {\n",
              "                /* gets rid of default border in Firefox and Opera. */\n",
              "                border: none;\n",
              "                /* Needs to be in here for Safari polyfill so background images work as expected. */\n",
              "                background-size: auto;\n",
              "            }\n",
              "            .progress-bar-interrupted, .progress-bar-interrupted::-webkit-progress-bar {\n",
              "                background: #F44336;\n",
              "            }\n",
              "        </style>\n",
              "      <progress value='96' class='' max='919', style='width:300px; height:20px; vertical-align: middle;'></progress>\n",
              "      10.45% [96/919 01:47<15:24 2.0429]\n",
              "    </div>\n",
              "    "
            ],
            "text/plain": [
              "<IPython.core.display.HTML object>"
            ]
          },
          "metadata": {
            "tags": []
          }
        },
        {
          "output_type": "stream",
          "text": [
            "LR Finder is complete, type {learner_name}.recorder.plot() to see the graph.\n"
          ],
          "name": "stdout"
        },
        {
          "output_type": "display_data",
          "data": {
            "image/png": "[encoded data removed]",
            "text/plain": [
              "<Figure size 432x288 with 1 Axes>"
            ]
          },
          "metadata": {
            "tags": []
          }
        }
      ]
    },
    {
      "cell_type": "code",
      "metadata": {
        "colab_type": "code",
        "outputId": "5846bfdc-7b8a-4c7d-c47c-16eec99e4bc0",
        "id": "nfCjNCV00Mxd",
        "colab": {
          "base_uri": "https://localhost:8080/",
          "height": 111
        }
      },
      "source": [
        "lr = 6e-2\n",
        "learner.fit_one_cycle(2,slice(lr/(2.6**4),lr), moms=(0.8,0.7) )"
      ],
      "execution_count": 0,
      "outputs": [
        {
          "output_type": "display_data",
          "data": {
            "text/html": [
              "<table border=\"1\" class=\"dataframe\">\n",
              "  <thead>\n",
              "    <tr style=\"text-align: left;\">\n",
              "      <th>epoch</th>\n",
              "      <th>train_loss</th>\n",
              "      <th>valid_loss</th>\n",
              "      <th>fbeta</th>\n",
              "      <th>time</th>\n",
              "    </tr>\n",
              "  </thead>\n",
              "  <tbody>\n",
              "    <tr>\n",
              "      <td>0</td>\n",
              "      <td>0.200910</td>\n",
              "      <td>29.579208</td>\n",
              "      <td>0.911231</td>\n",
              "      <td>23:08</td>\n",
              "    </tr>\n",
              "    <tr>\n",
              "      <td>1</td>\n",
              "      <td>0.158925</td>\n",
              "      <td>1.395412</td>\n",
              "      <td>0.954207</td>\n",
              "      <td>22:26</td>\n",
              "    </tr>\n",
              "  </tbody>\n",
              "</table>"
            ],
            "text/plain": [
              "<IPython.core.display.HTML object>"
            ]
          },
          "metadata": {
            "tags": []
          }
        }
      ]
    },
    {
      "cell_type": "code",
      "metadata": {
        "colab_type": "code",
        "id": "krb-0qW30Mxi",
        "colab": {}
      },
      "source": [
        "learner.save('/content/gdrive/My Drive/DCNN/Smart Contracts/weights2/classifier/classifier-2-epochs-8e-2')"
      ],
      "execution_count": 0,
      "outputs": []
    },
    {
      "cell_type": "code",
      "metadata": {
        "id": "SRZHJbxQXFnU",
        "colab_type": "code",
        "colab": {}
      },
      "source": [
        "learner.load('/content/gdrive/My Drive/DCNN/Smart Contracts/weights2/classifier/classifier-2-epochs-8e-2');"
      ],
      "execution_count": 0,
      "outputs": []
    },
    {
      "cell_type": "code",
      "metadata": {
        "colab_type": "code",
        "outputId": "10a880ec-4a38-41c9-a1d5-a6db9c941ed0",
        "id": "cL8MXlQf0Mxn",
        "colab": {
          "base_uri": "https://localhost:8080/",
          "height": 235
        }
      },
      "source": [
        "learner.freeze_to(-2)\n",
        "lr = 5e-2\n",
        "learner.fit_one_cycle(6,slice(lr/(2.6**4),lr), moms=(0.8,0.7) )"
      ],
      "execution_count": 0,
      "outputs": [
        {
          "output_type": "display_data",
          "data": {
            "text/html": [
              "<table border=\"1\" class=\"dataframe\">\n",
              "  <thead>\n",
              "    <tr style=\"text-align: left;\">\n",
              "      <th>epoch</th>\n",
              "      <th>train_loss</th>\n",
              "      <th>valid_loss</th>\n",
              "      <th>fbeta</th>\n",
              "      <th>time</th>\n",
              "    </tr>\n",
              "  </thead>\n",
              "  <tbody>\n",
              "    <tr>\n",
              "      <td>0</td>\n",
              "      <td>0.168052</td>\n",
              "      <td>0.148936</td>\n",
              "      <td>0.947752</td>\n",
              "      <td>26:12</td>\n",
              "    </tr>\n",
              "    <tr>\n",
              "      <td>1</td>\n",
              "      <td>0.198472</td>\n",
              "      <td>2.447259</td>\n",
              "      <td>0.916079</td>\n",
              "      <td>22:07</td>\n",
              "    </tr>\n",
              "    <tr>\n",
              "      <td>2</td>\n",
              "      <td>0.177667</td>\n",
              "      <td>0.197151</td>\n",
              "      <td>0.957386</td>\n",
              "      <td>20:57</td>\n",
              "    </tr>\n",
              "    <tr>\n",
              "      <td>3</td>\n",
              "      <td>0.148902</td>\n",
              "      <td>0.366099</td>\n",
              "      <td>0.951807</td>\n",
              "      <td>23:36</td>\n",
              "    </tr>\n",
              "    <tr>\n",
              "      <td>4</td>\n",
              "      <td>0.109622</td>\n",
              "      <td>0.257642</td>\n",
              "      <td>0.957648</td>\n",
              "      <td>22:16</td>\n",
              "    </tr>\n",
              "    <tr>\n",
              "      <td>5</td>\n",
              "      <td>0.094885</td>\n",
              "      <td>0.290410</td>\n",
              "      <td>0.960629</td>\n",
              "      <td>26:18</td>\n",
              "    </tr>\n",
              "  </tbody>\n",
              "</table>"
            ],
            "text/plain": [
              "<IPython.core.display.HTML object>"
            ]
          },
          "metadata": {
            "tags": []
          }
        }
      ]
    },
    {
      "cell_type": "code",
      "metadata": {
        "colab_type": "code",
        "id": "7YYjF_TU0Mxq",
        "colab": {}
      },
      "source": [
        "learner.save('/content/gdrive/My Drive/DCNN/Smart Contracts/weights2/classifier/classifier-8-epochs-6e-2')"
      ],
      "execution_count": 0,
      "outputs": []
    },
    {
      "cell_type": "code",
      "metadata": {
        "id": "m0Hp2D1_XZky",
        "colab_type": "code",
        "colab": {}
      },
      "source": [
        "learner.freeze_to(-2)\n",
        "lr = 4e-2\n",
        "learner.fit_one_cycle(3,slice(lr/(2.6**4),lr), moms=(0.8,0.7) )"
      ],
      "execution_count": 0,
      "outputs": []
    },
    {
      "cell_type": "code",
      "metadata": {
        "id": "RgqWEcdrzy9A",
        "colab_type": "code",
        "colab": {}
      },
      "source": [
        "learner.load('/content/gdrive/My Drive/DCNN/Smart Contracts/weights2/classifier/classifier-8-epochs-6e-2');"
      ],
      "execution_count": 0,
      "outputs": []
    },
    {
      "cell_type": "code",
      "metadata": {
        "id": "2BPdcyHrGeW9",
        "colab_type": "code",
        "outputId": "e63e2676-c752-4b54-e636-323f5b166e4f",
        "colab": {
          "base_uri": "https://localhost:8080/",
          "height": 297
        }
      },
      "source": [
        "learner.freeze_to(-2)\n",
        "lr = 2e-2\n",
        "learner.fit_one_cycle(8,slice(lr/(2.6**4),lr), moms=(0.8,0.7) )"
      ],
      "execution_count": 0,
      "outputs": [
        {
          "output_type": "display_data",
          "data": {
            "text/html": [
              "<table border=\"1\" class=\"dataframe\">\n",
              "  <thead>\n",
              "    <tr style=\"text-align: left;\">\n",
              "      <th>epoch</th>\n",
              "      <th>train_loss</th>\n",
              "      <th>valid_loss</th>\n",
              "      <th>fbeta</th>\n",
              "      <th>time</th>\n",
              "    </tr>\n",
              "  </thead>\n",
              "  <tbody>\n",
              "    <tr>\n",
              "      <td>0</td>\n",
              "      <td>0.266888</td>\n",
              "      <td>0.239058</td>\n",
              "      <td>0.859313</td>\n",
              "      <td>14:36</td>\n",
              "    </tr>\n",
              "    <tr>\n",
              "      <td>1</td>\n",
              "      <td>0.261146</td>\n",
              "      <td>0.258069</td>\n",
              "      <td>0.845633</td>\n",
              "      <td>14:48</td>\n",
              "    </tr>\n",
              "    <tr>\n",
              "      <td>2</td>\n",
              "      <td>0.235062</td>\n",
              "      <td>0.645966</td>\n",
              "      <td>0.812774</td>\n",
              "      <td>15:03</td>\n",
              "    </tr>\n",
              "    <tr>\n",
              "      <td>3</td>\n",
              "      <td>0.228965</td>\n",
              "      <td>1.317821</td>\n",
              "      <td>0.859441</td>\n",
              "      <td>13:39</td>\n",
              "    </tr>\n",
              "    <tr>\n",
              "      <td>4</td>\n",
              "      <td>0.297417</td>\n",
              "      <td>0.453616</td>\n",
              "      <td>0.746500</td>\n",
              "      <td>14:00</td>\n",
              "    </tr>\n",
              "    <tr>\n",
              "      <td>5</td>\n",
              "      <td>0.247945</td>\n",
              "      <td>1.328849</td>\n",
              "      <td>0.767592</td>\n",
              "      <td>15:14</td>\n",
              "    </tr>\n",
              "    <tr>\n",
              "      <td>6</td>\n",
              "      <td>0.253861</td>\n",
              "      <td>0.263845</td>\n",
              "      <td>0.844661</td>\n",
              "      <td>14:27</td>\n",
              "    </tr>\n",
              "    <tr>\n",
              "      <td>7</td>\n",
              "      <td>0.249409</td>\n",
              "      <td>0.211204</td>\n",
              "      <td>0.868915</td>\n",
              "      <td>16:01</td>\n",
              "    </tr>\n",
              "  </tbody>\n",
              "</table>"
            ],
            "text/plain": [
              "<IPython.core.display.HTML object>"
            ]
          },
          "metadata": {
            "tags": []
          }
        }
      ]
    },
    {
      "cell_type": "code",
      "metadata": {
        "id": "JBaNoQ6fGiUR",
        "colab_type": "code",
        "colab": {}
      },
      "source": [
        "#### latest\n",
        "learner.load('/content/gdrive/My Drive/DCNN/Smart Contracts/weights2/classifier3/classifier-19-epochs-2e-2-over');"
      ],
      "execution_count": 0,
      "outputs": []
    },
    {
      "cell_type": "code",
      "metadata": {
        "id": "epe-K2JI-qb3",
        "colab_type": "code",
        "outputId": "b1e02663-6ef4-43da-afa4-a1ef30ef20e0",
        "colab": {
          "base_uri": "https://localhost:8080/",
          "height": 297
        }
      },
      "source": [
        "learner.freeze_to(-2)\n",
        "lr = 9e-3\n",
        "learner.fit_one_cycle(8,slice(lr/(2.6**4),lr), moms=(0.8,0.7) )\n",
        "learner.save('/content/gdrive/My Drive/DCNN/Smart Contracts/weights2/classifier/classifier-27-epochs-9e-3-over')"
      ],
      "execution_count": 0,
      "outputs": [
        {
          "output_type": "display_data",
          "data": {
            "text/html": [
              "<table border=\"1\" class=\"dataframe\">\n",
              "  <thead>\n",
              "    <tr style=\"text-align: left;\">\n",
              "      <th>epoch</th>\n",
              "      <th>train_loss</th>\n",
              "      <th>valid_loss</th>\n",
              "      <th>fbeta</th>\n",
              "      <th>time</th>\n",
              "    </tr>\n",
              "  </thead>\n",
              "  <tbody>\n",
              "    <tr>\n",
              "      <td>0</td>\n",
              "      <td>0.221210</td>\n",
              "      <td>0.211287</td>\n",
              "      <td>0.874952</td>\n",
              "      <td>13:41</td>\n",
              "    </tr>\n",
              "    <tr>\n",
              "      <td>1</td>\n",
              "      <td>0.245311</td>\n",
              "      <td>0.220429</td>\n",
              "      <td>0.863845</td>\n",
              "      <td>13:14</td>\n",
              "    </tr>\n",
              "    <tr>\n",
              "      <td>2</td>\n",
              "      <td>0.228474</td>\n",
              "      <td>2.533499</td>\n",
              "      <td>0.829393</td>\n",
              "      <td>16:01</td>\n",
              "    </tr>\n",
              "    <tr>\n",
              "      <td>3</td>\n",
              "      <td>0.223169</td>\n",
              "      <td>0.197939</td>\n",
              "      <td>0.879665</td>\n",
              "      <td>14:11</td>\n",
              "    </tr>\n",
              "    <tr>\n",
              "      <td>4</td>\n",
              "      <td>0.248685</td>\n",
              "      <td>0.203557</td>\n",
              "      <td>0.866314</td>\n",
              "      <td>17:09</td>\n",
              "    </tr>\n",
              "    <tr>\n",
              "      <td>5</td>\n",
              "      <td>0.205611</td>\n",
              "      <td>0.175383</td>\n",
              "      <td>0.887526</td>\n",
              "      <td>16:01</td>\n",
              "    </tr>\n",
              "    <tr>\n",
              "      <td>6</td>\n",
              "      <td>0.236463</td>\n",
              "      <td>0.173088</td>\n",
              "      <td>0.883535</td>\n",
              "      <td>15:59</td>\n",
              "    </tr>\n",
              "    <tr>\n",
              "      <td>7</td>\n",
              "      <td>0.209390</td>\n",
              "      <td>0.178778</td>\n",
              "      <td>0.876782</td>\n",
              "      <td>17:24</td>\n",
              "    </tr>\n",
              "  </tbody>\n",
              "</table>"
            ],
            "text/plain": [
              "<IPython.core.display.HTML object>"
            ]
          },
          "metadata": {
            "tags": []
          }
        }
      ]
    },
    {
      "cell_type": "code",
      "metadata": {
        "id": "19u7oi_OXMX8",
        "colab_type": "code",
        "colab": {}
      },
      "source": [
        "learner.load('/content/gdrive/My Drive/DCNN/Smart Contracts/weights2/classifier/classifier-27-epochs-9e-3-over');"
      ],
      "execution_count": 0,
      "outputs": []
    },
    {
      "cell_type": "code",
      "metadata": {
        "id": "DEH9Cdp38Cdi",
        "colab_type": "code",
        "outputId": "36f6306d-f2e5-4cb1-de52-30a598722edd",
        "colab": {
          "base_uri": "https://localhost:8080/",
          "height": 204
        }
      },
      "source": [
        "learner.freeze_to(-2)\n",
        "lr = 1e-2\n",
        "learner.fit_one_cycle(5,slice(lr/(2.6**4),lr), moms=(0.8,0.7))\n",
        "learner.save('/content/gdrive/My Drive/DCNN/Smart Contracts/weights2/classifier/classifier-32-epochs-5e-2')"
      ],
      "execution_count": 0,
      "outputs": [
        {
          "output_type": "display_data",
          "data": {
            "text/html": [
              "<table border=\"1\" class=\"dataframe\">\n",
              "  <thead>\n",
              "    <tr style=\"text-align: left;\">\n",
              "      <th>epoch</th>\n",
              "      <th>train_loss</th>\n",
              "      <th>valid_loss</th>\n",
              "      <th>fbeta</th>\n",
              "      <th>time</th>\n",
              "    </tr>\n",
              "  </thead>\n",
              "  <tbody>\n",
              "    <tr>\n",
              "      <td>0</td>\n",
              "      <td>0.222986</td>\n",
              "      <td>0.183770</td>\n",
              "      <td>0.884090</td>\n",
              "      <td>14:39</td>\n",
              "    </tr>\n",
              "    <tr>\n",
              "      <td>1</td>\n",
              "      <td>0.254533</td>\n",
              "      <td>0.344579</td>\n",
              "      <td>0.827814</td>\n",
              "      <td>13:55</td>\n",
              "    </tr>\n",
              "    <tr>\n",
              "      <td>2</td>\n",
              "      <td>0.271457</td>\n",
              "      <td>0.484160</td>\n",
              "      <td>0.825869</td>\n",
              "      <td>16:01</td>\n",
              "    </tr>\n",
              "    <tr>\n",
              "      <td>3</td>\n",
              "      <td>0.207973</td>\n",
              "      <td>0.265062</td>\n",
              "      <td>0.859937</td>\n",
              "      <td>14:58</td>\n",
              "    </tr>\n",
              "    <tr>\n",
              "      <td>4</td>\n",
              "      <td>0.237930</td>\n",
              "      <td>0.177764</td>\n",
              "      <td>0.882347</td>\n",
              "      <td>17:35</td>\n",
              "    </tr>\n",
              "  </tbody>\n",
              "</table>"
            ],
            "text/plain": [
              "<IPython.core.display.HTML object>"
            ]
          },
          "metadata": {
            "tags": []
          }
        }
      ]
    },
    {
      "cell_type": "code",
      "metadata": {
        "id": "UB0g5JgR8hd-",
        "colab_type": "code",
        "outputId": "e880b3f6-6077-47dc-dfb7-179c98c58d71",
        "colab": {
          "base_uri": "https://localhost:8080/",
          "height": 359
        }
      },
      "source": [
        "learner.load('/content/gdrive/My Drive/DCNN/Smart Contracts/weights2/classifier/classifier-32-epochs-5e-2');\n",
        "learner.freeze_to(-3)\n",
        "lr = 1e-2\n",
        "learner.fit_one_cycle(10,slice(lr/(2.6**4),lr), moms=(0.8,0.7) )\n",
        "learner.save('/content/gdrive/My Drive/DCNN/Smart Contracts/weights2/classifier/classifier-42-epochs-5e-2')"
      ],
      "execution_count": 0,
      "outputs": [
        {
          "output_type": "display_data",
          "data": {
            "text/html": [
              "<table border=\"1\" class=\"dataframe\">\n",
              "  <thead>\n",
              "    <tr style=\"text-align: left;\">\n",
              "      <th>epoch</th>\n",
              "      <th>train_loss</th>\n",
              "      <th>valid_loss</th>\n",
              "      <th>fbeta</th>\n",
              "      <th>time</th>\n",
              "    </tr>\n",
              "  </thead>\n",
              "  <tbody>\n",
              "    <tr>\n",
              "      <td>0</td>\n",
              "      <td>0.177238</td>\n",
              "      <td>0.148695</td>\n",
              "      <td>0.960302</td>\n",
              "      <td>12:29</td>\n",
              "    </tr>\n",
              "    <tr>\n",
              "      <td>1</td>\n",
              "      <td>0.177051</td>\n",
              "      <td>0.139857</td>\n",
              "      <td>0.962692</td>\n",
              "      <td>11:11</td>\n",
              "    </tr>\n",
              "    <tr>\n",
              "      <td>2</td>\n",
              "      <td>0.161684</td>\n",
              "      <td>0.135425</td>\n",
              "      <td>0.964918</td>\n",
              "      <td>13:02</td>\n",
              "    </tr>\n",
              "    <tr>\n",
              "      <td>3</td>\n",
              "      <td>0.174451</td>\n",
              "      <td>0.124701</td>\n",
              "      <td>0.968068</td>\n",
              "      <td>12:41</td>\n",
              "    </tr>\n",
              "    <tr>\n",
              "      <td>4</td>\n",
              "      <td>0.155101</td>\n",
              "      <td>0.135842</td>\n",
              "      <td>0.961334</td>\n",
              "      <td>11:57</td>\n",
              "    </tr>\n",
              "    <tr>\n",
              "      <td>5</td>\n",
              "      <td>0.153178</td>\n",
              "      <td>0.132065</td>\n",
              "      <td>0.965081</td>\n",
              "      <td>13:15</td>\n",
              "    </tr>\n",
              "    <tr>\n",
              "      <td>6</td>\n",
              "      <td>0.154783</td>\n",
              "      <td>0.121194</td>\n",
              "      <td>0.966601</td>\n",
              "      <td>13:46</td>\n",
              "    </tr>\n",
              "    <tr>\n",
              "      <td>7</td>\n",
              "      <td>0.155945</td>\n",
              "      <td>0.118097</td>\n",
              "      <td>0.967525</td>\n",
              "      <td>11:50</td>\n",
              "    </tr>\n",
              "    <tr>\n",
              "      <td>8</td>\n",
              "      <td>0.133530</td>\n",
              "      <td>0.120655</td>\n",
              "      <td>0.966873</td>\n",
              "      <td>11:42</td>\n",
              "    </tr>\n",
              "    <tr>\n",
              "      <td>9</td>\n",
              "      <td>0.150391</td>\n",
              "      <td>0.121996</td>\n",
              "      <td>0.967036</td>\n",
              "      <td>11:04</td>\n",
              "    </tr>\n",
              "  </tbody>\n",
              "</table>"
            ],
            "text/plain": [
              "<IPython.core.display.HTML object>"
            ]
          },
          "metadata": {
            "tags": []
          }
        }
      ]
    },
    {
      "cell_type": "code",
      "metadata": {
        "id": "EXJpY4VPgVfZ",
        "colab_type": "code",
        "outputId": "27191171-d7d5-4482-ad10-b6696a5b2266",
        "colab": {
          "base_uri": "https://localhost:8080/",
          "height": 347
        }
      },
      "source": [
        "learner.load('/content/gdrive/My Drive/DCNN/Smart Contracts/weights2/classifier/classifier-42-epochs-5e-2');\n",
        "lr = 2e-2\n",
        "learner.fit_one_cycle(10,slice(lr/(2.6**4),lr), moms=(0.8,0.7) )\n",
        "learner.save('/content/gdrive/My Drive/DCNN/Smart Contracts/weights2/binary/classifier-52-epochs-2e-2');"
      ],
      "execution_count": 0,
      "outputs": [
        {
          "output_type": "display_data",
          "data": {
            "text/html": [
              "<table border=\"1\" class=\"dataframe\">\n",
              "  <thead>\n",
              "    <tr style=\"text-align: left;\">\n",
              "      <th>epoch</th>\n",
              "      <th>train_loss</th>\n",
              "      <th>valid_loss</th>\n",
              "      <th>fbeta</th>\n",
              "      <th>time</th>\n",
              "    </tr>\n",
              "  </thead>\n",
              "  <tbody>\n",
              "    <tr>\n",
              "      <td>0</td>\n",
              "      <td>0.284021</td>\n",
              "      <td>0.206427</td>\n",
              "      <td>0.945856</td>\n",
              "      <td>12:28</td>\n",
              "    </tr>\n",
              "    <tr>\n",
              "      <td>1</td>\n",
              "      <td>0.260642</td>\n",
              "      <td>0.185148</td>\n",
              "      <td>0.951015</td>\n",
              "      <td>11:11</td>\n",
              "    </tr>\n",
              "    <tr>\n",
              "      <td>2</td>\n",
              "      <td>0.256787</td>\n",
              "      <td>0.180328</td>\n",
              "      <td>0.954600</td>\n",
              "      <td>13:04</td>\n",
              "    </tr>\n",
              "    <tr>\n",
              "      <td>3</td>\n",
              "      <td>0.254561</td>\n",
              "      <td>0.188082</td>\n",
              "      <td>0.953622</td>\n",
              "      <td>12:41</td>\n",
              "    </tr>\n",
              "    <tr>\n",
              "      <td>4</td>\n",
              "      <td>0.231221</td>\n",
              "      <td>0.183670</td>\n",
              "      <td>0.950798</td>\n",
              "      <td>11:55</td>\n",
              "    </tr>\n",
              "    <tr>\n",
              "      <td>5</td>\n",
              "      <td>0.236342</td>\n",
              "      <td>0.182349</td>\n",
              "      <td>0.950201</td>\n",
              "      <td>13:10</td>\n",
              "    </tr>\n",
              "    <tr>\n",
              "      <td>6</td>\n",
              "      <td>0.235094</td>\n",
              "      <td>0.192659</td>\n",
              "      <td>0.945259</td>\n",
              "      <td>13:41</td>\n",
              "    </tr>\n",
              "    <tr>\n",
              "      <td>7</td>\n",
              "      <td>0.237727</td>\n",
              "      <td>0.202812</td>\n",
              "      <td>0.943901</td>\n",
              "      <td>11:48</td>\n",
              "    </tr>\n",
              "    <tr>\n",
              "      <td>8</td>\n",
              "      <td>0.211422</td>\n",
              "      <td>0.211175</td>\n",
              "      <td>0.942761</td>\n",
              "      <td>11:41</td>\n",
              "    </tr>\n",
              "    <tr>\n",
              "      <td>9</td>\n",
              "      <td>0.231958</td>\n",
              "      <td>0.197932</td>\n",
              "      <td>0.946834</td>\n",
              "      <td>11:05</td>\n",
              "    </tr>\n",
              "  </tbody>\n",
              "</table>"
            ],
            "text/plain": [
              "<IPython.core.display.HTML object>"
            ]
          },
          "metadata": {
            "tags": []
          }
        }
      ]
    },
    {
      "cell_type": "code",
      "metadata": {
        "id": "1DfakKstpJlA",
        "colab_type": "code",
        "outputId": "77e63e5c-b77e-48d3-d16d-128799f84599",
        "colab": {
          "base_uri": "https://localhost:8080/",
          "height": 238
        }
      },
      "source": [
        "learner.load('/content/gdrive/My Drive/DCNN/Smart Contracts/weights2/classifier/classifier-52-epochs-2e-2');\n",
        "lr = 9e-3\n",
        "learner.freeze_to(-2)\n",
        "learner.fit_one_cycle(6,slice(lr/(2.6**4),lr), moms=(0.8,0.7) )"
      ],
      "execution_count": 0,
      "outputs": [
        {
          "output_type": "display_data",
          "data": {
            "text/html": [
              "<table border=\"1\" class=\"dataframe\">\n",
              "  <thead>\n",
              "    <tr style=\"text-align: left;\">\n",
              "      <th>epoch</th>\n",
              "      <th>train_loss</th>\n",
              "      <th>valid_loss</th>\n",
              "      <th>fbeta</th>\n",
              "      <th>time</th>\n",
              "    </tr>\n",
              "  </thead>\n",
              "  <tbody>\n",
              "    <tr>\n",
              "      <td>0</td>\n",
              "      <td>0.091840</td>\n",
              "      <td>0.081329</td>\n",
              "      <td>0.959927</td>\n",
              "      <td>40:09</td>\n",
              "    </tr>\n",
              "    <tr>\n",
              "      <td>1</td>\n",
              "      <td>0.091362</td>\n",
              "      <td>0.073666</td>\n",
              "      <td>0.962832</td>\n",
              "      <td>39:01</td>\n",
              "    </tr>\n",
              "    <tr>\n",
              "      <td>2</td>\n",
              "      <td>0.088721</td>\n",
              "      <td>10.377362</td>\n",
              "      <td>0.966533</td>\n",
              "      <td>46:59</td>\n",
              "    </tr>\n",
              "    <tr>\n",
              "      <td>3</td>\n",
              "      <td>0.077053</td>\n",
              "      <td>0.710052</td>\n",
              "      <td>0.948169</td>\n",
              "      <td>41:37</td>\n",
              "    </tr>\n",
              "    <tr>\n",
              "      <td>4</td>\n",
              "      <td>0.085262</td>\n",
              "      <td>0.127197</td>\n",
              "      <td>0.968278</td>\n",
              "      <td>49:46</td>\n",
              "    </tr>\n",
              "    <tr>\n",
              "      <td>5</td>\n",
              "      <td>0.070708</td>\n",
              "      <td>7.465377</td>\n",
              "      <td>0.957037</td>\n",
              "      <td>46:59</td>\n",
              "    </tr>\n",
              "  </tbody>\n",
              "</table>"
            ],
            "text/plain": [
              "<IPython.core.display.HTML object>"
            ]
          },
          "metadata": {
            "tags": []
          }
        }
      ]
    },
    {
      "cell_type": "code",
      "metadata": {
        "id": "GNCKp5-MpJdc",
        "colab_type": "code",
        "colab": {}
      },
      "source": [
        "learner.save('/content/gdrive/My Drive/DCNN/Smart Contracts/weights2/classifier/classifier-58-epochs-9e-3')"
      ],
      "execution_count": 0,
      "outputs": []
    },
    {
      "cell_type": "code",
      "metadata": {
        "id": "PL65QoQ16wMi",
        "colab_type": "code",
        "outputId": "b597e4be-4ce3-4dd8-b152-af58bfd7cb86",
        "colab": {
          "base_uri": "https://localhost:8080/",
          "height": 238
        }
      },
      "source": [
        "learner.load('/content/gdrive/My Drive/DCNN/Smart Contracts/weights2/classifier/classifier-58-epochs-9e-3');\n",
        "lr = 2e-2\n",
        "learner.freeze_to(-2)\n",
        "learner.fit_one_cycle(6,slice(lr/(2.6**4),lr), moms=(0.8,0.7) )\n",
        "learner.save('/content/gdrive/My Drive/DCNN/Smart Contracts/weights2/classifier/classifier-64-epochs-2e-2')"
      ],
      "execution_count": 0,
      "outputs": [
        {
          "output_type": "display_data",
          "data": {
            "text/html": [
              "<table border=\"1\" class=\"dataframe\">\n",
              "  <thead>\n",
              "    <tr style=\"text-align: left;\">\n",
              "      <th>epoch</th>\n",
              "      <th>train_loss</th>\n",
              "      <th>valid_loss</th>\n",
              "      <th>fbeta</th>\n",
              "      <th>time</th>\n",
              "    </tr>\n",
              "  </thead>\n",
              "  <tbody>\n",
              "    <tr>\n",
              "      <td>0</td>\n",
              "      <td>0.122599</td>\n",
              "      <td>2.425085</td>\n",
              "      <td>0.959157</td>\n",
              "      <td>28:02</td>\n",
              "    </tr>\n",
              "    <tr>\n",
              "      <td>1</td>\n",
              "      <td>0.127436</td>\n",
              "      <td>0.210676</td>\n",
              "      <td>0.954399</td>\n",
              "      <td>25:09</td>\n",
              "    </tr>\n",
              "    <tr>\n",
              "      <td>2</td>\n",
              "      <td>0.147553</td>\n",
              "      <td>2.075237</td>\n",
              "      <td>0.949922</td>\n",
              "      <td>23:46</td>\n",
              "    </tr>\n",
              "    <tr>\n",
              "      <td>3</td>\n",
              "      <td>0.128009</td>\n",
              "      <td>0.094653</td>\n",
              "      <td>0.951353</td>\n",
              "      <td>25:22</td>\n",
              "    </tr>\n",
              "    <tr>\n",
              "      <td>4</td>\n",
              "      <td>0.097732</td>\n",
              "      <td>0.086951</td>\n",
              "      <td>0.959326</td>\n",
              "      <td>24:45</td>\n",
              "    </tr>\n",
              "    <tr>\n",
              "      <td>5</td>\n",
              "      <td>0.100622</td>\n",
              "      <td>0.084934</td>\n",
              "      <td>0.959171</td>\n",
              "      <td>24:46</td>\n",
              "    </tr>\n",
              "  </tbody>\n",
              "</table>"
            ],
            "text/plain": [
              "<IPython.core.display.HTML object>"
            ]
          },
          "metadata": {
            "tags": []
          }
        }
      ]
    },
    {
      "cell_type": "code",
      "metadata": {
        "id": "17U9_Fur7XI5",
        "colab_type": "code",
        "outputId": "2b6cf1ae-9811-4262-dec9-04251c6536f6",
        "colab": {
          "base_uri": "https://localhost:8080/",
          "height": 238
        }
      },
      "source": [
        "lr = 3e-2\n",
        "learner.freeze_to(-2)\n",
        "learner.fit_one_cycle(6,slice(lr/(2.6**4),lr), moms=(0.8,0.7) )\n",
        "learner.save('/content/gdrive/My Drive/DCNN/Smart Contracts/weights2/classifier/classifier-70-epochs-2e-2')"
      ],
      "execution_count": 0,
      "outputs": [
        {
          "output_type": "display_data",
          "data": {
            "text/html": [
              "<table border=\"1\" class=\"dataframe\">\n",
              "  <thead>\n",
              "    <tr style=\"text-align: left;\">\n",
              "      <th>epoch</th>\n",
              "      <th>train_loss</th>\n",
              "      <th>valid_loss</th>\n",
              "      <th>fbeta</th>\n",
              "      <th>time</th>\n",
              "    </tr>\n",
              "  </thead>\n",
              "  <tbody>\n",
              "    <tr>\n",
              "      <td>0</td>\n",
              "      <td>0.127717</td>\n",
              "      <td>0.108689</td>\n",
              "      <td>0.957579</td>\n",
              "      <td>25:41</td>\n",
              "    </tr>\n",
              "    <tr>\n",
              "      <td>1</td>\n",
              "      <td>0.155365</td>\n",
              "      <td>0.178721</td>\n",
              "      <td>0.955620</td>\n",
              "      <td>27:50</td>\n",
              "    </tr>\n",
              "    <tr>\n",
              "      <td>2</td>\n",
              "      <td>0.153534</td>\n",
              "      <td>0.187778</td>\n",
              "      <td>0.956547</td>\n",
              "      <td>23:46</td>\n",
              "    </tr>\n",
              "    <tr>\n",
              "      <td>3</td>\n",
              "      <td>0.129661</td>\n",
              "      <td>0.128513</td>\n",
              "      <td>0.955822</td>\n",
              "      <td>22:40</td>\n",
              "    </tr>\n",
              "    <tr>\n",
              "      <td>4</td>\n",
              "      <td>0.146330</td>\n",
              "      <td>0.402595</td>\n",
              "      <td>0.960129</td>\n",
              "      <td>25:41</td>\n",
              "    </tr>\n",
              "    <tr>\n",
              "      <td>5</td>\n",
              "      <td>0.114459</td>\n",
              "      <td>0.530509</td>\n",
              "      <td>0.960680</td>\n",
              "      <td>24:11</td>\n",
              "    </tr>\n",
              "  </tbody>\n",
              "</table>"
            ],
            "text/plain": [
              "<IPython.core.display.HTML object>"
            ]
          },
          "metadata": {
            "tags": []
          }
        }
      ]
    },
    {
      "cell_type": "code",
      "metadata": {
        "id": "LBW_cNlebrfj",
        "colab_type": "code",
        "outputId": "f18ed76b-ea74-4a58-cb85-288c50a077cf",
        "colab": {
          "base_uri": "https://localhost:8080/",
          "height": 235
        }
      },
      "source": [
        "learner.load('/content/gdrive/My Drive/DCNN/Smart Contracts/weights2/classifier/classifier-70-epochs-2e-2');\n",
        "lr = 3e-2\n",
        "learner.freeze_to(-2)\n",
        "learner.fit_one_cycle(6,slice(lr/(2.6**4),lr), moms=(0.8,0.7) )\n",
        "learner.save('/content/gdrive/My Drive/DCNN/Smart Contracts/weights2/classifier/classifier-76-epochs-2e-2')"
      ],
      "execution_count": 0,
      "outputs": [
        {
          "output_type": "display_data",
          "data": {
            "text/html": [
              "<table border=\"1\" class=\"dataframe\">\n",
              "  <thead>\n",
              "    <tr style=\"text-align: left;\">\n",
              "      <th>epoch</th>\n",
              "      <th>train_loss</th>\n",
              "      <th>valid_loss</th>\n",
              "      <th>fbeta</th>\n",
              "      <th>time</th>\n",
              "    </tr>\n",
              "  </thead>\n",
              "  <tbody>\n",
              "    <tr>\n",
              "      <td>0</td>\n",
              "      <td>0.096420</td>\n",
              "      <td>0.117154</td>\n",
              "      <td>0.964946</td>\n",
              "      <td>29:57</td>\n",
              "    </tr>\n",
              "    <tr>\n",
              "      <td>1</td>\n",
              "      <td>0.122123</td>\n",
              "      <td>0.283136</td>\n",
              "      <td>0.961237</td>\n",
              "      <td>29:03</td>\n",
              "    </tr>\n",
              "    <tr>\n",
              "      <td>2</td>\n",
              "      <td>0.109439</td>\n",
              "      <td>0.114839</td>\n",
              "      <td>0.967295</td>\n",
              "      <td>34:47</td>\n",
              "    </tr>\n",
              "    <tr>\n",
              "      <td>3</td>\n",
              "      <td>0.093851</td>\n",
              "      <td>0.680065</td>\n",
              "      <td>0.964561</td>\n",
              "      <td>30:51</td>\n",
              "    </tr>\n",
              "    <tr>\n",
              "      <td>4</td>\n",
              "      <td>0.091518</td>\n",
              "      <td>0.332350</td>\n",
              "      <td>0.970309</td>\n",
              "      <td>36:51</td>\n",
              "    </tr>\n",
              "    <tr>\n",
              "      <td>5</td>\n",
              "      <td>0.071435</td>\n",
              "      <td>0.821643</td>\n",
              "      <td>0.968985</td>\n",
              "      <td>34:48</td>\n",
              "    </tr>\n",
              "  </tbody>\n",
              "</table>"
            ],
            "text/plain": [
              "<IPython.core.display.HTML object>"
            ]
          },
          "metadata": {
            "tags": []
          }
        }
      ]
    },
    {
      "cell_type": "code",
      "metadata": {
        "id": "ZyCeW2x38XHx",
        "colab_type": "code",
        "outputId": "06aa25de-2db5-4b1d-cd66-726871d03059",
        "colab": {
          "base_uri": "https://localhost:8080/",
          "height": 235
        }
      },
      "source": [
        "learner.load('/content/gdrive/My Drive/DCNN/Smart Contracts/weights2/classifier/classifier-76-epochs-2e-2');\n",
        "lr = 1e-2\n",
        "learner.freeze_to(-2)\n",
        "learner.fit_one_cycle(6,slice(lr/(2.6**4),lr), moms=(0.8,0.7) )\n",
        "learner.save('/content/gdrive/My Drive/DCNN/Smart Contracts/weights2/classifier/classifier-82-epochs-2e-2')"
      ],
      "execution_count": 0,
      "outputs": [
        {
          "output_type": "display_data",
          "data": {
            "text/html": [
              "<table border=\"1\" class=\"dataframe\">\n",
              "  <thead>\n",
              "    <tr style=\"text-align: left;\">\n",
              "      <th>epoch</th>\n",
              "      <th>train_loss</th>\n",
              "      <th>valid_loss</th>\n",
              "      <th>fbeta</th>\n",
              "      <th>time</th>\n",
              "    </tr>\n",
              "  </thead>\n",
              "  <tbody>\n",
              "    <tr>\n",
              "      <td>0</td>\n",
              "      <td>0.068474</td>\n",
              "      <td>0.128122</td>\n",
              "      <td>0.969852</td>\n",
              "      <td>34:35</td>\n",
              "    </tr>\n",
              "    <tr>\n",
              "      <td>1</td>\n",
              "      <td>0.074311</td>\n",
              "      <td>0.120471</td>\n",
              "      <td>0.969020</td>\n",
              "      <td>37:22</td>\n",
              "    </tr>\n",
              "    <tr>\n",
              "      <td>2</td>\n",
              "      <td>0.106893</td>\n",
              "      <td>0.209704</td>\n",
              "      <td>0.973622</td>\n",
              "      <td>31:56</td>\n",
              "    </tr>\n",
              "    <tr>\n",
              "      <td>3</td>\n",
              "      <td>0.084891</td>\n",
              "      <td>0.315960</td>\n",
              "      <td>0.964905</td>\n",
              "      <td>30:23</td>\n",
              "    </tr>\n",
              "    <tr>\n",
              "      <td>4</td>\n",
              "      <td>0.081366</td>\n",
              "      <td>1.514845</td>\n",
              "      <td>0.969456</td>\n",
              "      <td>34:36</td>\n",
              "    </tr>\n",
              "    <tr>\n",
              "      <td>5</td>\n",
              "      <td>0.074966</td>\n",
              "      <td>0.209609</td>\n",
              "      <td>0.971043</td>\n",
              "      <td>32:23</td>\n",
              "    </tr>\n",
              "  </tbody>\n",
              "</table>"
            ],
            "text/plain": [
              "<IPython.core.display.HTML object>"
            ]
          },
          "metadata": {
            "tags": []
          }
        }
      ]
    },
    {
      "cell_type": "code",
      "metadata": {
        "id": "PFS-6iTMx6wE",
        "colab_type": "code",
        "outputId": "3a9276c4-a5bb-4d64-e72c-adddecd1b951",
        "colab": {
          "base_uri": "https://localhost:8080/",
          "height": 297
        }
      },
      "source": [
        "learner.load('/content/gdrive/My Drive/DCNN/Smart Contracts/weights2/classifier/classifier-82-epochs-2e-2');\n",
        "lr = 1e-2\n",
        "learner.freeze_to(-2)\n",
        "learner.fit_one_cycle(8,slice(lr/(2.6**4),lr), moms=(0.8,0.7) )\n",
        "learner.save('/content/gdrive/My Drive/DCNN/Smart Contracts/weights2/classifier/classifier-90-epochs-2e-2')"
      ],
      "execution_count": 0,
      "outputs": [
        {
          "output_type": "display_data",
          "data": {
            "text/html": [
              "<table border=\"1\" class=\"dataframe\">\n",
              "  <thead>\n",
              "    <tr style=\"text-align: left;\">\n",
              "      <th>epoch</th>\n",
              "      <th>train_loss</th>\n",
              "      <th>valid_loss</th>\n",
              "      <th>fbeta</th>\n",
              "      <th>time</th>\n",
              "    </tr>\n",
              "  </thead>\n",
              "  <tbody>\n",
              "    <tr>\n",
              "      <td>0</td>\n",
              "      <td>0.082478</td>\n",
              "      <td>0.518336</td>\n",
              "      <td>0.970130</td>\n",
              "      <td>27:54</td>\n",
              "    </tr>\n",
              "    <tr>\n",
              "      <td>1</td>\n",
              "      <td>0.104354</td>\n",
              "      <td>0.318921</td>\n",
              "      <td>0.963079</td>\n",
              "      <td>21:53</td>\n",
              "    </tr>\n",
              "    <tr>\n",
              "      <td>2</td>\n",
              "      <td>0.110029</td>\n",
              "      <td>0.068381</td>\n",
              "      <td>0.970589</td>\n",
              "      <td>22:15</td>\n",
              "    </tr>\n",
              "    <tr>\n",
              "      <td>3</td>\n",
              "      <td>0.092413</td>\n",
              "      <td>0.098233</td>\n",
              "      <td>0.968983</td>\n",
              "      <td>23:02</td>\n",
              "    </tr>\n",
              "    <tr>\n",
              "      <td>4</td>\n",
              "      <td>0.093013</td>\n",
              "      <td>0.100619</td>\n",
              "      <td>0.972713</td>\n",
              "      <td>23:55</td>\n",
              "    </tr>\n",
              "    <tr>\n",
              "      <td>5</td>\n",
              "      <td>0.085476</td>\n",
              "      <td>0.091344</td>\n",
              "      <td>0.967414</td>\n",
              "      <td>21:48</td>\n",
              "    </tr>\n",
              "    <tr>\n",
              "      <td>6</td>\n",
              "      <td>0.085501</td>\n",
              "      <td>0.091116</td>\n",
              "      <td>0.972796</td>\n",
              "      <td>24:50</td>\n",
              "    </tr>\n",
              "    <tr>\n",
              "      <td>7</td>\n",
              "      <td>0.076127</td>\n",
              "      <td>0.063211</td>\n",
              "      <td>0.970135</td>\n",
              "      <td>23:18</td>\n",
              "    </tr>\n",
              "  </tbody>\n",
              "</table>"
            ],
            "text/plain": [
              "<IPython.core.display.HTML object>"
            ]
          },
          "metadata": {
            "tags": []
          }
        }
      ]
    },
    {
      "cell_type": "code",
      "metadata": {
        "id": "EqBECdJKxIkT",
        "colab_type": "code",
        "outputId": "b79d5125-08cb-4d99-e9c6-2e0eaa1c97c5",
        "colab": {
          "base_uri": "https://localhost:8080/",
          "height": 288
        }
      },
      "source": [
        "learner.load('/content/gdrive/My Drive/DCNN/Smart Contracts/weights2/classifier/classifier-90-epochs-2e-2');\n",
        "lr = 9e-3\n",
        "learner.freeze_to(-2)\n",
        "learner.fit_one_cycle(8,slice(lr/(2.6**4),lr), moms=(0.8,0.7) )\n",
        "learner.save('/content/gdrive/My Drive/DCNN/Smart Contracts/weights2/classifier/classifier-98-epochs-2e-2')"
      ],
      "execution_count": 0,
      "outputs": [
        {
          "output_type": "display_data",
          "data": {
            "text/html": [
              "<table border=\"1\" class=\"dataframe\">\n",
              "  <thead>\n",
              "    <tr style=\"text-align: left;\">\n",
              "      <th>epoch</th>\n",
              "      <th>train_loss</th>\n",
              "      <th>valid_loss</th>\n",
              "      <th>fbeta</th>\n",
              "      <th>time</th>\n",
              "    </tr>\n",
              "  </thead>\n",
              "  <tbody>\n",
              "    <tr>\n",
              "      <td>0</td>\n",
              "      <td>0.086571</td>\n",
              "      <td>0.072130</td>\n",
              "      <td>0.973053</td>\n",
              "      <td>39:46</td>\n",
              "    </tr>\n",
              "    <tr>\n",
              "      <td>1</td>\n",
              "      <td>0.086974</td>\n",
              "      <td>0.202250</td>\n",
              "      <td>0.970273</td>\n",
              "      <td>38:36</td>\n",
              "    </tr>\n",
              "    <tr>\n",
              "      <td>2</td>\n",
              "      <td>0.087375</td>\n",
              "      <td>0.197104</td>\n",
              "      <td>0.972553</td>\n",
              "      <td>46:31</td>\n",
              "    </tr>\n",
              "    <tr>\n",
              "      <td>3</td>\n",
              "      <td>0.084393</td>\n",
              "      <td>0.099453</td>\n",
              "      <td>0.968873</td>\n",
              "      <td>41:21</td>\n",
              "    </tr>\n",
              "    <tr>\n",
              "      <td>4</td>\n",
              "      <td>0.100653</td>\n",
              "      <td>0.085233</td>\n",
              "      <td>0.970594</td>\n",
              "      <td>49:25</td>\n",
              "    </tr>\n",
              "    <tr>\n",
              "      <td>5</td>\n",
              "      <td>0.069088</td>\n",
              "      <td>0.088870</td>\n",
              "      <td>0.973117</td>\n",
              "      <td>46:34</td>\n",
              "    </tr>\n",
              "    <tr>\n",
              "      <td>6</td>\n",
              "      <td>0.071587</td>\n",
              "      <td>0.062561</td>\n",
              "      <td>0.974585</td>\n",
              "      <td>46:05</td>\n",
              "    </tr>\n",
              "    <tr>\n",
              "      <td>7</td>\n",
              "      <td>0.069149</td>\n",
              "      <td>0.062339</td>\n",
              "      <td>0.974814</td>\n",
              "      <td>49:59</td>\n",
              "    </tr>\n",
              "  </tbody>\n",
              "</table>"
            ],
            "text/plain": [
              "<IPython.core.display.HTML object>"
            ]
          },
          "metadata": {
            "tags": []
          }
        }
      ]
    },
    {
      "cell_type": "code",
      "metadata": {
        "id": "BAjy_ribh7LJ",
        "colab_type": "code",
        "colab": {}
      },
      "source": [
        ""
      ],
      "execution_count": 0,
      "outputs": []
    },
    {
      "cell_type": "code",
      "metadata": {
        "id": "4dX8FJd0Qsy0",
        "colab_type": "code",
        "outputId": "ed4fd2db-6b08-428a-cd47-9dbd98c5bf73",
        "colab": {
          "base_uri": "https://localhost:8080/",
          "height": 297
        }
      },
      "source": [
        "learner = text_classifier_learner(classifier_data, AWD_LSTM, drop_mult=0.7, metrics=fbeta)\n",
        "learner.load('/content/gdrive/My Drive/DCNN/Smart Contracts/weights2/classifier/classifier-98-epochs-2e-2');\n",
        "lr = 8e-3\n",
        "learner.fit_one_cycle(8,slice(lr/(2.6**4),lr), moms=(0.8,0.7) )\n",
        "learner.save('/content/gdrive/My Drive/DCNN/Smart Contracts/weights2/classifier/classifier-116-epochs-2e-2')"
      ],
      "execution_count": 0,
      "outputs": [
        {
          "output_type": "display_data",
          "data": {
            "text/html": [
              "<table border=\"1\" class=\"dataframe\">\n",
              "  <thead>\n",
              "    <tr style=\"text-align: left;\">\n",
              "      <th>epoch</th>\n",
              "      <th>train_loss</th>\n",
              "      <th>valid_loss</th>\n",
              "      <th>fbeta</th>\n",
              "      <th>time</th>\n",
              "    </tr>\n",
              "  </thead>\n",
              "  <tbody>\n",
              "    <tr>\n",
              "      <td>0</td>\n",
              "      <td>0.128073</td>\n",
              "      <td>0.119002</td>\n",
              "      <td>0.968557</td>\n",
              "      <td>17:59</td>\n",
              "    </tr>\n",
              "    <tr>\n",
              "      <td>1</td>\n",
              "      <td>0.166349</td>\n",
              "      <td>0.134227</td>\n",
              "      <td>0.966058</td>\n",
              "      <td>16:11</td>\n",
              "    </tr>\n",
              "    <tr>\n",
              "      <td>2</td>\n",
              "      <td>0.163422</td>\n",
              "      <td>0.139112</td>\n",
              "      <td>0.965569</td>\n",
              "      <td>18:56</td>\n",
              "    </tr>\n",
              "    <tr>\n",
              "      <td>3</td>\n",
              "      <td>0.173766</td>\n",
              "      <td>0.286472</td>\n",
              "      <td>0.956175</td>\n",
              "      <td>18:23</td>\n",
              "    </tr>\n",
              "    <tr>\n",
              "      <td>4</td>\n",
              "      <td>0.134874</td>\n",
              "      <td>0.138193</td>\n",
              "      <td>0.962257</td>\n",
              "      <td>17:19</td>\n",
              "    </tr>\n",
              "    <tr>\n",
              "      <td>5</td>\n",
              "      <td>0.124796</td>\n",
              "      <td>0.121065</td>\n",
              "      <td>0.968774</td>\n",
              "      <td>19:18</td>\n",
              "    </tr>\n",
              "    <tr>\n",
              "      <td>6</td>\n",
              "      <td>0.129993</td>\n",
              "      <td>0.112160</td>\n",
              "      <td>0.970783</td>\n",
              "      <td>20:04</td>\n",
              "    </tr>\n",
              "    <tr>\n",
              "      <td>7</td>\n",
              "      <td>0.125925</td>\n",
              "      <td>0.115919</td>\n",
              "      <td>0.969534</td>\n",
              "      <td>17:14</td>\n",
              "    </tr>\n",
              "  </tbody>\n",
              "</table>"
            ],
            "text/plain": [
              "<IPython.core.display.HTML object>"
            ]
          },
          "metadata": {
            "tags": []
          }
        }
      ]
    },
    {
      "cell_type": "code",
      "metadata": {
        "id": "akiD5AlZC9-z",
        "colab_type": "code",
        "colab": {}
      },
      "source": [
        ""
      ],
      "execution_count": 0,
      "outputs": []
    },
    {
      "cell_type": "code",
      "metadata": {
        "id": "iJIIDI9WK8fL",
        "colab_type": "code",
        "outputId": "bcd6745f-3b16-4af2-f226-23be0a5e797d",
        "colab": {
          "base_uri": "https://localhost:8080/",
          "height": 221
        }
      },
      "source": [
        "learner = text_classifier_learner(classifier_data, AWD_LSTM, drop_mult=1.2, metrics=fbeta)\n",
        "learner.load('/content/gdrive/My Drive/DCNN/Smart Contracts/weights2/classifier/classifier-116-epochs-2e-2');\n",
        "lr = 2e-2\n",
        "learner.freeze_to(-2)\n",
        "learner.fit_one_cycle(5,slice(lr/(2.6**4),lr), moms=(0.8,0.7) )\n",
        "learner.save('/content/gdrive/My Drive/DCNN/Smart Contracts/weights2/classifier/classifier-120-epochs-2e-2')"
      ],
      "execution_count": 0,
      "outputs": [
        {
          "output_type": "stream",
          "text": [
            "Downloading https://s3.amazonaws.com/fast-ai-modelzoo/wt103-fwd\n"
          ],
          "name": "stdout"
        },
        {
          "output_type": "display_data",
          "data": {
            "text/html": [
              ""
            ],
            "text/plain": [
              "<IPython.core.display.HTML object>"
            ]
          },
          "metadata": {
            "tags": []
          }
        },
        {
          "output_type": "display_data",
          "data": {
            "text/html": [
              "<table border=\"1\" class=\"dataframe\">\n",
              "  <thead>\n",
              "    <tr style=\"text-align: left;\">\n",
              "      <th>epoch</th>\n",
              "      <th>train_loss</th>\n",
              "      <th>valid_loss</th>\n",
              "      <th>fbeta</th>\n",
              "      <th>time</th>\n",
              "    </tr>\n",
              "  </thead>\n",
              "  <tbody>\n",
              "    <tr>\n",
              "      <td>0</td>\n",
              "      <td>0.113374</td>\n",
              "      <td>0.167017</td>\n",
              "      <td>0.975007</td>\n",
              "      <td>22:05</td>\n",
              "    </tr>\n",
              "    <tr>\n",
              "      <td>1</td>\n",
              "      <td>0.140326</td>\n",
              "      <td>0.082012</td>\n",
              "      <td>0.969492</td>\n",
              "      <td>21:36</td>\n",
              "    </tr>\n",
              "    <tr>\n",
              "      <td>2</td>\n",
              "      <td>0.124975</td>\n",
              "      <td>1.121230</td>\n",
              "      <td>0.967570</td>\n",
              "      <td>26:08</td>\n",
              "    </tr>\n",
              "    <tr>\n",
              "      <td>3</td>\n",
              "      <td>0.093167</td>\n",
              "      <td>0.248695</td>\n",
              "      <td>0.969474</td>\n",
              "      <td>23:16</td>\n",
              "    </tr>\n",
              "    <tr>\n",
              "      <td>4</td>\n",
              "      <td>0.103076</td>\n",
              "      <td>0.341204</td>\n",
              "      <td>0.969942</td>\n",
              "      <td>27:36</td>\n",
              "    </tr>\n",
              "  </tbody>\n",
              "</table>"
            ],
            "text/plain": [
              "<IPython.core.display.HTML object>"
            ]
          },
          "metadata": {
            "tags": []
          }
        }
      ]
    },
    {
      "cell_type": "code",
      "metadata": {
        "id": "V01L3E3SyyXs",
        "colab_type": "code",
        "outputId": "14009a6b-83bf-4a7a-b40e-addee2ac560e",
        "colab": {
          "base_uri": "https://localhost:8080/",
          "height": 359
        }
      },
      "source": [
        "learner = text_classifier_learner(classifier_data, AWD_LSTM, drop_mult=0.8, metrics=fbeta)\n",
        "learner.load('/content/gdrive/My Drive/DCNN/Smart Contracts/weights2/classifier/classifier-120-epochs-2e-2');\n",
        "lr = 8e-3\n",
        "learner.freeze_to(-2)\n",
        "learner.fit_one_cycle(10,slice(lr/(2.6**4),lr), moms=(0.8,0.7) )\n",
        "learner.save('/content/gdrive/My Drive/DCNN/Smart Contracts/weights2/classifier/classifier-130-epochs-2e-2')"
      ],
      "execution_count": 0,
      "outputs": [
        {
          "output_type": "display_data",
          "data": {
            "text/html": [
              "<table border=\"1\" class=\"dataframe\">\n",
              "  <thead>\n",
              "    <tr style=\"text-align: left;\">\n",
              "      <th>epoch</th>\n",
              "      <th>train_loss</th>\n",
              "      <th>valid_loss</th>\n",
              "      <th>fbeta</th>\n",
              "      <th>time</th>\n",
              "    </tr>\n",
              "  </thead>\n",
              "  <tbody>\n",
              "    <tr>\n",
              "      <td>0</td>\n",
              "      <td>0.058648</td>\n",
              "      <td>0.069158</td>\n",
              "      <td>0.976590</td>\n",
              "      <td>28:55</td>\n",
              "    </tr>\n",
              "    <tr>\n",
              "      <td>1</td>\n",
              "      <td>0.083209</td>\n",
              "      <td>0.049945</td>\n",
              "      <td>0.976699</td>\n",
              "      <td>21:52</td>\n",
              "    </tr>\n",
              "    <tr>\n",
              "      <td>2</td>\n",
              "      <td>0.081960</td>\n",
              "      <td>0.053142</td>\n",
              "      <td>0.975929</td>\n",
              "      <td>22:15</td>\n",
              "    </tr>\n",
              "    <tr>\n",
              "      <td>3</td>\n",
              "      <td>0.076601</td>\n",
              "      <td>0.069409</td>\n",
              "      <td>0.976929</td>\n",
              "      <td>23:02</td>\n",
              "    </tr>\n",
              "    <tr>\n",
              "      <td>4</td>\n",
              "      <td>0.075514</td>\n",
              "      <td>14.587753</td>\n",
              "      <td>0.970470</td>\n",
              "      <td>23:53</td>\n",
              "    </tr>\n",
              "    <tr>\n",
              "      <td>5</td>\n",
              "      <td>0.071998</td>\n",
              "      <td>0.141210</td>\n",
              "      <td>0.976924</td>\n",
              "      <td>21:53</td>\n",
              "    </tr>\n",
              "    <tr>\n",
              "      <td>6</td>\n",
              "      <td>0.065713</td>\n",
              "      <td>0.206592</td>\n",
              "      <td>0.976778</td>\n",
              "      <td>24:51</td>\n",
              "    </tr>\n",
              "    <tr>\n",
              "      <td>7</td>\n",
              "      <td>0.060200</td>\n",
              "      <td>0.066234</td>\n",
              "      <td>0.977177</td>\n",
              "      <td>23:16</td>\n",
              "    </tr>\n",
              "    <tr>\n",
              "      <td>8</td>\n",
              "      <td>0.064382</td>\n",
              "      <td>0.081128</td>\n",
              "      <td>0.978053</td>\n",
              "      <td>26:06</td>\n",
              "    </tr>\n",
              "    <tr>\n",
              "      <td>9</td>\n",
              "      <td>0.056445</td>\n",
              "      <td>1.587501</td>\n",
              "      <td>0.974236</td>\n",
              "      <td>21:33</td>\n",
              "    </tr>\n",
              "  </tbody>\n",
              "</table>"
            ],
            "text/plain": [
              "<IPython.core.display.HTML object>"
            ]
          },
          "metadata": {
            "tags": []
          }
        }
      ]
    },
    {
      "cell_type": "code",
      "metadata": {
        "id": "ye-cokJZU-RL",
        "colab_type": "code",
        "outputId": "b15599d1-1745-4938-9b73-1968aa488f44",
        "colab": {
          "base_uri": "https://localhost:8080/",
          "height": 216
        }
      },
      "source": [
        "learner = text_classifier_learner(classifier_data, AWD_LSTM, drop_mult=0.8, metrics=fbeta)\n",
        "learner.load('/content/gdrive/My Drive/DCNN/Smart Contracts/weights2/classifier/classifier-130-epochs-2e-2');\n",
        "lr = 8e-3\n",
        "learner.freeze_to(-2)\n",
        "learner.fit_one_cycle(5,slice(lr/(2.6**4),lr), moms=(0.8,0.7) )\n",
        "learner.save('/content/gdrive/My Drive/DCNN/Smart Contracts/weights2/classifier/classifier-135-epochs-2e-2')"
      ],
      "execution_count": 0,
      "outputs": [
        {
          "output_type": "stream",
          "text": [
            "Downloading https://s3.amazonaws.com/fast-ai-modelzoo/wt103-fwd\n"
          ],
          "name": "stdout"
        },
        {
          "output_type": "display_data",
          "data": {
            "text/html": [
              ""
            ],
            "text/plain": [
              "<IPython.core.display.HTML object>"
            ]
          },
          "metadata": {
            "tags": []
          }
        },
        {
          "output_type": "display_data",
          "data": {
            "text/html": [
              "<table border=\"1\" class=\"dataframe\">\n",
              "  <thead>\n",
              "    <tr style=\"text-align: left;\">\n",
              "      <th>epoch</th>\n",
              "      <th>train_loss</th>\n",
              "      <th>valid_loss</th>\n",
              "      <th>fbeta</th>\n",
              "      <th>time</th>\n",
              "    </tr>\n",
              "  </thead>\n",
              "  <tbody>\n",
              "    <tr>\n",
              "      <td>0</td>\n",
              "      <td>0.069492</td>\n",
              "      <td>0.098334</td>\n",
              "      <td>0.973245</td>\n",
              "      <td>40:09</td>\n",
              "    </tr>\n",
              "    <tr>\n",
              "      <td>1</td>\n",
              "      <td>0.078366</td>\n",
              "      <td>0.493444</td>\n",
              "      <td>0.973635</td>\n",
              "      <td>39:00</td>\n",
              "    </tr>\n",
              "    <tr>\n",
              "      <td>2</td>\n",
              "      <td>0.071265</td>\n",
              "      <td>16.710926</td>\n",
              "      <td>0.968658</td>\n",
              "      <td>46:54</td>\n",
              "    </tr>\n",
              "    <tr>\n",
              "      <td>3</td>\n",
              "      <td>0.062192</td>\n",
              "      <td>1.141531</td>\n",
              "      <td>0.973305</td>\n",
              "      <td>41:30</td>\n",
              "    </tr>\n",
              "    <tr>\n",
              "      <td>4</td>\n",
              "      <td>0.068011</td>\n",
              "      <td>1.107378</td>\n",
              "      <td>0.973778</td>\n",
              "      <td>49:32</td>\n",
              "    </tr>\n",
              "  </tbody>\n",
              "</table>"
            ],
            "text/plain": [
              "<IPython.core.display.HTML object>"
            ]
          },
          "metadata": {
            "tags": []
          }
        }
      ]
    },
    {
      "cell_type": "code",
      "metadata": {
        "id": "4RtMVYEiVGMB",
        "colab_type": "code",
        "outputId": "c4c1654e-31b2-40e3-9e13-5bd64c9b7c8c",
        "colab": {
          "base_uri": "https://localhost:8080/",
          "height": 204
        }
      },
      "source": [
        "learner = text_classifier_learner(classifier_data, AWD_LSTM, drop_mult=0.7, metrics=fbeta)\n",
        "learner.load('/content/gdrive/My Drive/DCNN/Smart Contracts/weights2/classifier/classifier-135-epochs-2e-2');\n",
        "lr = 1e-2\n",
        "learner.freeze_to(-2)\n",
        "learner.fit_one_cycle(5,slice(lr/(2.6**4),lr), moms=(0.8,0.7) )\n",
        "learner.save('/content/gdrive/My Drive/DCNN/Smart Contracts/weights2/classifier/classifier-140-epochs-2e-2')"
      ],
      "execution_count": 0,
      "outputs": [
        {
          "output_type": "display_data",
          "data": {
            "text/html": [
              "<table border=\"1\" class=\"dataframe\">\n",
              "  <thead>\n",
              "    <tr style=\"text-align: left;\">\n",
              "      <th>epoch</th>\n",
              "      <th>train_loss</th>\n",
              "      <th>valid_loss</th>\n",
              "      <th>fbeta</th>\n",
              "      <th>time</th>\n",
              "    </tr>\n",
              "  </thead>\n",
              "  <tbody>\n",
              "    <tr>\n",
              "      <td>0</td>\n",
              "      <td>0.066711</td>\n",
              "      <td>0.342581</td>\n",
              "      <td>0.972686</td>\n",
              "      <td>27:54</td>\n",
              "    </tr>\n",
              "    <tr>\n",
              "      <td>1</td>\n",
              "      <td>0.086865</td>\n",
              "      <td>0.331711</td>\n",
              "      <td>0.971644</td>\n",
              "      <td>21:49</td>\n",
              "    </tr>\n",
              "    <tr>\n",
              "      <td>2</td>\n",
              "      <td>0.080033</td>\n",
              "      <td>0.070409</td>\n",
              "      <td>0.975397</td>\n",
              "      <td>22:10</td>\n",
              "    </tr>\n",
              "    <tr>\n",
              "      <td>3</td>\n",
              "      <td>0.064393</td>\n",
              "      <td>0.092268</td>\n",
              "      <td>0.974727</td>\n",
              "      <td>22:59</td>\n",
              "    </tr>\n",
              "    <tr>\n",
              "      <td>4</td>\n",
              "      <td>0.068909</td>\n",
              "      <td>11.564064</td>\n",
              "      <td>0.974263</td>\n",
              "      <td>23:53</td>\n",
              "    </tr>\n",
              "  </tbody>\n",
              "</table>"
            ],
            "text/plain": [
              "<IPython.core.display.HTML object>"
            ]
          },
          "metadata": {
            "tags": []
          }
        }
      ]
    },
    {
      "cell_type": "code",
      "metadata": {
        "id": "TiemsF96idUX",
        "colab_type": "code",
        "colab": {}
      },
      "source": [
        "#learner.load('/content/gdrive/My Drive/DCNN/Smart Contracts/weights2/classifier/classifier-120-epochs-2e-2');\n",
        "learner.load('/content/gdrive/My Drive/DCNN/Smart Contracts/weights2/classifier/classifier-140-epochs-2e-2');\n",
        "\n"
      ],
      "execution_count": 0,
      "outputs": []
    },
    {
      "cell_type": "code",
      "metadata": {
        "colab_type": "code",
        "id": "GQ2fxRY1xKPY",
        "outputId": "f5c79b0d-5c27-403e-c0f9-672b6e8b0a78",
        "colab": {
          "base_uri": "https://localhost:8080/",
          "height": 37
        }
      },
      "source": [
        "#learner.load('/content/gdrive/My Drive/DCNN/Smart Contracts/weights2/classifier/classifier-138-epochs-2e-2');\n",
        "predictions, *_ = learner.get_preds(DatasetType.Test)"
      ],
      "execution_count": 0,
      "outputs": [
        {
          "output_type": "display_data",
          "data": {
            "text/html": [
              "\n",
              "    <div>\n",
              "        <style>\n",
              "            /* Turns off some styling */\n",
              "            progress {\n",
              "                /* gets rid of default border in Firefox and Opera. */\n",
              "                border: none;\n",
              "                /* Needs to be in here for Safari polyfill so background images work as expected. */\n",
              "                background-size: auto;\n",
              "            }\n",
              "            .progress-bar-interrupted, .progress-bar-interrupted::-webkit-progress-bar {\n",
              "                background: #F44336;\n",
              "            }\n",
              "        </style>\n",
              "      <progress value='186' class='' max='196', style='width:300px; height:20px; vertical-align: middle;'></progress>\n",
              "      94.90% [186/196 10:06<00:32]\n",
              "    </div>\n",
              "    "
            ],
            "text/plain": [
              "<IPython.core.display.HTML object>"
            ]
          },
          "metadata": {
            "tags": []
          }
        }
      ]
    },
    {
      "cell_type": "code",
      "metadata": {
        "colab_type": "code",
        "id": "OnToueTFxKPj",
        "colab": {}
      },
      "source": [
        "preds = np.argmax(predictions, axis = 1)"
      ],
      "execution_count": 0,
      "outputs": []
    },
    {
      "cell_type": "code",
      "metadata": {
        "id": "7VJkrI1dxIeG",
        "colab_type": "code",
        "colab": {}
      },
      "source": [
        "preds"
      ],
      "execution_count": 0,
      "outputs": []
    },
    {
      "cell_type": "code",
      "metadata": {
        "id": "H4XCtOv_Y7vo",
        "colab_type": "code",
        "colab": {}
      },
      "source": [
        "preds_test = np.argmax(predictions, axis = 1)"
      ],
      "execution_count": 0,
      "outputs": []
    },
    {
      "cell_type": "code",
      "metadata": {
        "id": "V-fpqPyVtDe7",
        "colab_type": "code",
        "colab": {}
      },
      "source": [
        "preds_test"
      ],
      "execution_count": 0,
      "outputs": []
    },
    {
      "cell_type": "code",
      "metadata": {
        "id": "iyAHX4piterj",
        "colab_type": "code",
        "colab": {}
      },
      "source": [
        "your_file = open('/content/gdrive/My Drive/DCNN/Smart Contracts/filename.txt', 'ab')\n",
        "np.savetxt(your_file, preds_test.numpy())\n",
        "your_file.close()"
      ],
      "execution_count": 0,
      "outputs": []
    },
    {
      "cell_type": "code",
      "metadata": {
        "id": "--dsL0hxXM2X",
        "colab_type": "code",
        "colab": {}
      },
      "source": [
        "\n",
        "targets = []\n",
        "t1 = [3 for i in range(5000)]\n",
        "t2 = [0 for i in range(870)]\n",
        "t3 = [1 for i in range(220)]\n",
        "t4 = [2 for i in range(181)]\n",
        "arr = t1+t2+t3+t4\n",
        "arr = np.asarray(arr)\n",
        "len(arr)"
      ],
      "execution_count": 0,
      "outputs": []
    },
    {
      "cell_type": "code",
      "metadata": {
        "id": "AmCae8yMxIWQ",
        "colab_type": "code",
        "colab": {}
      },
      "source": [
        "import torch\n",
        "target = torch.from_numpy(arr)\n",
        "target"
      ],
      "execution_count": 0,
      "outputs": []
    },
    {
      "cell_type": "code",
      "metadata": {
        "id": "Ah1gsBC5ryvQ",
        "colab_type": "code",
        "colab": {}
      },
      "source": [
        "target1 = torch.nn.functional.one_hot(target)\n",
        "target1"
      ],
      "execution_count": 0,
      "outputs": []
    },
    {
      "cell_type": "code",
      "metadata": {
        "id": "MN9KZHCZbT-4",
        "colab_type": "code",
        "colab": {}
      },
      "source": [
        ""
      ],
      "execution_count": 0,
      "outputs": []
    },
    {
      "cell_type": "code",
      "metadata": {
        "id": "lxZyRPCabTxm",
        "colab_type": "code",
        "colab": {}
      },
      "source": [
        "learner.load('/content/gdrive/My Drive/DCNN/Smart Contracts/final/classifier-22-epochs-3e-3');"
      ],
      "execution_count": 0,
      "outputs": []
    },
    {
      "cell_type": "code",
      "metadata": {
        "id": "53xmS9DmbTrq",
        "colab_type": "code",
        "colab": {}
      },
      "source": [
        ""
      ],
      "execution_count": 0,
      "outputs": []
    },
    {
      "cell_type": "code",
      "metadata": {
        "colab_type": "code",
        "outputId": "a783efaf-42ba-4eec-fbfb-8599a6ede707",
        "id": "JxF4i-wj0My4",
        "colab": {
          "base_uri": "https://localhost:8080/",
          "height": 17
        }
      },
      "source": [
        "preds1, targets1 = learner.get_preds()"
      ],
      "execution_count": 0,
      "outputs": [
        {
          "output_type": "display_data",
          "data": {
            "text/html": [
              ""
            ],
            "text/plain": [
              "<IPython.core.display.HTML object>"
            ]
          },
          "metadata": {
            "tags": []
          }
        }
      ]
    },
    {
      "cell_type": "code",
      "metadata": {
        "id": "EEaxqSAMsni5",
        "colab_type": "code",
        "colab": {}
      },
      "source": [
        "preds = np.argmax(preds1, axis = 1)"
      ],
      "execution_count": 0,
      "outputs": []
    },
    {
      "cell_type": "code",
      "metadata": {
        "id": "Kzlj5Q6Gj32l",
        "colab_type": "code",
        "outputId": "97aaeadf-62b9-4e76-bd08-68aab82d4583",
        "colab": {
          "base_uri": "https://localhost:8080/",
          "height": 34
        }
      },
      "source": [
        "preds1"
      ],
      "execution_count": 0,
      "outputs": [
        {
          "output_type": "execute_result",
          "data": {
            "text/plain": [
              "tensor([3, 3, 3,  ..., 2, 3, 0])"
            ]
          },
          "metadata": {
            "tags": []
          },
          "execution_count": 70
        }
      ]
    },
    {
      "cell_type": "code",
      "metadata": {
        "id": "eDN5hOgNj8mB",
        "colab_type": "code",
        "colab": {}
      },
      "source": [
        "\n",
        "targs = np.argmax(targets1, axis = 1)"
      ],
      "execution_count": 0,
      "outputs": []
    },
    {
      "cell_type": "code",
      "metadata": {
        "id": "q4-RGRq47gNP",
        "colab_type": "code",
        "outputId": "4274122e-4f55-4903-b3be-23f96c91c5fa",
        "colab": {
          "base_uri": "https://localhost:8080/",
          "height": 204
        }
      },
      "source": [
        "## testing latest 140 epochs\n",
        "from sklearn.metrics import classification_report\n",
        "print(classification_report(target, preds_test))"
      ],
      "execution_count": 0,
      "outputs": [
        {
          "output_type": "stream",
          "text": [
            "              precision    recall  f1-score   support\n",
            "\n",
            "           0       0.80      0.73      0.76       870\n",
            "           1       0.62      0.20      0.30       220\n",
            "           2       0.90      0.72      0.80       181\n",
            "           3       0.93      0.98      0.95      5000\n",
            "\n",
            "    accuracy                           0.91      6271\n",
            "   macro avg       0.81      0.65      0.70      6271\n",
            "weighted avg       0.90      0.91      0.90      6271\n",
            "\n"
          ],
          "name": "stdout"
        }
      ]
    },
    {
      "cell_type": "code",
      "metadata": {
        "id": "RPdHPdbP_IEg",
        "colab_type": "code",
        "outputId": "a9a20efa-6e1d-4862-b1a8-f744d7e02e51",
        "colab": {
          "base_uri": "https://localhost:8080/",
          "height": 85
        }
      },
      "source": [
        "from sklearn.metrics import confusion_matrix\n",
        "cm = confusion_matrix(target, preds_test)\n",
        "cm"
      ],
      "execution_count": 0,
      "outputs": [
        {
          "output_type": "execute_result",
          "data": {
            "text/plain": [
              "array([[ 636,    9,    7,  218],\n",
              "       [  59,   43,    0,  118],\n",
              "       [   5,    1,  130,   45],\n",
              "       [ 100,   16,    8, 4876]])"
            ]
          },
          "metadata": {
            "tags": []
          },
          "execution_count": 21
        }
      ]
    },
    {
      "cell_type": "code",
      "metadata": {
        "id": "rzvZlehw_IBs",
        "colab_type": "code",
        "colab": {}
      },
      "source": [
        ""
      ],
      "execution_count": 0,
      "outputs": []
    },
    {
      "cell_type": "code",
      "metadata": {
        "id": "QsibR9QY_H-k",
        "colab_type": "code",
        "colab": {}
      },
      "source": [
        ""
      ],
      "execution_count": 0,
      "outputs": []
    },
    {
      "cell_type": "code",
      "metadata": {
        "id": "ksMtPnpk7gaE",
        "colab_type": "code",
        "outputId": "79e4fee7-9584-4eca-fec6-d61183374e8d",
        "colab": {
          "base_uri": "https://localhost:8080/",
          "height": 204
        }
      },
      "source": [
        "## testing latest 110 epochs\n",
        "from sklearn.metrics import classification_report\n",
        "print(classification_report(target, preds_test))"
      ],
      "execution_count": 0,
      "outputs": [
        {
          "output_type": "stream",
          "text": [
            "              precision    recall  f1-score   support\n",
            "\n",
            "           0       0.76      0.64      0.69       870\n",
            "           1       0.56      0.09      0.16       220\n",
            "           2       0.93      0.82      0.87       181\n",
            "           3       0.90      0.97      0.93      5000\n",
            "\n",
            "    accuracy                           0.89      6271\n",
            "   macro avg       0.79      0.63      0.66      6271\n",
            "weighted avg       0.87      0.89      0.87      6271\n",
            "\n"
          ],
          "name": "stdout"
        }
      ]
    },
    {
      "cell_type": "code",
      "metadata": {
        "id": "d2dkWoML7gel",
        "colab_type": "code",
        "outputId": "f201b108-4ceb-48b2-ca98-4243546bb176",
        "colab": {
          "base_uri": "https://localhost:8080/",
          "height": 85
        }
      },
      "source": [
        "from sklearn.metrics import confusion_matrix\n",
        "cm = confusion_matrix(target, preds_test)\n",
        "cm"
      ],
      "execution_count": 0,
      "outputs": [
        {
          "output_type": "execute_result",
          "data": {
            "text/plain": [
              "array([[ 554,    7,    0,  309],\n",
              "       [  32,   20,    1,  167],\n",
              "       [   0,    0,  149,   32],\n",
              "       [ 147,    9,   11, 4833]])"
            ]
          },
          "metadata": {
            "tags": []
          },
          "execution_count": 26
        }
      ]
    },
    {
      "cell_type": "code",
      "metadata": {
        "id": "LO_cJ41T7jgn",
        "colab_type": "code",
        "colab": {}
      },
      "source": [
        ""
      ],
      "execution_count": 0,
      "outputs": []
    },
    {
      "cell_type": "code",
      "metadata": {
        "id": "CeDfNxvl7jkH",
        "colab_type": "code",
        "colab": {}
      },
      "source": [
        "### testing final epochs\n",
        "from sklearn.metrics import classification_report\n",
        "print(classification_report(target, preds_test))"
      ],
      "execution_count": 0,
      "outputs": []
    },
    {
      "cell_type": "code",
      "metadata": {
        "id": "1TVDaxll2TK3",
        "colab_type": "code",
        "colab": {}
      },
      "source": [
        "from sklearn.metrics import confusion_matrix\n",
        "cm = confusion_matrix(target, preds_test)\n",
        "cm"
      ],
      "execution_count": 0,
      "outputs": []
    },
    {
      "cell_type": "code",
      "metadata": {
        "id": "mLAvRXjb7jdn",
        "colab_type": "code",
        "colab": {}
      },
      "source": [
        ""
      ],
      "execution_count": 0,
      "outputs": []
    },
    {
      "cell_type": "code",
      "metadata": {
        "id": "BeMxXDPkv-N6",
        "colab_type": "code",
        "outputId": "9c2caabe-1691-41dd-a47f-cac43125e1d4",
        "colab": {
          "base_uri": "https://localhost:8080/",
          "height": 208
        }
      },
      "source": [
        "## testing\n",
        "from sklearn.metrics import classification_report\n",
        "print(classification_report(target, preds_test))"
      ],
      "execution_count": 0,
      "outputs": [
        {
          "output_type": "stream",
          "text": [
            "              precision    recall  f1-score   support\n",
            "\n",
            "           0       0.31      0.61      0.41       870\n",
            "           1       0.05      0.04      0.05       220\n",
            "           2       0.30      0.06      0.10       181\n",
            "           3       0.88      0.76      0.81      5000\n",
            "\n",
            "    accuracy                           0.69      6271\n",
            "   macro avg       0.38      0.37      0.34      6271\n",
            "weighted avg       0.75      0.69      0.71      6271\n",
            "\n"
          ],
          "name": "stdout"
        }
      ]
    },
    {
      "cell_type": "code",
      "metadata": {
        "id": "Xoq0XDU9wDld",
        "colab_type": "code",
        "outputId": "bccc80ef-0906-4e88-c256-7ebd2f811331",
        "colab": {
          "base_uri": "https://localhost:8080/",
          "height": 86
        }
      },
      "source": [
        "from sklearn.metrics import confusion_matrix\n",
        "cm = confusion_matrix(target, preds_test)\n",
        "cm"
      ],
      "execution_count": 0,
      "outputs": [
        {
          "output_type": "execute_result",
          "data": {
            "text/plain": [
              "array([[ 529,    4,    2,  335],\n",
              "       [  53,    9,    0,  158],\n",
              "       [ 106,   22,   11,   42],\n",
              "       [1032,  141,   24, 3803]])"
            ]
          },
          "metadata": {
            "tags": []
          },
          "execution_count": 24
        }
      ]
    },
    {
      "cell_type": "code",
      "metadata": {
        "id": "I2RXIUaxwEtS",
        "colab_type": "code",
        "colab": {}
      },
      "source": [
        ""
      ],
      "execution_count": 0,
      "outputs": []
    },
    {
      "cell_type": "code",
      "metadata": {
        "id": "wnPXH1D9wEzz",
        "colab_type": "code",
        "colab": {}
      },
      "source": [
        ""
      ],
      "execution_count": 0,
      "outputs": []
    },
    {
      "cell_type": "code",
      "metadata": {
        "colab_type": "code",
        "outputId": "3de3fa83-31de-4c95-9ddd-03e3786c9a8f",
        "id": "a5TDPJzn0My7",
        "colab": {
          "base_uri": "https://localhost:8080/",
          "height": 204
        }
      },
      "source": [
        "### validation\n",
        "\n",
        "from sklearn.metrics import classification_report\n",
        "print(classification_report(targs, preds))"
      ],
      "execution_count": 0,
      "outputs": [
        {
          "output_type": "stream",
          "text": [
            "              precision    recall  f1-score   support\n",
            "\n",
            "           0       0.94      0.93      0.93       731\n",
            "           1       0.97      0.88      0.92       201\n",
            "           2       0.96      0.92      0.94       143\n",
            "           3       0.98      0.99      0.98      4115\n",
            "\n",
            "    accuracy                           0.97      5190\n",
            "   macro avg       0.96      0.93      0.95      5190\n",
            "weighted avg       0.97      0.97      0.97      5190\n",
            "\n"
          ],
          "name": "stdout"
        }
      ]
    },
    {
      "cell_type": "code",
      "metadata": {
        "colab_type": "code",
        "id": "I8YCzpuu0My-",
        "colab": {}
      },
      "source": [
        "from sklearn.metrics import confusion_matrix\n",
        "cm = confusion_matrix(target, preds_test)"
      ],
      "execution_count": 0,
      "outputs": []
    },
    {
      "cell_type": "code",
      "metadata": {
        "colab_type": "code",
        "outputId": "25c0d7df-d41d-4195-ed84-f2cdbe12e2ad",
        "id": "vluNyvPn0MzC",
        "colab": {
          "base_uri": "https://localhost:8080/",
          "height": 85
        }
      },
      "source": [
        "cm"
      ],
      "execution_count": 0,
      "outputs": [
        {
          "output_type": "execute_result",
          "data": {
            "text/plain": [
              "array([[ 562,   89,    0,  219],\n",
              "       [  24,   62,    0,  134],\n",
              "       [   0,    4,  138,   39],\n",
              "       [  88,  165,    4, 4743]])"
            ]
          },
          "metadata": {
            "tags": []
          },
          "execution_count": 76
        }
      ]
    },
    {
      "cell_type": "code",
      "metadata": {
        "id": "o8txNdhIK-XJ",
        "colab_type": "code",
        "colab": {}
      },
      "source": [
        "targets = target\n",
        "preds = predictions"
      ],
      "execution_count": 0,
      "outputs": []
    },
    {
      "cell_type": "code",
      "metadata": {
        "colab_type": "code",
        "id": "I4zVze9XbNUE",
        "colab": {}
      },
      "source": [
        "\n",
        "import numpy as np\n",
        "import matplotlib.pyplot as plt\n",
        "from itertools import cycle\n",
        "\n",
        "from sklearn import svm, datasets\n",
        "from sklearn.metrics import roc_curve, auc\n",
        "from sklearn.model_selection import train_test_split\n",
        "from sklearn.preprocessing import label_binarize\n",
        "from sklearn.multiclass import OneVsRestClassifier\n",
        "from scipy import interp\n",
        "\n",
        "\n",
        "# Compute ROC curve and ROC area for each class\n",
        "fpr = dict()\n",
        "tpr = dict()\n",
        "roc_auc = dict()\n",
        "n_classes = 4\n",
        "\n",
        "targets = target1\n",
        "preds = predictions\n",
        "\n",
        "y_test = targets.numpy()\n",
        "y_score = preds.numpy()\n",
        "for i in range(n_classes):\n",
        "    fpr[i], tpr[i], _ = roc_curve(y_test[:, i], y_score[:, i])\n",
        "    roc_auc[i] = auc(fpr[i], tpr[i])\n",
        "\n",
        "# Compute micro-average ROC curve and ROC area\n",
        "fpr[\"micro\"], tpr[\"micro\"], _ = roc_curve(y_test.ravel(), y_score.ravel())\n",
        "roc_auc[\"micro\"] = auc(fpr[\"micro\"], tpr[\"micro\"])\n"
      ],
      "execution_count": 0,
      "outputs": []
    },
    {
      "cell_type": "code",
      "metadata": {
        "colab_type": "code",
        "id": "KzbyzDnLbNUt",
        "colab": {}
      },
      "source": [
        "plt.figure()\n",
        "lw = 2\n",
        "plt.plot(fpr[2], tpr[2], color='darkorange',\n",
        "         lw=lw, label='ROC curve (area = %0.2f)' % roc_auc[2])\n",
        "plt.plot([0, 1], [0, 1], color='navy', lw=lw, linestyle='--')\n",
        "plt.xlim([0.0, 1.0])\n",
        "plt.ylim([0.0, 1.05])\n",
        "plt.xlabel('False Positive Rate')\n",
        "plt.ylabel('True Positive Rate')\n",
        "plt.title('Receiver operating characteristic example')\n",
        "plt.legend(loc=\"lower right\")\n",
        "plt.show()"
      ],
      "execution_count": 0,
      "outputs": []
    },
    {
      "cell_type": "code",
      "metadata": {
        "colab_type": "code",
        "id": "ejshNOq6bNU9",
        "colab": {}
      },
      "source": [
        "fpr"
      ],
      "execution_count": 0,
      "outputs": []
    },
    {
      "cell_type": "code",
      "metadata": {
        "colab_type": "code",
        "outputId": "bd49e874-68f7-4eea-841e-d0551e7d7926",
        "id": "YqY5ZRANbNVI",
        "colab": {
          "base_uri": "https://localhost:8080/",
          "height": 327
        }
      },
      "source": [
        "# Compute macro-average ROC curve and ROC area\n",
        "\n",
        "# First aggregate all false positive rates\n",
        "#all_fpr = np.unique(np.concatenate([fpr[i] for i in range(n_classes)]))\n",
        "all_fpr = np.unique(np.concatenate([fpr[0], fpr[1], fpr[2], fpr[3]]))\n",
        "\n",
        "# Then interpolate all ROC curves at this points\n",
        "mean_tpr = np.zeros_like(all_fpr)\n",
        "mean_tpr = interp(all_fpr, fpr[0], tpr[0]) + interp(all_fpr, fpr[1], tpr[1]) + interp(all_fpr, fpr[2], tpr[2]) + interp(all_fpr, fpr[3], tpr[3]) \n",
        "#for i in range(n_classes):\n",
        "    #mean_tpr += interp(all_fpr, fpr[i], tpr[i])\n",
        "\n",
        "# Finally average it and compute AUC\n",
        "n_c = 5\n",
        "#mean_tpr /= n_classes\n",
        "mean_tpr /= n_c\n",
        "\n",
        "fpr[\"macro\"] = all_fpr\n",
        "tpr[\"macro\"] = mean_tpr\n",
        "roc_auc[\"macro\"] = auc(fpr[\"macro\"], tpr[\"macro\"])\n",
        "\n",
        "# Plot all ROC curves\n",
        "plt.figure()\n",
        "plt.plot(fpr[\"micro\"], tpr[\"micro\"],\n",
        "         label='micro-average ROC curve (area = {0:0.2f})'\n",
        "               ''.format(roc_auc[\"micro\"]),\n",
        "         color='deeppink', linestyle=':', linewidth=4)\n",
        "\n",
        "plt.plot(fpr[\"macro\"], tpr[\"macro\"],\n",
        "         label='macro-average ROC curve (area = {0:0.2f})'\n",
        "               ''.format(roc_auc[\"macro\"]),\n",
        "         color='navy', linestyle=':', linewidth=4)\n",
        "\n",
        "colors = cycle(['red', 'green', 'blue','yellow','yellow'])\n",
        "for i, color in zip(range(n_classes), colors):\n",
        "  if i != 10:\n",
        "    plt.plot(fpr[i], tpr[i], color=color, lw=lw,\n",
        "             label='ROC curve of Type {0} '\n",
        "             ''.format(i, roc_auc[i]))\n",
        "##(area = {1:0.2f})\n",
        "\n",
        "plt.plot([0, 1], [0, 1], 'k--', lw=lw)\n",
        "plt.xlim([0.0, 1.0])\n",
        "plt.ylim([0.0, 1.05])\n",
        "#plt.xticks(fontsize=14)\n",
        "plt.tick_params(axis='both', which='major', labelsize=15)\n",
        "plt.xlabel('False Positive Rate', fontsize=18)\n",
        "plt.ylabel('True Positive Rate', fontsize=18)\n",
        "#plt.title('Receiver operating characteristic to multi-class classification')\n",
        "plt.legend(loc=\"lower right\")\n",
        "plt.show()"
      ],
      "execution_count": 0,
      "outputs": [
        {
          "output_type": "stream",
          "text": [
            "/usr/local/lib/python3.6/dist-packages/ipykernel_launcher.py:5: DeprecationWarning: scipy.interp is deprecated and will be removed in SciPy 2.0.0, use numpy.interp instead\n",
            "  \"\"\"\n"
          ],
          "name": "stderr"
        },
        {
          "output_type": "display_data",
          "data": {
            "image/png": "[encoded data removed]",
            "text/plain": [
              "<Figure size 432x288 with 1 Axes>"
            ]
          },
          "metadata": {
            "tags": []
          }
        }
      ]
    },
    {
      "cell_type": "code",
      "metadata": {
        "colab_type": "code",
        "outputId": "d7f9caac-c23f-4037-e61e-b8ac16166d40",
        "id": "IcwSKKdkbNVS",
        "colab": {
          "base_uri": "https://localhost:8080/",
          "height": 292
        }
      },
      "source": [
        "\n",
        "plt.figure()\n",
        "\n",
        "\n",
        "colors = cycle(['red', 'green', 'blue','orange'])\n",
        "for i, color in zip(range(n_classes), colors):\n",
        "  if i != 10:\n",
        "    plt.plot(fpr[i], tpr[i], color=color, lw=lw,\n",
        "             label='ROC curve of Type {0} (Area = {1:0.4f})'\n",
        "             ''.format(i+1, roc_auc[i]))\n",
        "## \n",
        "\n",
        "plt.plot([0, 1], [0, 1], 'k--', lw=lw)\n",
        "plt.xlim([0.0, 1.0])\n",
        "plt.ylim([0.0, 1.05])\n",
        "#plt.xticks(fontsize=14)\n",
        "plt.tick_params(axis='both', which='major', labelsize=15)\n",
        "plt.xlabel('False Positive Rate', fontsize=18)\n",
        "plt.ylabel('True Positive Rate', fontsize=18)\n",
        "#plt.title('Receiver operating characteristic to multi-class classification')\n",
        "plt.legend(loc=\"lower right\")\n",
        "plt.show()"
      ],
      "execution_count": 0,
      "outputs": [
        {
          "output_type": "display_data",
          "data": {
            "image/png": "[encoded data removed]",
            "text/plain": [
              "<Figure size 432x288 with 1 Axes>"
            ]
          },
          "metadata": {
            "tags": []
          }
        }
      ]
    },
    {
      "cell_type": "code",
      "metadata": {
        "id": "BMRs_ehP0MB6",
        "colab_type": "code",
        "colab": {}
      },
      "source": [
        ""
      ],
      "execution_count": 0,
      "outputs": []
    },
    {
      "cell_type": "code",
      "metadata": {
        "id": "h2ck0pll0L9L",
        "colab_type": "code",
        "colab": {}
      },
      "source": [
        ""
      ],
      "execution_count": 0,
      "outputs": []
    },
    {
      "cell_type": "code",
      "metadata": {
        "id": "IA58BD_reBqJ",
        "colab_type": "code",
        "colab": {}
      },
      "source": [
        ""
      ],
      "execution_count": 0,
      "outputs": []
    }
  ]
}