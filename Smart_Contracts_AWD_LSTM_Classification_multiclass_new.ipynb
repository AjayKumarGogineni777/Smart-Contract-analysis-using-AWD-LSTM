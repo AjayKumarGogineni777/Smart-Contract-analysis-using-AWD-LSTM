{
  "nbformat": 4,
  "nbformat_minor": 0,
  "metadata": {
    "colab": {
      "name": "Smart_Contracts_AWD_LSTM_Classification_multiclass_new.ipynb",
      "provenance": [],
      "collapsed_sections": [],
      "include_colab_link": true
    },
    "kernelspec": {
      "name": "python3",
      "display_name": "Python 3"
    },
    "language_info": {
      "codemirror_mode": {
        "name": "ipython",
        "version": 3
      },
      "file_extension": ".py",
      "mimetype": "text/x-python",
      "name": "python",
      "nbconvert_exporter": "python",
      "pygments_lexer": "ipython3",
      "version": "3.6.7"
    }
  },
  "cells": [
    {
      "cell_type": "markdown",
      "metadata": {
        "id": "view-in-github",
        "colab_type": "text"
      },
      "source": [
        "<a href=\"https://colab.research.google.com/github/AjayKumarGogineni777/Smart-Contract-analysis-using-AWD-LSTM/blob/master/Smart_Contracts_AWD_LSTM_Classification_multiclass_new.ipynb\" target=\"_parent\"><img src=\"https://colab.research.google.com/assets/colab-badge.svg\" alt=\"Open In Colab\"/></a>"
      ]
    },
    {
      "cell_type": "code",
      "metadata": {
        "id": "VvDUF_adnCy5"
      },
      "source": [
        "import fastai\n",
        "from fastai.callbacks import *"
      ],
      "execution_count": null,
      "outputs": []
    },
    {
      "cell_type": "markdown",
      "metadata": {
        "id": "1tHt1mdc-JUV"
      },
      "source": [
        ""
      ]
    },
    {
      "cell_type": "code",
      "metadata": {
        "id": "YBcGGw2mnJLv",
        "outputId": "6824c848-8717-4dcb-be0b-df23fc7d1a6d",
        "colab": {
          "base_uri": "https://localhost:8080/",
          "height": 34
        }
      },
      "source": [
        "%reload_ext autoreload\n",
        "%autoreload 2\n",
        "%matplotlib inline\n",
        "from google.colab import drive\n",
        "drive.mount('/content/gdrive')"
      ],
      "execution_count": null,
      "outputs": [
        {
          "output_type": "stream",
          "text": [
            "Drive already mounted at /content/gdrive; to attempt to forcibly remount, call drive.mount(\"/content/gdrive\", force_remount=True).\n"
          ],
          "name": "stdout"
        }
      ]
    },
    {
      "cell_type": "code",
      "metadata": {
        "id": "foU2X7ouM92D",
        "outputId": "bda9f81e-9723-4f1a-b6ca-c2fe9a120812",
        "colab": {
          "base_uri": "https://localhost:8080/",
          "height": 206
        }
      },
      "source": [
        "import pandas as pd\n",
        "import numpy as np\n",
        "\n",
        "data = pd.read_csv('/content/gdrive/My Drive/SC Security Clean/clean_train.csv')\n",
        "data.head()"
      ],
      "execution_count": null,
      "outputs": [
        {
          "output_type": "execute_result",
          "data": {
            "text/html": [
              "<div>\n",
              "<style scoped>\n",
              "    .dataframe tbody tr th:only-of-type {\n",
              "        vertical-align: middle;\n",
              "    }\n",
              "\n",
              "    .dataframe tbody tr th {\n",
              "        vertical-align: top;\n",
              "    }\n",
              "\n",
              "    .dataframe thead th {\n",
              "        text-align: right;\n",
              "    }\n",
              "</style>\n",
              "<table border=\"1\" class=\"dataframe\">\n",
              "  <thead>\n",
              "    <tr style=\"text-align: right;\">\n",
              "      <th></th>\n",
              "      <th>ADDRESS</th>\n",
              "      <th>OPCODE</th>\n",
              "      <th>CATEGORY</th>\n",
              "    </tr>\n",
              "  </thead>\n",
              "  <tbody>\n",
              "    <tr>\n",
              "      <th>0</th>\n",
              "      <td>0x219f4ee903f78e78773e5d1e3520cfd507485bc6</td>\n",
              "      <td>60 60 52 36 15 61 57 60 35 7c 90 04 63 16 80 6...</td>\n",
              "      <td>1 0 0 0</td>\n",
              "    </tr>\n",
              "    <tr>\n",
              "      <th>1</th>\n",
              "      <td>0x560ed796aa8d23411b94b9d047ecdda39d4fcdeb</td>\n",
              "      <td>60 60 52 36 15 61 57 60 35 7c 90 04 63 16 80 6...</td>\n",
              "      <td>1 0 0 0</td>\n",
              "    </tr>\n",
              "    <tr>\n",
              "      <th>2</th>\n",
              "      <td>0xe726f97ff3c63dd71c1520c102adc39d1a2693ea</td>\n",
              "      <td>60 60 52 36 15 61 57 60 35 7c 90 04 63 16 80 6...</td>\n",
              "      <td>1 0 0 0</td>\n",
              "    </tr>\n",
              "    <tr>\n",
              "      <th>3</th>\n",
              "      <td>0x8ebac490495958b3804bb079e259340f0f53b69c</td>\n",
              "      <td>60 60 52 36 15 61 57 60 35 7c 90 04 63 16 80 6...</td>\n",
              "      <td>1 0 0 0</td>\n",
              "    </tr>\n",
              "    <tr>\n",
              "      <th>4</th>\n",
              "      <td>0x190700d69031db6b072a30577f9b3dbc53a320a1</td>\n",
              "      <td>60 60 52 36 15 61 57 60 35 7c 90 04 63 16 80 6...</td>\n",
              "      <td>1 0 0 0</td>\n",
              "    </tr>\n",
              "  </tbody>\n",
              "</table>\n",
              "</div>"
            ],
            "text/plain": [
              "                                      ADDRESS  ... CATEGORY\n",
              "0  0x219f4ee903f78e78773e5d1e3520cfd507485bc6  ...  1 0 0 0\n",
              "1  0x560ed796aa8d23411b94b9d047ecdda39d4fcdeb  ...  1 0 0 0\n",
              "2  0xe726f97ff3c63dd71c1520c102adc39d1a2693ea  ...  1 0 0 0\n",
              "3  0x8ebac490495958b3804bb079e259340f0f53b69c  ...  1 0 0 0\n",
              "4  0x190700d69031db6b072a30577f9b3dbc53a320a1  ...  1 0 0 0\n",
              "\n",
              "[5 rows x 3 columns]"
            ]
          },
          "metadata": {
            "tags": []
          },
          "execution_count": 3
        }
      ]
    },
    {
      "cell_type": "code",
      "metadata": {
        "id": "zJF0vfNWNaLi",
        "outputId": "d759f726-d798-4a1b-c9ce-ebbbb1aa7ba9",
        "colab": {
          "base_uri": "https://localhost:8080/",
          "height": 34
        }
      },
      "source": [
        "len(data)"
      ],
      "execution_count": null,
      "outputs": [
        {
          "output_type": "execute_result",
          "data": {
            "text/plain": [
              "892913"
            ]
          },
          "metadata": {
            "tags": []
          },
          "execution_count": 4
        }
      ]
    },
    {
      "cell_type": "code",
      "metadata": {
        "id": "0n9-dnP0NaYD",
        "outputId": "74edda43-ab8a-450b-e448-2ad23df12fcd",
        "colab": {
          "base_uri": "https://localhost:8080/",
          "height": 86
        }
      },
      "source": [
        "data.nunique()"
      ],
      "execution_count": null,
      "outputs": [
        {
          "output_type": "execute_result",
          "data": {
            "text/plain": [
              "ADDRESS     892913\n",
              "OPCODE       34805\n",
              "CATEGORY         5\n",
              "dtype: int64"
            ]
          },
          "metadata": {
            "tags": []
          },
          "execution_count": 5
        }
      ]
    },
    {
      "cell_type": "code",
      "metadata": {
        "id": "YF1O8VUVNaV0",
        "outputId": "15355aab-c44a-4050-e817-357a79eaafce",
        "colab": {
          "base_uri": "https://localhost:8080/",
          "height": 34
        }
      },
      "source": [
        "#Select the way how you want to store the output, could be pd.DataFrame or Dict, I will use Dict to demonstrate:\n",
        "col_uni_val={}\n",
        "data2 = data['CATEGORY']\n",
        "for i in data.columns:\n",
        "    col_uni_val[i] = len(data[i].unique())\n",
        "\n",
        "#Import pprint to display dic nicely:\n",
        "import pprint\n",
        "pprint.pprint(col_uni_val)"
      ],
      "execution_count": null,
      "outputs": [
        {
          "output_type": "stream",
          "text": [
            "{'ADDRESS': 892913, 'CATEGORY': 5, 'OPCODE': 34805}\n"
          ],
          "name": "stdout"
        }
      ]
    },
    {
      "cell_type": "code",
      "metadata": {
        "id": "8r-aqq4oNaTd",
        "outputId": "a77f1f6e-0de5-4f39-846b-7edfd9f609cf",
        "colab": {
          "base_uri": "https://localhost:8080/",
          "height": 139
        }
      },
      "source": [
        "df = data.groupby('CATEGORY')['ADDRESS'].nunique()\n",
        "df.head()"
      ],
      "execution_count": null,
      "outputs": [
        {
          "output_type": "execute_result",
          "data": {
            "text/plain": [
              "CATEGORY\n",
              "0 0 0 1      5801\n",
              "0 0 1 0      1461\n",
              "0 1 0 0      1207\n",
              "0 1 1 0       171\n",
              "1 0 0 0    884273\n",
              "Name: ADDRESS, dtype: int64"
            ]
          },
          "metadata": {
            "tags": []
          },
          "execution_count": 7
        }
      ]
    },
    {
      "cell_type": "code",
      "metadata": {
        "id": "-XJ16c-eNaD3",
        "outputId": "92428a99-7909-49e3-905d-c6cb43140023",
        "colab": {
          "base_uri": "https://localhost:8080/",
          "height": 139
        }
      },
      "source": [
        "df2 = data.groupby('CATEGORY')['OPCODE'].nunique()\n",
        "df2.head()"
      ],
      "execution_count": null,
      "outputs": [
        {
          "output_type": "execute_result",
          "data": {
            "text/plain": [
              "CATEGORY\n",
              "0 0 0 1     1770\n",
              "0 0 1 0      370\n",
              "0 1 0 0      145\n",
              "0 1 1 0      129\n",
              "1 0 0 0    32408\n",
              "Name: OPCODE, dtype: int64"
            ]
          },
          "metadata": {
            "tags": []
          },
          "execution_count": 8
        }
      ]
    },
    {
      "cell_type": "code",
      "metadata": {
        "id": "G01ThpjjM99v"
      },
      "source": [
        "### multi class\n",
        "df = data\n",
        "df_a = df.loc[df['CATEGORY'] == '1 0 0 0']\n",
        "df_a2 = df_a.drop('ADDRESS', 1)\n",
        "#df_a.head()\n",
        "df_b = df.loc[df['CATEGORY'] == '0 0 0 1']\n",
        "df_b2 = df_b.drop('ADDRESS', 1)\n",
        "\n",
        "df_c = df.loc[df['CATEGORY'] == '0 0 1 0']\n",
        "df_c2 = df_c.drop('ADDRESS', 1)\n",
        "#df_c.head()\n",
        "\n",
        "df_d = df.loc[df['CATEGORY'] == '0 1 0 0']\n",
        "df_d2 = df_d.drop('ADDRESS', 1)\n",
        "#df_d.head()\n",
        "\n",
        "#df_e = df.loc[df['CATEGORY'] == '0 1 1 0']\n",
        "#df_e2 = df_e.drop('ADDRESS', 1)\n",
        "\n",
        "#df_e.head()\n"
      ],
      "execution_count": null,
      "outputs": []
    },
    {
      "cell_type": "code",
      "metadata": {
        "id": "TKpn0YadTy6B",
        "outputId": "85e03da5-718b-4b35-a2da-c601c15fb196",
        "colab": {
          "base_uri": "https://localhost:8080/",
          "height": 206
        }
      },
      "source": [
        "k1 = df_a.OPCODE.unique()\n",
        "k1 = pd.DataFrame({'OPCODE' : k1 , 'CATEGORY' : '1 0 0 0'})\n",
        "k1.head() "
      ],
      "execution_count": null,
      "outputs": [
        {
          "output_type": "execute_result",
          "data": {
            "text/html": [
              "<div>\n",
              "<style scoped>\n",
              "    .dataframe tbody tr th:only-of-type {\n",
              "        vertical-align: middle;\n",
              "    }\n",
              "\n",
              "    .dataframe tbody tr th {\n",
              "        vertical-align: top;\n",
              "    }\n",
              "\n",
              "    .dataframe thead th {\n",
              "        text-align: right;\n",
              "    }\n",
              "</style>\n",
              "<table border=\"1\" class=\"dataframe\">\n",
              "  <thead>\n",
              "    <tr style=\"text-align: right;\">\n",
              "      <th></th>\n",
              "      <th>OPCODE</th>\n",
              "      <th>CATEGORY</th>\n",
              "    </tr>\n",
              "  </thead>\n",
              "  <tbody>\n",
              "    <tr>\n",
              "      <th>0</th>\n",
              "      <td>60 60 52 36 15 61 57 60 35 7c 90 04 63 16 80 6...</td>\n",
              "      <td>1 0 0 0</td>\n",
              "    </tr>\n",
              "    <tr>\n",
              "      <th>1</th>\n",
              "      <td>60 60 52 36 15 61 57 63 7c 60 35 04 16 63 81 1...</td>\n",
              "      <td>1 0 0 0</td>\n",
              "    </tr>\n",
              "    <tr>\n",
              "      <th>2</th>\n",
              "      <td>36 60 80 37 60 60 36 60 73 60 5a 03 f4 15 60 5...</td>\n",
              "      <td>1 0 0 0</td>\n",
              "    </tr>\n",
              "    <tr>\n",
              "      <th>3</th>\n",
              "      <td>60 60 52 5b fe 00 a1 65 20 65 0a 41 82 86 95 5...</td>\n",
              "      <td>1 0 0 0</td>\n",
              "    </tr>\n",
              "    <tr>\n",
              "      <th>4</th>\n",
              "      <td>60 60 52 36 15 61 57 63 60 60 0a 60 35 04 16 6...</td>\n",
              "      <td>1 0 0 0</td>\n",
              "    </tr>\n",
              "  </tbody>\n",
              "</table>\n",
              "</div>"
            ],
            "text/plain": [
              "                                              OPCODE CATEGORY\n",
              "0  60 60 52 36 15 61 57 60 35 7c 90 04 63 16 80 6...  1 0 0 0\n",
              "1  60 60 52 36 15 61 57 63 7c 60 35 04 16 63 81 1...  1 0 0 0\n",
              "2  36 60 80 37 60 60 36 60 73 60 5a 03 f4 15 60 5...  1 0 0 0\n",
              "3  60 60 52 5b fe 00 a1 65 20 65 0a 41 82 86 95 5...  1 0 0 0\n",
              "4  60 60 52 36 15 61 57 63 60 60 0a 60 35 04 16 6...  1 0 0 0"
            ]
          },
          "metadata": {
            "tags": []
          },
          "execution_count": 10
        }
      ]
    },
    {
      "cell_type": "code",
      "metadata": {
        "id": "Qyvc7i2kIVqf"
      },
      "source": [
        "k2 = df_b.OPCODE.unique()\n",
        "k2 = pd.DataFrame({'OPCODE' : k2 , 'CATEGORY' : '0 0 0 1'})\n",
        "\n",
        "k3 = df_c.OPCODE.unique()\n",
        "k3 = pd.DataFrame({'OPCODE' : k3 , 'CATEGORY' : '0 0 0 1'})\n",
        "\n",
        "k4 = df_b.OPCODE.unique()\n",
        "k4 = pd.DataFrame({'OPCODE' : k4 , 'CATEGORY' : '0 0 0 1'})\n",
        "\n",
        "k5 = df_c.OPCODE.unique()\n",
        "k5 = pd.DataFrame({'OPCODE' : k5 , 'CATEGORY' : '0 0 0 1'})"
      ],
      "execution_count": null,
      "outputs": []
    },
    {
      "cell_type": "code",
      "metadata": {
        "id": "_iJObUm8IqcW"
      },
      "source": [
        "### binary \n",
        "k1_train = k1[0:15000]\n",
        "k1_test = k1[15000:20000]\n",
        "\n",
        "k2_train = k2[0:1500]\n",
        "k2_test = k2[1500:]\n",
        "\n",
        "k3_train = k3[0:330]\n",
        "k3_test = k3[330:]\n",
        "\n",
        "k4_train = k4[0:120]\n",
        "k4_test = k4[120:]\n",
        "\n",
        "k5_train = k5[0:100]\n",
        "k5_test = k5[100:]"
      ],
      "execution_count": null,
      "outputs": []
    },
    {
      "cell_type": "code",
      "metadata": {
        "id": "7l5fK7Ufv3xc"
      },
      "source": [
        "## multi class\n",
        "k1_train = k1[0:27408]\n",
        "#k1_test = k1[27408:]\n",
        "k1_test = k1[27408:-140]"
      ],
      "execution_count": null,
      "outputs": []
    },
    {
      "cell_type": "code",
      "metadata": {
        "id": "kfXJlWv_ruk0",
        "outputId": "ebc0deac-d18b-47b0-d8eb-d2a2412c22e3",
        "colab": {
          "base_uri": "https://localhost:8080/",
          "height": 34
        }
      },
      "source": [
        "len(k1_test)"
      ],
      "execution_count": null,
      "outputs": [
        {
          "output_type": "execute_result",
          "data": {
            "text/plain": [
              "4860"
            ]
          },
          "metadata": {
            "tags": []
          },
          "execution_count": 15
        }
      ]
    },
    {
      "cell_type": "code",
      "metadata": {
        "id": "GoIf-Q8-wR2u",
        "outputId": "28b369e7-20f1-4243-d6f3-3d4610d6f485",
        "colab": {
          "base_uri": "https://localhost:8080/",
          "height": 34
        }
      },
      "source": [
        "b_train = df_b2[0:4931]\n",
        "b_test = df_b2[4931:]\n",
        "c_train = df_c2[0:1241]\n",
        "c_test = df_c2[1241:]\n",
        "d_train = df_d2[0:1026]\n",
        "d_test = df_d2[1026:]\n",
        "len(k1),len(df_b2), len(df_c2), len(df_d2)"
      ],
      "execution_count": null,
      "outputs": [
        {
          "output_type": "execute_result",
          "data": {
            "text/plain": [
              "(32408, 5801, 1461, 1207)"
            ]
          },
          "metadata": {
            "tags": []
          },
          "execution_count": 16
        }
      ]
    },
    {
      "cell_type": "code",
      "metadata": {
        "id": "KtMSRPzBgx5h"
      },
      "source": [
        "b_unique = list(df_b2['OPCODE'].tolist())\n",
        "c_unique = list(df_c2['OPCODE'].tolist())\n",
        "d_unique = list(df_d2['OPCODE'].tolist())\n",
        "b_dict = {}; b_cnt = []\n",
        "c_dict = {}; c_cnt = []\n",
        "d_dict = {}; d_cnt = []\n",
        "for item in b_unique:\n",
        "  if item not in b_dict.keys():\n",
        "    b_dict[item] = 1\n",
        "  else:\n",
        "    b_dict[item] += 1\n",
        "for item in c_unique:\n",
        "  if item not in c_dict.keys():\n",
        "    c_dict[item] = 1\n",
        "  else:\n",
        "    c_dict[item] += 1\n",
        "for item in d_unique:\n",
        "  if item not in d_dict.keys():\n",
        "    d_dict[item] = 1\n",
        "  else:\n",
        "    d_dict[item] += 1"
      ],
      "execution_count": null,
      "outputs": []
    },
    {
      "cell_type": "code",
      "metadata": {
        "id": "caBA05a624U7"
      },
      "source": [
        "for key in b_dict:\n",
        "  b_cnt.append(b_dict[key])\n",
        "for key in c_dict:\n",
        "  c_cnt.append(c_dict[key])\n",
        "for key in d_dict:\n",
        "  d_cnt.append(d_dict[key])"
      ],
      "execution_count": null,
      "outputs": []
    },
    {
      "cell_type": "code",
      "metadata": {
        "id": "nLVi2jnp3Zpb",
        "outputId": "b79fc803-f4e2-42ab-eaef-6f0dd2a6351b",
        "colab": {
          "base_uri": "https://localhost:8080/",
          "height": 34
        }
      },
      "source": [
        "171*0.15, len(b_cnt)"
      ],
      "execution_count": null,
      "outputs": [
        {
          "output_type": "execute_result",
          "data": {
            "text/plain": [
              "(25.65, 1770)"
            ]
          },
          "metadata": {
            "tags": []
          },
          "execution_count": 36
        }
      ]
    },
    {
      "cell_type": "code",
      "metadata": {
        "id": "jLmTaGYf5FYZ"
      },
      "source": [
        "def get_df(lis, dict1, cat):\n",
        "  train = []; train_cat= []\n",
        "  valid = []; valid_cat = []\n",
        "  test = []; test_cat = []\n",
        "  for i in range(int(0.7*len(lis))):\n",
        "    train_cat.append(cat)\n",
        "    if lis[i]>10:\n",
        "      for j in range(10):\n",
        "        train.append(dict1[list(dict1.keys())[i]])\n",
        "    else:\n",
        "      for j in range(lis[i]):\n",
        "        train.append(dict1[list(dict1.keys())[i]])\n",
        "  for i in range(int(0.7*len(lis)), int(0.85*len(lis))):\n",
        "    valid_cat.append(cat)\n",
        "    if lis[i]>10:\n",
        "      for j in range(10):\n",
        "        valid.append(dict1[list(dict1.keys())[i]])\n",
        "    else:\n",
        "      for j in range(lis[i]):\n",
        "        valid.append(dict1[list(dict1.keys())[i]])\n",
        "  for i in range(int(0.85*len(lis)), len(lis)):\n",
        "    test_cat.append(cat)\n",
        "    if lis[i]>10:\n",
        "      for j in range(10):\n",
        "        test.append(dict1[list(dict1.keys())[i]])\n",
        "    else:\n",
        "      for j in range(lis[i]):\n",
        "        test.append(dict1[list(dict1.keys())[i]])\n",
        "  train_df = pd.DataFrame(list(zip(train, train_cat)),\n",
        "                          columns = ['OPCODE', 'CATEGORY'])\n",
        "  valid_df = pd.DataFrame(list(zip(valid, valid_cat)),\n",
        "                          columns = ['OPCODE', 'CATEGORY'])\n",
        "  test_df = pd.DataFrame(list(zip(test, test_cat)),\n",
        "                          columns = ['OPCODE', 'CATEGORY'])\n",
        "  return train_df, valid_df, test_df\n",
        "b_tr, b_va, b_te = get_df(b_cnt, b_dict, cat = '0 0 0 1')\n",
        "c_tr, c_va, c_te = get_df(c_cnt, c_dict, cat = '0 0 1 0')\n",
        "d_tr, d_va, d_te = get_df(d_cnt, d_dict, cat = '0 1 0 0')"
      ],
      "execution_count": null,
      "outputs": []
    },
    {
      "cell_type": "code",
      "metadata": {
        "id": "cIvB9BRw-tpp",
        "outputId": "a59a2969-47e3-4b22-9fbb-92da4d311e79",
        "colab": {
          "base_uri": "https://localhost:8080/",
          "height": 69
        }
      },
      "source": [
        "print(len(b_tr), len(b_va), len(b_te))\n",
        "print(len(c_tr), len(c_va), len(c_te))\n",
        "print(len(d_tr), len(d_va), len(d_te))"
      ],
      "execution_count": null,
      "outputs": [
        {
          "output_type": "stream",
          "text": [
            "1239 265 266\n",
            "259 55 56\n",
            "101 22 22\n"
          ],
          "name": "stdout"
        }
      ]
    },
    {
      "cell_type": "code",
      "metadata": {
        "id": "EyHFAG9s-B1b",
        "outputId": "6c967c6e-d66d-4617-8f03-7768d58c275f",
        "colab": {
          "base_uri": "https://localhost:8080/",
          "height": 34
        }
      },
      "source": [
        "32408*0.85"
      ],
      "execution_count": null,
      "outputs": [
        {
          "output_type": "execute_result",
          "data": {
            "text/plain": [
              "27546.8"
            ]
          },
          "metadata": {
            "tags": []
          },
          "execution_count": 45
        }
      ]
    },
    {
      "cell_type": "code",
      "metadata": {
        "id": "dNMM2xiE9-dX"
      },
      "source": [
        "## multi class\n",
        "k1_train = k1[0:22685]\n",
        "k1_valid = k1[22685:27546]\n",
        "k1_test = k1[27546:]\n",
        "k1_train.head()"
      ],
      "execution_count": null,
      "outputs": []
    },
    {
      "cell_type": "code",
      "metadata": {
        "id": "i0gX43kA-U7R",
        "outputId": "b821a10b-ccef-4eb4-ef1e-a946cd6669f2",
        "colab": {
          "base_uri": "https://localhost:8080/",
          "height": 69
        }
      },
      "source": [
        "train = pd.concat([k1_train, b_tr, c_tr, d_tr])\n",
        "print(len(train))\n",
        "valid = pd.concat([k1_valid, b_va, c_va, d_va])\n",
        "print(len(valid))\n",
        "test = pd.concat([k1_test, b_te, c_te, d_te])\n",
        "print(len(test))"
      ],
      "execution_count": null,
      "outputs": [
        {
          "output_type": "stream",
          "text": [
            "24284\n",
            "5203\n",
            "4862\n"
          ],
          "name": "stdout"
        }
      ]
    },
    {
      "cell_type": "code",
      "metadata": {
        "id": "IHrUAuaxhXPo"
      },
      "source": [
        ""
      ],
      "execution_count": null,
      "outputs": []
    },
    {
      "cell_type": "code",
      "metadata": {
        "id": "uuwcEQ9PhDF1"
      },
      "source": [
        ""
      ],
      "execution_count": null,
      "outputs": []
    },
    {
      "cell_type": "code",
      "metadata": {
        "id": "zWKXnPFrNLsT"
      },
      "source": [
        "targets = []\n",
        "t1 = [3 for i in range(len(k1_test)-1)]\n",
        "t2 = [0 for i in range(len(b_test)-1)]\n",
        "t3 = [1 for i in range(len(c_test)-1)]\n",
        "t4 = [2 for i in range(len(d_test)-1)]"
      ],
      "execution_count": null,
      "outputs": []
    },
    {
      "cell_type": "code",
      "metadata": {
        "id": "9PwhDmZ9xQp7"
      },
      "source": [
        "# train.to_csv('/content/gdrive/My Drive/DCNN/Smart Contracts/train_final.csv')\n"
      ],
      "execution_count": null,
      "outputs": []
    },
    {
      "cell_type": "code",
      "metadata": {
        "id": "ICnK8YzsxQi0"
      },
      "source": [
        "# test.to_csv('/content/gdrive/My Drive/DCNN/Smart Contracts/test_final_2.csv')"
      ],
      "execution_count": null,
      "outputs": []
    },
    {
      "cell_type": "code",
      "metadata": {
        "id": "RMXPpaNZTHqj",
        "outputId": "822a8798-4093-49af-b3a4-c42f4e885b50",
        "colab": {
          "base_uri": "https://localhost:8080/",
          "height": 206
        }
      },
      "source": [
        "df_row_merged = pd.concat([k1, df_b2, df_c2, df_d2])\n",
        "df_row_merged.head()"
      ],
      "execution_count": null,
      "outputs": [
        {
          "output_type": "execute_result",
          "data": {
            "text/html": [
              "<div>\n",
              "<style scoped>\n",
              "    .dataframe tbody tr th:only-of-type {\n",
              "        vertical-align: middle;\n",
              "    }\n",
              "\n",
              "    .dataframe tbody tr th {\n",
              "        vertical-align: top;\n",
              "    }\n",
              "\n",
              "    .dataframe thead th {\n",
              "        text-align: right;\n",
              "    }\n",
              "</style>\n",
              "<table border=\"1\" class=\"dataframe\">\n",
              "  <thead>\n",
              "    <tr style=\"text-align: right;\">\n",
              "      <th></th>\n",
              "      <th>OPCODE</th>\n",
              "      <th>CATEGORY</th>\n",
              "    </tr>\n",
              "  </thead>\n",
              "  <tbody>\n",
              "    <tr>\n",
              "      <th>0</th>\n",
              "      <td>60 60 52 36 15 61 57 60 35 7c 90 04 63 16 80 6...</td>\n",
              "      <td>1 0 0 0</td>\n",
              "    </tr>\n",
              "    <tr>\n",
              "      <th>1</th>\n",
              "      <td>60 60 52 36 15 61 57 63 7c 60 35 04 16 63 81 1...</td>\n",
              "      <td>1 0 0 0</td>\n",
              "    </tr>\n",
              "    <tr>\n",
              "      <th>2</th>\n",
              "      <td>36 60 80 37 60 60 36 60 73 60 5a 03 f4 15 60 5...</td>\n",
              "      <td>1 0 0 0</td>\n",
              "    </tr>\n",
              "    <tr>\n",
              "      <th>3</th>\n",
              "      <td>60 60 52 5b fe 00 a1 65 20 65 0a 41 82 86 95 5...</td>\n",
              "      <td>1 0 0 0</td>\n",
              "    </tr>\n",
              "    <tr>\n",
              "      <th>4</th>\n",
              "      <td>60 60 52 36 15 61 57 63 60 60 0a 60 35 04 16 6...</td>\n",
              "      <td>1 0 0 0</td>\n",
              "    </tr>\n",
              "  </tbody>\n",
              "</table>\n",
              "</div>"
            ],
            "text/plain": [
              "                                              OPCODE CATEGORY\n",
              "0  60 60 52 36 15 61 57 60 35 7c 90 04 63 16 80 6...  1 0 0 0\n",
              "1  60 60 52 36 15 61 57 63 7c 60 35 04 16 63 81 1...  1 0 0 0\n",
              "2  36 60 80 37 60 60 36 60 73 60 5a 03 f4 15 60 5...  1 0 0 0\n",
              "3  60 60 52 5b fe 00 a1 65 20 65 0a 41 82 86 95 5...  1 0 0 0\n",
              "4  60 60 52 36 15 61 57 63 60 60 0a 60 35 04 16 6...  1 0 0 0"
            ]
          },
          "metadata": {
            "tags": []
          },
          "execution_count": 29
        }
      ]
    },
    {
      "cell_type": "code",
      "metadata": {
        "id": "qpNVph0dzy_a"
      },
      "source": [
        ""
      ],
      "execution_count": null,
      "outputs": []
    },
    {
      "cell_type": "code",
      "metadata": {
        "id": "3wXFrKAQzy9w"
      },
      "source": [
        ""
      ],
      "execution_count": null,
      "outputs": []
    },
    {
      "cell_type": "code",
      "metadata": {
        "id": "uquTrtBGvpJZ"
      },
      "source": [
        "########### MAIN CODE\n",
        "\n",
        "import pandas as pd\n",
        "import numpy as np\n",
        "df_row_merged = pd.read_csv('/content/gdrive/My Drive/DCNN/Smart Contracts/train_final.csv')\n",
        "df_row_merged.head()\n",
        "df = df_row_merged\n"
      ],
      "execution_count": null,
      "outputs": []
    },
    {
      "cell_type": "code",
      "metadata": {
        "id": "zBT0w-xTsogR",
        "outputId": "e3cb1fdc-a518-44fe-ca63-195325c582af",
        "colab": {
          "base_uri": "https://localhost:8080/",
          "height": 34
        }
      },
      "source": [
        "len(df_row_merged)"
      ],
      "execution_count": null,
      "outputs": [
        {
          "output_type": "execute_result",
          "data": {
            "text/plain": [
              "34606"
            ]
          },
          "metadata": {
            "tags": []
          },
          "execution_count": 52
        }
      ]
    },
    {
      "cell_type": "code",
      "metadata": {
        "id": "NOqNj0KdTHiP",
        "outputId": "3db4ce43-4207-439d-90c1-d1616142fec8",
        "colab": {
          "base_uri": "https://localhost:8080/",
          "height": 69
        }
      },
      "source": [
        "import nltk\n",
        "\n",
        "nltk.download('punkt')"
      ],
      "execution_count": null,
      "outputs": [
        {
          "output_type": "stream",
          "text": [
            "[nltk_data] Downloading package punkt to /root/nltk_data...\n",
            "[nltk_data]   Unzipping tokenizers/punkt.zip.\n"
          ],
          "name": "stdout"
        },
        {
          "output_type": "execute_result",
          "data": {
            "text/plain": [
              "True"
            ]
          },
          "metadata": {
            "tags": []
          },
          "execution_count": 53
        }
      ]
    },
    {
      "cell_type": "code",
      "metadata": {
        "id": "rATAsNXyTHfr"
      },
      "source": [
        "import nltk\n",
        "from fastai.text import *\n",
        "from nltk import tokenize"
      ],
      "execution_count": null,
      "outputs": []
    },
    {
      "cell_type": "code",
      "metadata": {
        "id": "HGsd66XUY_mA",
        "outputId": "a1d455dc-6663-435a-fe62-b92b1c368fc5",
        "colab": {
          "base_uri": "https://localhost:8080/",
          "height": 380
        }
      },
      "source": [
        "# Create databunch\n",
        "\n",
        "df = df_row_merged\n",
        "data = (TextList.from_df(df, cols='OPCODE')\n",
        "                .split_by_rand_pct(0.2)\n",
        "                .label_for_lm()\n",
        "                .databunch(bs=48))\n",
        "data.show_batch()"
      ],
      "execution_count": null,
      "outputs": [
        {
          "output_type": "display_data",
          "data": {
            "text/html": [
              ""
            ],
            "text/plain": [
              "<IPython.core.display.HTML object>"
            ]
          },
          "metadata": {
            "tags": []
          }
        },
        {
          "output_type": "display_data",
          "data": {
            "text/html": [
              ""
            ],
            "text/plain": [
              "<IPython.core.display.HTML object>"
            ]
          },
          "metadata": {
            "tags": []
          }
        },
        {
          "output_type": "stream",
          "text": [
            "/usr/local/lib/python3.6/dist-packages/fastai/text/data.py:339: UserWarning: This overload of nonzero is deprecated:\n",
            "\tnonzero()\n",
            "Consider using one of the following signatures instead:\n",
            "\tnonzero(*, bool as_tuple) (Triggered internally at  /pytorch/torch/csrc/utils/python_arg_parser.cpp:766.)\n",
            "  idx_min = (t != self.pad_idx).nonzero().min()\n"
          ],
          "name": "stderr"
        },
        {
          "output_type": "display_data",
          "data": {
            "text/html": [
              "<table border=\"1\" class=\"dataframe\">\n",
              "  <thead>\n",
              "    <tr style=\"text-align: right;\">\n",
              "      <th>idx</th>\n",
              "      <th>text</th>\n",
              "    </tr>\n",
              "  </thead>\n",
              "  <tbody>\n",
              "    <tr>\n",
              "      <td>0</td>\n",
              "      <td>61 57 7f 60 60 90 54 90 61 0a 90 04 73 16 60 51 80 82 73 16 73 16 81 52 60 01 91 50 50 60 51 80 91 03 90 a1 61 56 5b 60 60 fd 5b 5b 56 5b 00 5b 34 15 61 57 fe 5b 61 60 80 80 35 73 16 90 60 01 90 91 90 50 50 61</td>\n",
              "    </tr>\n",
              "    <tr>\n",
              "      <td>1</td>\n",
              "      <td>61 0a 90 04 73 16 73 16 33 73 16 14 80 61 57 50 60 60 90 54 90 61 0a 90 04 73 16 73 16 33 73 16 14 5b 15 15 61 57 60 80 fd 5b 81 60 80 61 0a 81 54 81 73 02 19 16 90 83 73 16 02 17 90 55 50 80 60 60 61 0a 81 54</td>\n",
              "    </tr>\n",
              "    <tr>\n",
              "      <td>2</td>\n",
              "      <td>92 91 83 01 82 82 80 15 61 57 80 60 10 61 57 61 80 83 54 04 02 83 52 91 60 01 91 61 56 5b 82 01 91 90 60 52 60 60 20 90 5b 81 54 81 52 90 60 01 90 60 01 80 83 11 61 57 82 90 03 60 16 82 01 91 5b xxwrep 5 50 81 56</td>\n",
              "    </tr>\n",
              "    <tr>\n",
              "      <td>3</td>\n",
              "      <td>90 81 52 60 01 60 51 80 91 03 90 a3 50 60 5b 92 91 50 50 56 5b 60 54 81 56 5b 60 60 60 0a 03 80 84 16 60 90 81 52 60 81 81 52 60 80 83 20 33 85 16 84 52 82 52 80 83 20 54 93 86 16 83 52 60 90 91 52 81 20 54 90</td>\n",
              "    </tr>\n",
              "    <tr>\n",
              "      <td>4</td>\n",
              "      <td>61 56 5b 60 34 11 15 61 57 61 56 5b 60 60 60 0a 03 84 81 16 60 90 81 52 60 60 90 81 52 60 80 83 20 33 90 94 16 83 52 92 90 52 20 54 82 11 15 61 57 50 60 61 56 5b 60 60 60 0a 03 84 81 16 60 90 81 52 60 60 90 81</td>\n",
              "    </tr>\n",
              "  </tbody>\n",
              "</table>"
            ],
            "text/plain": [
              "<IPython.core.display.HTML object>"
            ]
          },
          "metadata": {
            "tags": []
          }
        }
      ]
    },
    {
      "cell_type": "code",
      "metadata": {
        "id": "bRqfEJsfY_it",
        "outputId": "9e4a114e-3598-4cf0-a9b5-2af21e4836ae",
        "colab": {
          "base_uri": "https://localhost:8080/",
          "height": 34
        }
      },
      "source": [
        "data_lm = data\n",
        "learn = language_model_learner(data_lm, AWD_LSTM, drop_mult=0.3)"
      ],
      "execution_count": null,
      "outputs": [
        {
          "output_type": "stream",
          "text": [
            "Downloading https://s3.amazonaws.com/fast-ai-modelzoo/wt103-fwd.tgz\n"
          ],
          "name": "stdout"
        },
        {
          "output_type": "display_data",
          "data": {
            "text/html": [
              ""
            ],
            "text/plain": [
              "<IPython.core.display.HTML object>"
            ]
          },
          "metadata": {
            "tags": []
          }
        }
      ]
    },
    {
      "cell_type": "code",
      "metadata": {
        "id": "t6DKMXi4Y_fd",
        "outputId": "270e07ea-985d-494a-cfd4-a2c93f2f0cd4",
        "colab": {
          "base_uri": "https://localhost:8080/",
          "height": 374
        }
      },
      "source": [
        "learn.lr_find()\n",
        "learn.recorder.plot()"
      ],
      "execution_count": null,
      "outputs": [
        {
          "output_type": "display_data",
          "data": {
            "text/html": [
              "\n",
              "    <div>\n",
              "        <style>\n",
              "            /* Turns off some styling */\n",
              "            progress {\n",
              "                /* gets rid of default border in Firefox and Opera. */\n",
              "                border: none;\n",
              "                /* Needs to be in here for Safari polyfill so background images work as expected. */\n",
              "                background-size: auto;\n",
              "            }\n",
              "            .progress-bar-interrupted, .progress-bar-interrupted::-webkit-progress-bar {\n",
              "                background: #F44336;\n",
              "            }\n",
              "        </style>\n",
              "      <progress value='0' class='' max='1', style='width:300px; height:20px; vertical-align: middle;'></progress>\n",
              "      0.00% [0/1 00:00<00:00]\n",
              "    </div>\n",
              "    \n",
              "<table border=\"1\" class=\"dataframe\">\n",
              "  <thead>\n",
              "    <tr style=\"text-align: left;\">\n",
              "      <th>epoch</th>\n",
              "      <th>train_loss</th>\n",
              "      <th>valid_loss</th>\n",
              "      <th>accuracy</th>\n",
              "      <th>time</th>\n",
              "    </tr>\n",
              "  </thead>\n",
              "  <tbody>\n",
              "  </tbody>\n",
              "</table><p>\n",
              "\n",
              "    <div>\n",
              "        <style>\n",
              "            /* Turns off some styling */\n",
              "            progress {\n",
              "                /* gets rid of default border in Firefox and Opera. */\n",
              "                border: none;\n",
              "                /* Needs to be in here for Safari polyfill so background images work as expected. */\n",
              "                background-size: auto;\n",
              "            }\n",
              "            .progress-bar-interrupted, .progress-bar-interrupted::-webkit-progress-bar {\n",
              "                background: #F44336;\n",
              "            }\n",
              "        </style>\n",
              "      <progress value='99' class='' max='13492', style='width:300px; height:20px; vertical-align: middle;'></progress>\n",
              "      0.73% [99/13492 00:10<23:41 4.4729]\n",
              "    </div>\n",
              "    "
            ],
            "text/plain": [
              "<IPython.core.display.HTML object>"
            ]
          },
          "metadata": {
            "tags": []
          }
        },
        {
          "output_type": "stream",
          "text": [
            "LR Finder is complete, type {learner_name}.recorder.plot() to see the graph.\n"
          ],
          "name": "stdout"
        },
        {
          "output_type": "display_data",
          "data": {
            "image/png": "[encoded data removed]",
            "text/plain": [
              "<Figure size 432x288 with 1 Axes>"
            ]
          },
          "metadata": {
            "tags": []
          }
        }
      ]
    },
    {
      "cell_type": "code",
      "metadata": {
        "id": "5sMSTL0VY_cM",
        "outputId": "e8f4486d-7201-4c20-bf29-bca84e7770b8",
        "colab": {
          "base_uri": "https://localhost:8080/",
          "height": 80
        }
      },
      "source": [
        "learn.fit_one_cycle(1, 1e-2, moms=(0.8,0.7))"
      ],
      "execution_count": null,
      "outputs": [
        {
          "output_type": "display_data",
          "data": {
            "text/html": [
              "<table border=\"1\" class=\"dataframe\">\n",
              "  <thead>\n",
              "    <tr style=\"text-align: left;\">\n",
              "      <th>epoch</th>\n",
              "      <th>train_loss</th>\n",
              "      <th>valid_loss</th>\n",
              "      <th>accuracy</th>\n",
              "      <th>time</th>\n",
              "    </tr>\n",
              "  </thead>\n",
              "  <tbody>\n",
              "    <tr>\n",
              "      <td>0</td>\n",
              "      <td>1.150070</td>\n",
              "      <td>0.944705</td>\n",
              "      <td>0.744644</td>\n",
              "      <td>23:35</td>\n",
              "    </tr>\n",
              "  </tbody>\n",
              "</table>"
            ],
            "text/plain": [
              "<IPython.core.display.HTML object>"
            ]
          },
          "metadata": {
            "tags": []
          }
        }
      ]
    },
    {
      "cell_type": "code",
      "metadata": {
        "id": "MiwXUm1rlPhX"
      },
      "source": [
        "path_models1 = '/content/gdrive/My Drive/DCNN/Smart Contracts/weights2/encoder/'\n"
      ],
      "execution_count": null,
      "outputs": []
    },
    {
      "cell_type": "code",
      "metadata": {
        "id": "1vA_QCf-aujN"
      },
      "source": [
        "learn.save_encoder(path_models1 + 'initial_enc-1-epochs-complete')"
      ],
      "execution_count": null,
      "outputs": []
    },
    {
      "cell_type": "code",
      "metadata": {
        "id": "gvyLtk60T6tq"
      },
      "source": [
        "learn.save(path_models1 + 'fit_head')"
      ],
      "execution_count": null,
      "outputs": []
    },
    {
      "cell_type": "code",
      "metadata": {
        "id": "4LvJwBv-T6qo"
      },
      "source": [
        "learn.load(path_models1 + 'fit_head');"
      ],
      "execution_count": null,
      "outputs": []
    },
    {
      "cell_type": "code",
      "metadata": {
        "id": "mHVl1ExrT6nT"
      },
      "source": [
        "learn.unfreeze()"
      ],
      "execution_count": null,
      "outputs": []
    },
    {
      "cell_type": "code",
      "metadata": {
        "id": "8jWTpH4CT6kG",
        "outputId": "470ed8e3-5111-418d-f348-809572233620",
        "colab": {
          "base_uri": "https://localhost:8080/",
          "height": 142
        }
      },
      "source": [
        "learn.fit_one_cycle(3, 5e-2, moms=(0.8,0.7))"
      ],
      "execution_count": null,
      "outputs": [
        {
          "output_type": "display_data",
          "data": {
            "text/html": [
              "<table border=\"1\" class=\"dataframe\">\n",
              "  <thead>\n",
              "    <tr style=\"text-align: left;\">\n",
              "      <th>epoch</th>\n",
              "      <th>train_loss</th>\n",
              "      <th>valid_loss</th>\n",
              "      <th>accuracy</th>\n",
              "      <th>time</th>\n",
              "    </tr>\n",
              "  </thead>\n",
              "  <tbody>\n",
              "    <tr>\n",
              "      <td>0</td>\n",
              "      <td>1.209170</td>\n",
              "      <td>1.034891</td>\n",
              "      <td>0.729575</td>\n",
              "      <td>18:42</td>\n",
              "    </tr>\n",
              "    <tr>\n",
              "      <td>1</td>\n",
              "      <td>1.188855</td>\n",
              "      <td>0.965753</td>\n",
              "      <td>0.742357</td>\n",
              "      <td>18:42</td>\n",
              "    </tr>\n",
              "    <tr>\n",
              "      <td>2</td>\n",
              "      <td>1.183764</td>\n",
              "      <td>0.906401</td>\n",
              "      <td>0.756119</td>\n",
              "      <td>18:43</td>\n",
              "    </tr>\n",
              "  </tbody>\n",
              "</table>"
            ],
            "text/plain": [
              "<IPython.core.display.HTML object>"
            ]
          },
          "metadata": {
            "tags": []
          }
        }
      ]
    },
    {
      "cell_type": "code",
      "metadata": {
        "id": "kMZxRerHlV8W"
      },
      "source": [
        "learn.save(path_models1 + 'fit_head_2')"
      ],
      "execution_count": null,
      "outputs": []
    },
    {
      "cell_type": "code",
      "metadata": {
        "id": "blCmLAWA_yUD"
      },
      "source": [
        "learn.save_encoder(path_models1 + 'initial_enc-4-epochs-1e-3-complete-2')"
      ],
      "execution_count": null,
      "outputs": []
    },
    {
      "cell_type": "code",
      "metadata": {
        "id": "xlKQ-yIAXkhL",
        "outputId": "0d4d6417-e87b-4b63-d36b-13c7c88ad060",
        "colab": {
          "base_uri": "https://localhost:8080/",
          "height": 142
        }
      },
      "source": [
        "learn.fit_one_cycle(3, 7e-2, moms=(0.8,0.7))"
      ],
      "execution_count": null,
      "outputs": [
        {
          "output_type": "display_data",
          "data": {
            "text/html": [
              "<table border=\"1\" class=\"dataframe\">\n",
              "  <thead>\n",
              "    <tr style=\"text-align: left;\">\n",
              "      <th>epoch</th>\n",
              "      <th>train_loss</th>\n",
              "      <th>valid_loss</th>\n",
              "      <th>accuracy</th>\n",
              "      <th>time</th>\n",
              "    </tr>\n",
              "  </thead>\n",
              "  <tbody>\n",
              "    <tr>\n",
              "      <td>0</td>\n",
              "      <td>1.370107</td>\n",
              "      <td>1.062524</td>\n",
              "      <td>0.718436</td>\n",
              "      <td>18:44</td>\n",
              "    </tr>\n",
              "    <tr>\n",
              "      <td>1</td>\n",
              "      <td>1.190393</td>\n",
              "      <td>0.980381</td>\n",
              "      <td>0.739281</td>\n",
              "      <td>18:43</td>\n",
              "    </tr>\n",
              "    <tr>\n",
              "      <td>2</td>\n",
              "      <td>1.152859</td>\n",
              "      <td>0.901615</td>\n",
              "      <td>0.757573</td>\n",
              "      <td>18:41</td>\n",
              "    </tr>\n",
              "  </tbody>\n",
              "</table>"
            ],
            "text/plain": [
              "<IPython.core.display.HTML object>"
            ]
          },
          "metadata": {
            "tags": []
          }
        }
      ]
    },
    {
      "cell_type": "code",
      "metadata": {
        "id": "GVERllnPT6gh"
      },
      "source": [
        "learn.save(path_models1 + 'fine_tuned-ver-2')\n",
        "learn.save_encoder(path_models1 + 'initial_enc-7-epochs-1e-3-complete-2')"
      ],
      "execution_count": null,
      "outputs": []
    },
    {
      "cell_type": "code",
      "metadata": {
        "id": "mk8Um7XLhugK"
      },
      "source": [
        "learn.load_encoder(path_models1 + 'initial_enc-5-epochs-1e-3-complete-2');"
      ],
      "execution_count": null,
      "outputs": []
    },
    {
      "cell_type": "code",
      "metadata": {
        "id": "LfyLJBVMW4zZ"
      },
      "source": [
        "learn.load(path_models1 + 'fine_tuned-ver-2');"
      ],
      "execution_count": null,
      "outputs": []
    },
    {
      "cell_type": "code",
      "metadata": {
        "id": "by82pkEGgq4S",
        "outputId": "7f7ff29a-8789-4fd3-a375-d1467b8cd54f",
        "colab": {
          "base_uri": "https://localhost:8080/",
          "height": 111
        }
      },
      "source": [
        "learn.fit_one_cycle(2, 3e-2, moms=(0.8,0.7))"
      ],
      "execution_count": null,
      "outputs": [
        {
          "output_type": "display_data",
          "data": {
            "text/html": [
              "<table border=\"1\" class=\"dataframe\">\n",
              "  <thead>\n",
              "    <tr style=\"text-align: left;\">\n",
              "      <th>epoch</th>\n",
              "      <th>train_loss</th>\n",
              "      <th>valid_loss</th>\n",
              "      <th>accuracy</th>\n",
              "      <th>time</th>\n",
              "    </tr>\n",
              "  </thead>\n",
              "  <tbody>\n",
              "    <tr>\n",
              "      <td>0</td>\n",
              "      <td>1.099067</td>\n",
              "      <td>0.952350</td>\n",
              "      <td>0.746386</td>\n",
              "      <td>18:43</td>\n",
              "    </tr>\n",
              "    <tr>\n",
              "      <td>1</td>\n",
              "      <td>1.167776</td>\n",
              "      <td>0.891738</td>\n",
              "      <td>0.760354</td>\n",
              "      <td>18:43</td>\n",
              "    </tr>\n",
              "  </tbody>\n",
              "</table>"
            ],
            "text/plain": [
              "<IPython.core.display.HTML object>"
            ]
          },
          "metadata": {
            "tags": []
          }
        }
      ]
    },
    {
      "cell_type": "code",
      "metadata": {
        "id": "BH5-VQm6Hc_Z"
      },
      "source": [
        "learn.save(path_models1 + 'fine_tuned-final')\n",
        "learn.save_encoder(path_models1 + 'initial_enc-9-epochs-3e-2-complete-2')"
      ],
      "execution_count": null,
      "outputs": []
    },
    {
      "cell_type": "code",
      "metadata": {
        "id": "Ou1EBuJBTHYP",
        "outputId": "22f14023-4eee-4aca-f9bf-208f2fb427fb",
        "colab": {
          "base_uri": "https://localhost:8080/",
          "height": 17
        }
      },
      "source": [
        "# ############# Classifier\n",
        "# ###########  Main code for classifier data\n",
        "\n",
        "# bs = 32\n",
        "\n",
        "# data_lm = data\n",
        "# csv_path = '/content/gdrive/My Drive/DCNN/Smart Contracts/'\n",
        "# classifier_data = (TextList.from_df(df, csv_path, cols=['OPCODE','CATEGORY'], vocab=data_lm.vocab)\n",
        "#                     .split_by_rand_pct(0.15, seed = 42)\n",
        "#                     .label_from_df(cols='CATEGORY', label_delim='|')\n",
        "#                     .databunch(bs=bs))\n",
        "# path_models = '/content/gdrive/My Drive/Smart Contracts/models/Smart_Contracts'\n",
        "\n",
        "# test_df = pd.read_csv('/content/gdrive/My Drive/DCNN/Smart Contracts/test_final_2.csv')\n",
        "# classifier_data.add_test(test_df['OPCODE'])"
      ],
      "execution_count": null,
      "outputs": [
        {
          "output_type": "display_data",
          "data": {
            "text/html": [
              ""
            ],
            "text/plain": [
              "<IPython.core.display.HTML object>"
            ]
          },
          "metadata": {
            "tags": []
          }
        },
        {
          "output_type": "display_data",
          "data": {
            "text/html": [
              ""
            ],
            "text/plain": [
              "<IPython.core.display.HTML object>"
            ]
          },
          "metadata": {
            "tags": []
          }
        },
        {
          "output_type": "display_data",
          "data": {
            "text/html": [
              ""
            ],
            "text/plain": [
              "<IPython.core.display.HTML object>"
            ]
          },
          "metadata": {
            "tags": []
          }
        }
      ]
    },
    {
      "cell_type": "code",
      "metadata": {
        "id": "0NaxB5kDAGqt"
      },
      "source": [
        "############# Classifier\n",
        "###########  Main code for classifier data\n",
        "\n",
        "bs = 32\n",
        "\n",
        "data_lm = data\n",
        "csv_path = '/content/gdrive/My Drive/DCNN/Smart Contracts/'\n",
        "classifier_data = (TextList.from_df(train_df = train, valid_df = valid,\n",
        "                                    #cols=['OPCODE','CATEGORY'],\n",
        "                                    vocab=data_lm.vocab)\n",
        "                    #.split_by_rand_pct(0.15, seed = 42)\n",
        "                    .label_from_df(cols='CATEGORY', label_delim='|')\n",
        "                    .databunch(bs=bs))\n",
        "path_models = '/content/gdrive/My Drive/Smart Contracts/models/Smart_Contracts'\n",
        "\n",
        "test_df = test#pd.read_csv('/content/gdrive/My Drive/DCNN/Smart Contracts/test_final_2.csv')\n",
        "classifier_data.add_test(test_df['OPCODE'])"
      ],
      "execution_count": null,
      "outputs": []
    },
    {
      "cell_type": "code",
      "metadata": {
        "id": "kCnlwbgFa4Xf",
        "outputId": "b9212d53-adad-4b46-bcf2-7e9ec1b8d941",
        "colab": {
          "base_uri": "https://localhost:8080/",
          "height": 35
        }
      },
      "source": [
        "learner = text_classifier_learner(classifier_data, AWD_LSTM, drop_mult=1.0, metrics=fbeta)"
      ],
      "execution_count": null,
      "outputs": [
        {
          "output_type": "stream",
          "text": [
            "Downloading https://s3.amazonaws.com/fast-ai-modelzoo/wt103-fwd\n"
          ],
          "name": "stdout"
        },
        {
          "output_type": "display_data",
          "data": {
            "text/html": [
              ""
            ],
            "text/plain": [
              "<IPython.core.display.HTML object>"
            ]
          },
          "metadata": {
            "tags": []
          }
        }
      ]
    },
    {
      "cell_type": "code",
      "metadata": {
        "id": "6HbowDN6a4Uc"
      },
      "source": [
        "path_models1 = '/content/gdrive/My Drive/DCNN/Smart Contracts/weights2/encoder/'\n",
        "learner.load_encoder(path_models1 + 'initial_enc-9-epochs-3e-2-complete-2');\n",
        "learner.freeze()"
      ],
      "execution_count": null,
      "outputs": []
    },
    {
      "cell_type": "code",
      "metadata": {
        "id": "RAkwqkvmeRR4",
        "outputId": "fac1bf4d-39c9-40c1-b0bd-a8948a20221f",
        "colab": {
          "base_uri": "https://localhost:8080/",
          "height": 374
        }
      },
      "source": [
        "## Learning Rate Scheduler for Classifier\n",
        "learner.lr_find()\n",
        "learner.recorder.plot()"
      ],
      "execution_count": null,
      "outputs": [
        {
          "output_type": "display_data",
          "data": {
            "text/html": [
              "\n",
              "    <div>\n",
              "        <style>\n",
              "            /* Turns off some styling */\n",
              "            progress {\n",
              "                /* gets rid of default border in Firefox and Opera. */\n",
              "                border: none;\n",
              "                /* Needs to be in here for Safari polyfill so background images work as expected. */\n",
              "                background-size: auto;\n",
              "            }\n",
              "            .progress-bar-interrupted, .progress-bar-interrupted::-webkit-progress-bar {\n",
              "                background: #F44336;\n",
              "            }\n",
              "        </style>\n",
              "      <progress value='0' class='' max='1', style='width:300px; height:20px; vertical-align: middle;'></progress>\n",
              "      0.00% [0/1 00:00<00:00]\n",
              "    </div>\n",
              "    \n",
              "<table border=\"1\" class=\"dataframe\">\n",
              "  <thead>\n",
              "    <tr style=\"text-align: left;\">\n",
              "      <th>epoch</th>\n",
              "      <th>train_loss</th>\n",
              "      <th>valid_loss</th>\n",
              "      <th>fbeta</th>\n",
              "      <th>time</th>\n",
              "    </tr>\n",
              "  </thead>\n",
              "  <tbody>\n",
              "  </tbody>\n",
              "</table><p>\n",
              "\n",
              "    <div>\n",
              "        <style>\n",
              "            /* Turns off some styling */\n",
              "            progress {\n",
              "                /* gets rid of default border in Firefox and Opera. */\n",
              "                border: none;\n",
              "                /* Needs to be in here for Safari polyfill so background images work as expected. */\n",
              "                background-size: auto;\n",
              "            }\n",
              "            .progress-bar-interrupted, .progress-bar-interrupted::-webkit-progress-bar {\n",
              "                background: #F44336;\n",
              "            }\n",
              "        </style>\n",
              "      <progress value='96' class='' max='919', style='width:300px; height:20px; vertical-align: middle;'></progress>\n",
              "      10.45% [96/919 01:47<15:24 2.0429]\n",
              "    </div>\n",
              "    "
            ],
            "text/plain": [
              "<IPython.core.display.HTML object>"
            ]
          },
          "metadata": {
            "tags": []
          }
        },
        {
          "output_type": "stream",
          "text": [
            "LR Finder is complete, type {learner_name}.recorder.plot() to see the graph.\n"
          ],
          "name": "stdout"
        },
        {
          "output_type": "display_data",
          "data": {
            "image/png": "[encoded data removed]",
            "text/plain": [
              "<Figure size 432x288 with 1 Axes>"
            ]
          },
          "metadata": {
            "tags": []
          }
        }
      ]
    },
    {
      "cell_type": "code",
      "metadata": {
        "id": "nfCjNCV00Mxd",
        "outputId": "5846bfdc-7b8a-4c7d-c47c-16eec99e4bc0",
        "colab": {
          "base_uri": "https://localhost:8080/",
          "height": 111
        }
      },
      "source": [
        "lr = 6e-2\n",
        "learner.fit_one_cycle(2,slice(lr/(2.6**4),lr), moms=(0.8,0.7) )"
      ],
      "execution_count": null,
      "outputs": [
        {
          "output_type": "display_data",
          "data": {
            "text/html": [
              "<table border=\"1\" class=\"dataframe\">\n",
              "  <thead>\n",
              "    <tr style=\"text-align: left;\">\n",
              "      <th>epoch</th>\n",
              "      <th>train_loss</th>\n",
              "      <th>valid_loss</th>\n",
              "      <th>fbeta</th>\n",
              "      <th>time</th>\n",
              "    </tr>\n",
              "  </thead>\n",
              "  <tbody>\n",
              "    <tr>\n",
              "      <td>0</td>\n",
              "      <td>0.200910</td>\n",
              "      <td>29.579208</td>\n",
              "      <td>0.911231</td>\n",
              "      <td>23:08</td>\n",
              "    </tr>\n",
              "    <tr>\n",
              "      <td>1</td>\n",
              "      <td>0.158925</td>\n",
              "      <td>1.395412</td>\n",
              "      <td>0.954207</td>\n",
              "      <td>22:26</td>\n",
              "    </tr>\n",
              "  </tbody>\n",
              "</table>"
            ],
            "text/plain": [
              "<IPython.core.display.HTML object>"
            ]
          },
          "metadata": {
            "tags": []
          }
        }
      ]
    },
    {
      "cell_type": "code",
      "metadata": {
        "id": "krb-0qW30Mxi"
      },
      "source": [
        "learner.save('/content/gdrive/My Drive/DCNN/Smart Contracts/weights2/classifier/classifier-2-epochs-8e-2')"
      ],
      "execution_count": null,
      "outputs": []
    },
    {
      "cell_type": "code",
      "metadata": {
        "id": "SRZHJbxQXFnU"
      },
      "source": [
        "learner.load('/content/gdrive/My Drive/DCNN/Smart Contracts/weights2/classifier/classifier-2-epochs-8e-2');"
      ],
      "execution_count": null,
      "outputs": []
    },
    {
      "cell_type": "code",
      "metadata": {
        "id": "cL8MXlQf0Mxn",
        "outputId": "10a880ec-4a38-41c9-a1d5-a6db9c941ed0",
        "colab": {
          "base_uri": "https://localhost:8080/",
          "height": 235
        }
      },
      "source": [
        "learner.freeze_to(-2)\n",
        "lr = 5e-2\n",
        "learner.fit_one_cycle(6,slice(lr/(2.6**4),lr), moms=(0.8,0.7) )"
      ],
      "execution_count": null,
      "outputs": [
        {
          "output_type": "display_data",
          "data": {
            "text/html": [
              "<table border=\"1\" class=\"dataframe\">\n",
              "  <thead>\n",
              "    <tr style=\"text-align: left;\">\n",
              "      <th>epoch</th>\n",
              "      <th>train_loss</th>\n",
              "      <th>valid_loss</th>\n",
              "      <th>fbeta</th>\n",
              "      <th>time</th>\n",
              "    </tr>\n",
              "  </thead>\n",
              "  <tbody>\n",
              "    <tr>\n",
              "      <td>0</td>\n",
              "      <td>0.168052</td>\n",
              "      <td>0.148936</td>\n",
              "      <td>0.947752</td>\n",
              "      <td>26:12</td>\n",
              "    </tr>\n",
              "    <tr>\n",
              "      <td>1</td>\n",
              "      <td>0.198472</td>\n",
              "      <td>2.447259</td>\n",
              "      <td>0.916079</td>\n",
              "      <td>22:07</td>\n",
              "    </tr>\n",
              "    <tr>\n",
              "      <td>2</td>\n",
              "      <td>0.177667</td>\n",
              "      <td>0.197151</td>\n",
              "      <td>0.957386</td>\n",
              "      <td>20:57</td>\n",
              "    </tr>\n",
              "    <tr>\n",
              "      <td>3</td>\n",
              "      <td>0.148902</td>\n",
              "      <td>0.366099</td>\n",
              "      <td>0.951807</td>\n",
              "      <td>23:36</td>\n",
              "    </tr>\n",
              "    <tr>\n",
              "      <td>4</td>\n",
              "      <td>0.109622</td>\n",
              "      <td>0.257642</td>\n",
              "      <td>0.957648</td>\n",
              "      <td>22:16</td>\n",
              "    </tr>\n",
              "    <tr>\n",
              "      <td>5</td>\n",
              "      <td>0.094885</td>\n",
              "      <td>0.290410</td>\n",
              "      <td>0.960629</td>\n",
              "      <td>26:18</td>\n",
              "    </tr>\n",
              "  </tbody>\n",
              "</table>"
            ],
            "text/plain": [
              "<IPython.core.display.HTML object>"
            ]
          },
          "metadata": {
            "tags": []
          }
        }
      ]
    },
    {
      "cell_type": "code",
      "metadata": {
        "id": "7YYjF_TU0Mxq"
      },
      "source": [
        "learner.save('/content/gdrive/My Drive/DCNN/Smart Contracts/weights2/classifier/classifier-8-epochs-3e-2')"
      ],
      "execution_count": null,
      "outputs": []
    },
    {
      "cell_type": "code",
      "metadata": {
        "id": "RgqWEcdrzy9A"
      },
      "source": [
        "learner.load('/content/gdrive/My Drive/DCNN/Smart Contracts/weights2/classifier/classifier-8-epochs-3e-2');"
      ],
      "execution_count": null,
      "outputs": []
    },
    {
      "cell_type": "code",
      "metadata": {
        "id": "2BPdcyHrGeW9",
        "outputId": "f5c5be97-d9b1-447f-b55c-8d64ce2efe6e",
        "colab": {
          "base_uri": "https://localhost:8080/",
          "height": 142
        }
      },
      "source": [
        "learner.freeze_to(-2)\n",
        "lr = 2e-2\n",
        "learner.fit_one_cycle(3,slice(lr/(2.6**4),lr), moms=(0.8,0.7) )"
      ],
      "execution_count": null,
      "outputs": [
        {
          "output_type": "display_data",
          "data": {
            "text/html": [
              "<table border=\"1\" class=\"dataframe\">\n",
              "  <thead>\n",
              "    <tr style=\"text-align: left;\">\n",
              "      <th>epoch</th>\n",
              "      <th>train_loss</th>\n",
              "      <th>valid_loss</th>\n",
              "      <th>fbeta</th>\n",
              "      <th>time</th>\n",
              "    </tr>\n",
              "  </thead>\n",
              "  <tbody>\n",
              "    <tr>\n",
              "      <td>0</td>\n",
              "      <td>0.165682</td>\n",
              "      <td>0.160569</td>\n",
              "      <td>0.950083</td>\n",
              "      <td>41:02</td>\n",
              "    </tr>\n",
              "    <tr>\n",
              "      <td>1</td>\n",
              "      <td>0.152415</td>\n",
              "      <td>0.120780</td>\n",
              "      <td>0.952477</td>\n",
              "      <td>39:56</td>\n",
              "    </tr>\n",
              "    <tr>\n",
              "      <td>2</td>\n",
              "      <td>0.136795</td>\n",
              "      <td>0.162884</td>\n",
              "      <td>0.949977</td>\n",
              "      <td>47:57</td>\n",
              "    </tr>\n",
              "  </tbody>\n",
              "</table>"
            ],
            "text/plain": [
              "<IPython.core.display.HTML object>"
            ]
          },
          "metadata": {
            "tags": []
          }
        }
      ]
    },
    {
      "cell_type": "code",
      "metadata": {
        "id": "YOMG2E8CCtVi"
      },
      "source": [
        "learner.save('/content/gdrive/My Drive/DCNN/Smart Contracts/weights2/classifier/classifier-11-epochs-2e-2');"
      ],
      "execution_count": null,
      "outputs": []
    },
    {
      "cell_type": "code",
      "metadata": {
        "id": "-mcb2JgtCmiQ",
        "outputId": "416d4f88-92e3-4354-c9f9-5297e1d24d49",
        "colab": {
          "base_uri": "https://localhost:8080/",
          "height": 297
        }
      },
      "source": [
        "learner.freeze_to(-2)\n",
        "lr = 4e-2\n",
        "learner.fit_one_cycle(8,slice(lr/(2.6**4),lr), moms=(0.8,0.7) )"
      ],
      "execution_count": null,
      "outputs": [
        {
          "output_type": "display_data",
          "data": {
            "text/html": [
              "<table border=\"1\" class=\"dataframe\">\n",
              "  <thead>\n",
              "    <tr style=\"text-align: left;\">\n",
              "      <th>epoch</th>\n",
              "      <th>train_loss</th>\n",
              "      <th>valid_loss</th>\n",
              "      <th>fbeta</th>\n",
              "      <th>time</th>\n",
              "    </tr>\n",
              "  </thead>\n",
              "  <tbody>\n",
              "    <tr>\n",
              "      <td>0</td>\n",
              "      <td>0.131081</td>\n",
              "      <td>0.234887</td>\n",
              "      <td>0.952179</td>\n",
              "      <td>42:31</td>\n",
              "    </tr>\n",
              "    <tr>\n",
              "      <td>1</td>\n",
              "      <td>0.175745</td>\n",
              "      <td>0.505492</td>\n",
              "      <td>0.954780</td>\n",
              "      <td>50:47</td>\n",
              "    </tr>\n",
              "    <tr>\n",
              "      <td>2</td>\n",
              "      <td>0.143650</td>\n",
              "      <td>0.237026</td>\n",
              "      <td>0.947215</td>\n",
              "      <td>47:46</td>\n",
              "    </tr>\n",
              "    <tr>\n",
              "      <td>3</td>\n",
              "      <td>0.151252</td>\n",
              "      <td>0.472699</td>\n",
              "      <td>0.947165</td>\n",
              "      <td>47:20</td>\n",
              "    </tr>\n",
              "    <tr>\n",
              "      <td>4</td>\n",
              "      <td>0.138624</td>\n",
              "      <td>0.086501</td>\n",
              "      <td>0.953656</td>\n",
              "      <td>51:14</td>\n",
              "    </tr>\n",
              "    <tr>\n",
              "      <td>5</td>\n",
              "      <td>0.144528</td>\n",
              "      <td>12.592117</td>\n",
              "      <td>0.946307</td>\n",
              "      <td>43:49</td>\n",
              "    </tr>\n",
              "    <tr>\n",
              "      <td>6</td>\n",
              "      <td>0.122632</td>\n",
              "      <td>0.306239</td>\n",
              "      <td>0.949780</td>\n",
              "      <td>41:40</td>\n",
              "    </tr>\n",
              "    <tr>\n",
              "      <td>7</td>\n",
              "      <td>0.125533</td>\n",
              "      <td>0.253642</td>\n",
              "      <td>0.951574</td>\n",
              "      <td>47:21</td>\n",
              "    </tr>\n",
              "  </tbody>\n",
              "</table>"
            ],
            "text/plain": [
              "<IPython.core.display.HTML object>"
            ]
          },
          "metadata": {
            "tags": []
          }
        }
      ]
    },
    {
      "cell_type": "code",
      "metadata": {
        "id": "JBaNoQ6fGiUR"
      },
      "source": [
        "learner.save('/content/gdrive/My Drive/DCNN/Smart Contracts/weights2/classifier3/classifier-19-epochs-4e-2');"
      ],
      "execution_count": null,
      "outputs": []
    },
    {
      "cell_type": "code",
      "metadata": {
        "id": "epe-K2JI-qb3",
        "outputId": "448b4d2b-1221-4ec6-d814-e6486032f948",
        "colab": {
          "base_uri": "https://localhost:8080/",
          "height": 297
        }
      },
      "source": [
        "learner.load('/content/gdrive/My Drive/DCNN/Smart Contracts/weights2/classifier3/classifier-19-epochs-4e-2');\n",
        "learner.freeze_to(-2)\n",
        "lr = 9e-3\n",
        "learner.fit_one_cycle(8,slice(lr/(2.6**4),lr), moms=(0.8,0.7) )\n",
        "learner.save('/content/gdrive/My Drive/DCNN/Smart Contracts/weights2/classifier/classifier-27-epochs-9e-3')"
      ],
      "execution_count": null,
      "outputs": [
        {
          "output_type": "display_data",
          "data": {
            "text/html": [
              "<table border=\"1\" class=\"dataframe\">\n",
              "  <thead>\n",
              "    <tr style=\"text-align: left;\">\n",
              "      <th>epoch</th>\n",
              "      <th>train_loss</th>\n",
              "      <th>valid_loss</th>\n",
              "      <th>fbeta</th>\n",
              "      <th>time</th>\n",
              "    </tr>\n",
              "  </thead>\n",
              "  <tbody>\n",
              "    <tr>\n",
              "      <td>0</td>\n",
              "      <td>0.115678</td>\n",
              "      <td>0.200073</td>\n",
              "      <td>0.949316</td>\n",
              "      <td>40:42</td>\n",
              "    </tr>\n",
              "    <tr>\n",
              "      <td>1</td>\n",
              "      <td>0.119503</td>\n",
              "      <td>0.132708</td>\n",
              "      <td>0.951138</td>\n",
              "      <td>39:34</td>\n",
              "    </tr>\n",
              "    <tr>\n",
              "      <td>2</td>\n",
              "      <td>0.124392</td>\n",
              "      <td>8.338257</td>\n",
              "      <td>0.946387</td>\n",
              "      <td>47:40</td>\n",
              "    </tr>\n",
              "    <tr>\n",
              "      <td>3</td>\n",
              "      <td>0.109703</td>\n",
              "      <td>0.304525</td>\n",
              "      <td>0.952657</td>\n",
              "      <td>42:14</td>\n",
              "    </tr>\n",
              "    <tr>\n",
              "      <td>4</td>\n",
              "      <td>0.124057</td>\n",
              "      <td>0.106317</td>\n",
              "      <td>0.953597</td>\n",
              "      <td>50:31</td>\n",
              "    </tr>\n",
              "    <tr>\n",
              "      <td>5</td>\n",
              "      <td>0.097536</td>\n",
              "      <td>0.086474</td>\n",
              "      <td>0.959863</td>\n",
              "      <td>47:41</td>\n",
              "    </tr>\n",
              "    <tr>\n",
              "      <td>6</td>\n",
              "      <td>0.108899</td>\n",
              "      <td>0.078886</td>\n",
              "      <td>0.961024</td>\n",
              "      <td>47:02</td>\n",
              "    </tr>\n",
              "    <tr>\n",
              "      <td>7</td>\n",
              "      <td>0.098650</td>\n",
              "      <td>0.082841</td>\n",
              "      <td>0.960359</td>\n",
              "      <td>51:00</td>\n",
              "    </tr>\n",
              "  </tbody>\n",
              "</table>"
            ],
            "text/plain": [
              "<IPython.core.display.HTML object>"
            ]
          },
          "metadata": {
            "tags": []
          }
        }
      ]
    },
    {
      "cell_type": "code",
      "metadata": {
        "id": "19u7oi_OXMX8"
      },
      "source": [
        "learner.load('/content/gdrive/My Drive/DCNN/Smart Contracts/weights2/classifier/classifier-27-epochs-9e-3');"
      ],
      "execution_count": null,
      "outputs": []
    },
    {
      "cell_type": "code",
      "metadata": {
        "id": "DEH9Cdp38Cdi",
        "outputId": "8f2e71ba-f643-4015-8986-3e15e6156e8e",
        "colab": {
          "base_uri": "https://localhost:8080/",
          "height": 94
        }
      },
      "source": [
        "learner.freeze_to(-2)\n",
        "lr = 1e-2\n",
        "learner.fit_one_cycle(5,slice(lr/(2.6**4),lr), moms=(0.8,0.7))\n",
        "learner.save('/content/gdrive/My Drive/DCNN/Smart Contracts/weights2/classifier/classifier-32-epochs-5e-2')"
      ],
      "execution_count": null,
      "outputs": [
        {
          "output_type": "display_data",
          "data": {
            "text/html": [
              "\n",
              "    <div>\n",
              "        <style>\n",
              "            /* Turns off some styling */\n",
              "            progress {\n",
              "                /* gets rid of default border in Firefox and Opera. */\n",
              "                border: none;\n",
              "                /* Needs to be in here for Safari polyfill so background images work as expected. */\n",
              "                background-size: auto;\n",
              "            }\n",
              "            .progress-bar-interrupted, .progress-bar-interrupted::-webkit-progress-bar {\n",
              "                background: #F44336;\n",
              "            }\n",
              "        </style>\n",
              "      <progress value='0' class='' max='5', style='width:300px; height:20px; vertical-align: middle;'></progress>\n",
              "      0.00% [0/5 00:00<00:00]\n",
              "    </div>\n",
              "    \n",
              "<table border=\"1\" class=\"dataframe\">\n",
              "  <thead>\n",
              "    <tr style=\"text-align: left;\">\n",
              "      <th>epoch</th>\n",
              "      <th>train_loss</th>\n",
              "      <th>valid_loss</th>\n",
              "      <th>fbeta</th>\n",
              "      <th>time</th>\n",
              "    </tr>\n",
              "  </thead>\n",
              "  <tbody>\n",
              "  </tbody>\n",
              "</table><p>\n",
              "\n",
              "    <div>\n",
              "        <style>\n",
              "            /* Turns off some styling */\n",
              "            progress {\n",
              "                /* gets rid of default border in Firefox and Opera. */\n",
              "                border: none;\n",
              "                /* Needs to be in here for Safari polyfill so background images work as expected. */\n",
              "                background-size: auto;\n",
              "            }\n",
              "            .progress-bar-interrupted, .progress-bar-interrupted::-webkit-progress-bar {\n",
              "                background: #F44336;\n",
              "            }\n",
              "        </style>\n",
              "      <progress value='118' class='' max='919', style='width:300px; height:20px; vertical-align: middle;'></progress>\n",
              "      12.84% [118/919 04:28<30:23 0.1034]\n",
              "    </div>\n",
              "    "
            ],
            "text/plain": [
              "<IPython.core.display.HTML object>"
            ]
          },
          "metadata": {
            "tags": []
          }
        }
      ]
    },
    {
      "cell_type": "code",
      "metadata": {
        "id": "UB0g5JgR8hd-",
        "outputId": "e880b3f6-6077-47dc-dfb7-179c98c58d71",
        "colab": {
          "base_uri": "https://localhost:8080/",
          "height": 359
        }
      },
      "source": [
        "learner.load('/content/gdrive/My Drive/DCNN/Smart Contracts/weights2/classifier/classifier-32-epochs-5e-2');\n",
        "learner.freeze_to(-3)\n",
        "lr = 1e-2\n",
        "learner.fit_one_cycle(10,slice(lr/(2.6**4),lr), moms=(0.8,0.7) )\n",
        "learner.save('/content/gdrive/My Drive/DCNN/Smart Contracts/weights2/classifier/classifier-42-epochs-5e-2')"
      ],
      "execution_count": null,
      "outputs": [
        {
          "output_type": "display_data",
          "data": {
            "text/html": [
              "<table border=\"1\" class=\"dataframe\">\n",
              "  <thead>\n",
              "    <tr style=\"text-align: left;\">\n",
              "      <th>epoch</th>\n",
              "      <th>train_loss</th>\n",
              "      <th>valid_loss</th>\n",
              "      <th>fbeta</th>\n",
              "      <th>time</th>\n",
              "    </tr>\n",
              "  </thead>\n",
              "  <tbody>\n",
              "    <tr>\n",
              "      <td>0</td>\n",
              "      <td>0.177238</td>\n",
              "      <td>0.148695</td>\n",
              "      <td>0.960302</td>\n",
              "      <td>12:29</td>\n",
              "    </tr>\n",
              "    <tr>\n",
              "      <td>1</td>\n",
              "      <td>0.177051</td>\n",
              "      <td>0.139857</td>\n",
              "      <td>0.962692</td>\n",
              "      <td>11:11</td>\n",
              "    </tr>\n",
              "    <tr>\n",
              "      <td>2</td>\n",
              "      <td>0.161684</td>\n",
              "      <td>0.135425</td>\n",
              "      <td>0.964918</td>\n",
              "      <td>13:02</td>\n",
              "    </tr>\n",
              "    <tr>\n",
              "      <td>3</td>\n",
              "      <td>0.174451</td>\n",
              "      <td>0.124701</td>\n",
              "      <td>0.968068</td>\n",
              "      <td>12:41</td>\n",
              "    </tr>\n",
              "    <tr>\n",
              "      <td>4</td>\n",
              "      <td>0.155101</td>\n",
              "      <td>0.135842</td>\n",
              "      <td>0.961334</td>\n",
              "      <td>11:57</td>\n",
              "    </tr>\n",
              "    <tr>\n",
              "      <td>5</td>\n",
              "      <td>0.153178</td>\n",
              "      <td>0.132065</td>\n",
              "      <td>0.965081</td>\n",
              "      <td>13:15</td>\n",
              "    </tr>\n",
              "    <tr>\n",
              "      <td>6</td>\n",
              "      <td>0.154783</td>\n",
              "      <td>0.121194</td>\n",
              "      <td>0.966601</td>\n",
              "      <td>13:46</td>\n",
              "    </tr>\n",
              "    <tr>\n",
              "      <td>7</td>\n",
              "      <td>0.155945</td>\n",
              "      <td>0.118097</td>\n",
              "      <td>0.967525</td>\n",
              "      <td>11:50</td>\n",
              "    </tr>\n",
              "    <tr>\n",
              "      <td>8</td>\n",
              "      <td>0.133530</td>\n",
              "      <td>0.120655</td>\n",
              "      <td>0.966873</td>\n",
              "      <td>11:42</td>\n",
              "    </tr>\n",
              "    <tr>\n",
              "      <td>9</td>\n",
              "      <td>0.150391</td>\n",
              "      <td>0.121996</td>\n",
              "      <td>0.967036</td>\n",
              "      <td>11:04</td>\n",
              "    </tr>\n",
              "  </tbody>\n",
              "</table>"
            ],
            "text/plain": [
              "<IPython.core.display.HTML object>"
            ]
          },
          "metadata": {
            "tags": []
          }
        }
      ]
    },
    {
      "cell_type": "code",
      "metadata": {
        "id": "EXJpY4VPgVfZ",
        "outputId": "27191171-d7d5-4482-ad10-b6696a5b2266",
        "colab": {
          "base_uri": "https://localhost:8080/",
          "height": 347
        }
      },
      "source": [
        "learner.load('/content/gdrive/My Drive/DCNN/Smart Contracts/weights2/classifier/classifier-42-epochs-5e-2');\n",
        "lr = 2e-2\n",
        "learner.fit_one_cycle(10,slice(lr/(2.6**4),lr), moms=(0.8,0.7) )\n",
        "learner.save('/content/gdrive/My Drive/DCNN/Smart Contracts/weights2/binary/classifier-52-epochs-2e-2');"
      ],
      "execution_count": null,
      "outputs": [
        {
          "output_type": "display_data",
          "data": {
            "text/html": [
              "<table border=\"1\" class=\"dataframe\">\n",
              "  <thead>\n",
              "    <tr style=\"text-align: left;\">\n",
              "      <th>epoch</th>\n",
              "      <th>train_loss</th>\n",
              "      <th>valid_loss</th>\n",
              "      <th>fbeta</th>\n",
              "      <th>time</th>\n",
              "    </tr>\n",
              "  </thead>\n",
              "  <tbody>\n",
              "    <tr>\n",
              "      <td>0</td>\n",
              "      <td>0.284021</td>\n",
              "      <td>0.206427</td>\n",
              "      <td>0.945856</td>\n",
              "      <td>12:28</td>\n",
              "    </tr>\n",
              "    <tr>\n",
              "      <td>1</td>\n",
              "      <td>0.260642</td>\n",
              "      <td>0.185148</td>\n",
              "      <td>0.951015</td>\n",
              "      <td>11:11</td>\n",
              "    </tr>\n",
              "    <tr>\n",
              "      <td>2</td>\n",
              "      <td>0.256787</td>\n",
              "      <td>0.180328</td>\n",
              "      <td>0.954600</td>\n",
              "      <td>13:04</td>\n",
              "    </tr>\n",
              "    <tr>\n",
              "      <td>3</td>\n",
              "      <td>0.254561</td>\n",
              "      <td>0.188082</td>\n",
              "      <td>0.953622</td>\n",
              "      <td>12:41</td>\n",
              "    </tr>\n",
              "    <tr>\n",
              "      <td>4</td>\n",
              "      <td>0.231221</td>\n",
              "      <td>0.183670</td>\n",
              "      <td>0.950798</td>\n",
              "      <td>11:55</td>\n",
              "    </tr>\n",
              "    <tr>\n",
              "      <td>5</td>\n",
              "      <td>0.236342</td>\n",
              "      <td>0.182349</td>\n",
              "      <td>0.950201</td>\n",
              "      <td>13:10</td>\n",
              "    </tr>\n",
              "    <tr>\n",
              "      <td>6</td>\n",
              "      <td>0.235094</td>\n",
              "      <td>0.192659</td>\n",
              "      <td>0.945259</td>\n",
              "      <td>13:41</td>\n",
              "    </tr>\n",
              "    <tr>\n",
              "      <td>7</td>\n",
              "      <td>0.237727</td>\n",
              "      <td>0.202812</td>\n",
              "      <td>0.943901</td>\n",
              "      <td>11:48</td>\n",
              "    </tr>\n",
              "    <tr>\n",
              "      <td>8</td>\n",
              "      <td>0.211422</td>\n",
              "      <td>0.211175</td>\n",
              "      <td>0.942761</td>\n",
              "      <td>11:41</td>\n",
              "    </tr>\n",
              "    <tr>\n",
              "      <td>9</td>\n",
              "      <td>0.231958</td>\n",
              "      <td>0.197932</td>\n",
              "      <td>0.946834</td>\n",
              "      <td>11:05</td>\n",
              "    </tr>\n",
              "  </tbody>\n",
              "</table>"
            ],
            "text/plain": [
              "<IPython.core.display.HTML object>"
            ]
          },
          "metadata": {
            "tags": []
          }
        }
      ]
    },
    {
      "cell_type": "code",
      "metadata": {
        "id": "1DfakKstpJlA",
        "outputId": "77e63e5c-b77e-48d3-d16d-128799f84599",
        "colab": {
          "base_uri": "https://localhost:8080/",
          "height": 238
        }
      },
      "source": [
        "learner.load('/content/gdrive/My Drive/DCNN/Smart Contracts/weights2/classifier/classifier-52-epochs-2e-2');\n",
        "lr = 9e-3\n",
        "learner.freeze_to(-2)\n",
        "learner.fit_one_cycle(6,slice(lr/(2.6**4),lr), moms=(0.8,0.7) )"
      ],
      "execution_count": null,
      "outputs": [
        {
          "output_type": "display_data",
          "data": {
            "text/html": [
              "<table border=\"1\" class=\"dataframe\">\n",
              "  <thead>\n",
              "    <tr style=\"text-align: left;\">\n",
              "      <th>epoch</th>\n",
              "      <th>train_loss</th>\n",
              "      <th>valid_loss</th>\n",
              "      <th>fbeta</th>\n",
              "      <th>time</th>\n",
              "    </tr>\n",
              "  </thead>\n",
              "  <tbody>\n",
              "    <tr>\n",
              "      <td>0</td>\n",
              "      <td>0.091840</td>\n",
              "      <td>0.081329</td>\n",
              "      <td>0.959927</td>\n",
              "      <td>40:09</td>\n",
              "    </tr>\n",
              "    <tr>\n",
              "      <td>1</td>\n",
              "      <td>0.091362</td>\n",
              "      <td>0.073666</td>\n",
              "      <td>0.962832</td>\n",
              "      <td>39:01</td>\n",
              "    </tr>\n",
              "    <tr>\n",
              "      <td>2</td>\n",
              "      <td>0.088721</td>\n",
              "      <td>10.377362</td>\n",
              "      <td>0.966533</td>\n",
              "      <td>46:59</td>\n",
              "    </tr>\n",
              "    <tr>\n",
              "      <td>3</td>\n",
              "      <td>0.077053</td>\n",
              "      <td>0.710052</td>\n",
              "      <td>0.948169</td>\n",
              "      <td>41:37</td>\n",
              "    </tr>\n",
              "    <tr>\n",
              "      <td>4</td>\n",
              "      <td>0.085262</td>\n",
              "      <td>0.127197</td>\n",
              "      <td>0.968278</td>\n",
              "      <td>49:46</td>\n",
              "    </tr>\n",
              "    <tr>\n",
              "      <td>5</td>\n",
              "      <td>0.070708</td>\n",
              "      <td>7.465377</td>\n",
              "      <td>0.957037</td>\n",
              "      <td>46:59</td>\n",
              "    </tr>\n",
              "  </tbody>\n",
              "</table>"
            ],
            "text/plain": [
              "<IPython.core.display.HTML object>"
            ]
          },
          "metadata": {
            "tags": []
          }
        }
      ]
    },
    {
      "cell_type": "code",
      "metadata": {
        "id": "GNCKp5-MpJdc"
      },
      "source": [
        "learner.save('/content/gdrive/My Drive/DCNN/Smart Contracts/weights2/classifier/classifier-58-epochs-9e-3')"
      ],
      "execution_count": null,
      "outputs": []
    },
    {
      "cell_type": "code",
      "metadata": {
        "id": "PL65QoQ16wMi",
        "outputId": "b597e4be-4ce3-4dd8-b152-af58bfd7cb86",
        "colab": {
          "base_uri": "https://localhost:8080/",
          "height": 238
        }
      },
      "source": [
        "learner.load('/content/gdrive/My Drive/DCNN/Smart Contracts/weights2/classifier/classifier-58-epochs-9e-3');\n",
        "lr = 2e-2\n",
        "learner.freeze_to(-2)\n",
        "learner.fit_one_cycle(6,slice(lr/(2.6**4),lr), moms=(0.8,0.7) )\n",
        "learner.save('/content/gdrive/My Drive/DCNN/Smart Contracts/weights2/classifier/classifier-64-epochs-2e-2')"
      ],
      "execution_count": null,
      "outputs": [
        {
          "output_type": "display_data",
          "data": {
            "text/html": [
              "<table border=\"1\" class=\"dataframe\">\n",
              "  <thead>\n",
              "    <tr style=\"text-align: left;\">\n",
              "      <th>epoch</th>\n",
              "      <th>train_loss</th>\n",
              "      <th>valid_loss</th>\n",
              "      <th>fbeta</th>\n",
              "      <th>time</th>\n",
              "    </tr>\n",
              "  </thead>\n",
              "  <tbody>\n",
              "    <tr>\n",
              "      <td>0</td>\n",
              "      <td>0.122599</td>\n",
              "      <td>2.425085</td>\n",
              "      <td>0.959157</td>\n",
              "      <td>28:02</td>\n",
              "    </tr>\n",
              "    <tr>\n",
              "      <td>1</td>\n",
              "      <td>0.127436</td>\n",
              "      <td>0.210676</td>\n",
              "      <td>0.954399</td>\n",
              "      <td>25:09</td>\n",
              "    </tr>\n",
              "    <tr>\n",
              "      <td>2</td>\n",
              "      <td>0.147553</td>\n",
              "      <td>2.075237</td>\n",
              "      <td>0.949922</td>\n",
              "      <td>23:46</td>\n",
              "    </tr>\n",
              "    <tr>\n",
              "      <td>3</td>\n",
              "      <td>0.128009</td>\n",
              "      <td>0.094653</td>\n",
              "      <td>0.951353</td>\n",
              "      <td>25:22</td>\n",
              "    </tr>\n",
              "    <tr>\n",
              "      <td>4</td>\n",
              "      <td>0.097732</td>\n",
              "      <td>0.086951</td>\n",
              "      <td>0.959326</td>\n",
              "      <td>24:45</td>\n",
              "    </tr>\n",
              "    <tr>\n",
              "      <td>5</td>\n",
              "      <td>0.100622</td>\n",
              "      <td>0.084934</td>\n",
              "      <td>0.959171</td>\n",
              "      <td>24:46</td>\n",
              "    </tr>\n",
              "  </tbody>\n",
              "</table>"
            ],
            "text/plain": [
              "<IPython.core.display.HTML object>"
            ]
          },
          "metadata": {
            "tags": []
          }
        }
      ]
    },
    {
      "cell_type": "code",
      "metadata": {
        "id": "17U9_Fur7XI5",
        "outputId": "2b6cf1ae-9811-4262-dec9-04251c6536f6",
        "colab": {
          "base_uri": "https://localhost:8080/",
          "height": 238
        }
      },
      "source": [
        "lr = 3e-2\n",
        "learner.freeze_to(-2)\n",
        "learner.fit_one_cycle(6,slice(lr/(2.6**4),lr), moms=(0.8,0.7) )\n",
        "learner.save('/content/gdrive/My Drive/DCNN/Smart Contracts/weights2/classifier/classifier-70-epochs-2e-2')"
      ],
      "execution_count": null,
      "outputs": [
        {
          "output_type": "display_data",
          "data": {
            "text/html": [
              "<table border=\"1\" class=\"dataframe\">\n",
              "  <thead>\n",
              "    <tr style=\"text-align: left;\">\n",
              "      <th>epoch</th>\n",
              "      <th>train_loss</th>\n",
              "      <th>valid_loss</th>\n",
              "      <th>fbeta</th>\n",
              "      <th>time</th>\n",
              "    </tr>\n",
              "  </thead>\n",
              "  <tbody>\n",
              "    <tr>\n",
              "      <td>0</td>\n",
              "      <td>0.127717</td>\n",
              "      <td>0.108689</td>\n",
              "      <td>0.957579</td>\n",
              "      <td>25:41</td>\n",
              "    </tr>\n",
              "    <tr>\n",
              "      <td>1</td>\n",
              "      <td>0.155365</td>\n",
              "      <td>0.178721</td>\n",
              "      <td>0.955620</td>\n",
              "      <td>27:50</td>\n",
              "    </tr>\n",
              "    <tr>\n",
              "      <td>2</td>\n",
              "      <td>0.153534</td>\n",
              "      <td>0.187778</td>\n",
              "      <td>0.956547</td>\n",
              "      <td>23:46</td>\n",
              "    </tr>\n",
              "    <tr>\n",
              "      <td>3</td>\n",
              "      <td>0.129661</td>\n",
              "      <td>0.128513</td>\n",
              "      <td>0.955822</td>\n",
              "      <td>22:40</td>\n",
              "    </tr>\n",
              "    <tr>\n",
              "      <td>4</td>\n",
              "      <td>0.146330</td>\n",
              "      <td>0.402595</td>\n",
              "      <td>0.960129</td>\n",
              "      <td>25:41</td>\n",
              "    </tr>\n",
              "    <tr>\n",
              "      <td>5</td>\n",
              "      <td>0.114459</td>\n",
              "      <td>0.530509</td>\n",
              "      <td>0.960680</td>\n",
              "      <td>24:11</td>\n",
              "    </tr>\n",
              "  </tbody>\n",
              "</table>"
            ],
            "text/plain": [
              "<IPython.core.display.HTML object>"
            ]
          },
          "metadata": {
            "tags": []
          }
        }
      ]
    },
    {
      "cell_type": "code",
      "metadata": {
        "id": "LBW_cNlebrfj",
        "outputId": "f18ed76b-ea74-4a58-cb85-288c50a077cf",
        "colab": {
          "base_uri": "https://localhost:8080/",
          "height": 235
        }
      },
      "source": [
        "learner.load('/content/gdrive/My Drive/DCNN/Smart Contracts/weights2/classifier/classifier-70-epochs-2e-2');\n",
        "lr = 3e-2\n",
        "learner.freeze_to(-2)\n",
        "learner.fit_one_cycle(6,slice(lr/(2.6**4),lr), moms=(0.8,0.7) )\n",
        "learner.save('/content/gdrive/My Drive/DCNN/Smart Contracts/weights2/classifier/classifier-76-epochs-2e-2')"
      ],
      "execution_count": null,
      "outputs": [
        {
          "output_type": "display_data",
          "data": {
            "text/html": [
              "<table border=\"1\" class=\"dataframe\">\n",
              "  <thead>\n",
              "    <tr style=\"text-align: left;\">\n",
              "      <th>epoch</th>\n",
              "      <th>train_loss</th>\n",
              "      <th>valid_loss</th>\n",
              "      <th>fbeta</th>\n",
              "      <th>time</th>\n",
              "    </tr>\n",
              "  </thead>\n",
              "  <tbody>\n",
              "    <tr>\n",
              "      <td>0</td>\n",
              "      <td>0.096420</td>\n",
              "      <td>0.117154</td>\n",
              "      <td>0.964946</td>\n",
              "      <td>29:57</td>\n",
              "    </tr>\n",
              "    <tr>\n",
              "      <td>1</td>\n",
              "      <td>0.122123</td>\n",
              "      <td>0.283136</td>\n",
              "      <td>0.961237</td>\n",
              "      <td>29:03</td>\n",
              "    </tr>\n",
              "    <tr>\n",
              "      <td>2</td>\n",
              "      <td>0.109439</td>\n",
              "      <td>0.114839</td>\n",
              "      <td>0.967295</td>\n",
              "      <td>34:47</td>\n",
              "    </tr>\n",
              "    <tr>\n",
              "      <td>3</td>\n",
              "      <td>0.093851</td>\n",
              "      <td>0.680065</td>\n",
              "      <td>0.964561</td>\n",
              "      <td>30:51</td>\n",
              "    </tr>\n",
              "    <tr>\n",
              "      <td>4</td>\n",
              "      <td>0.091518</td>\n",
              "      <td>0.332350</td>\n",
              "      <td>0.970309</td>\n",
              "      <td>36:51</td>\n",
              "    </tr>\n",
              "    <tr>\n",
              "      <td>5</td>\n",
              "      <td>0.071435</td>\n",
              "      <td>0.821643</td>\n",
              "      <td>0.968985</td>\n",
              "      <td>34:48</td>\n",
              "    </tr>\n",
              "  </tbody>\n",
              "</table>"
            ],
            "text/plain": [
              "<IPython.core.display.HTML object>"
            ]
          },
          "metadata": {
            "tags": []
          }
        }
      ]
    },
    {
      "cell_type": "code",
      "metadata": {
        "id": "ZyCeW2x38XHx",
        "outputId": "06aa25de-2db5-4b1d-cd66-726871d03059",
        "colab": {
          "base_uri": "https://localhost:8080/",
          "height": 235
        }
      },
      "source": [
        "learner.load('/content/gdrive/My Drive/DCNN/Smart Contracts/weights2/classifier/classifier-76-epochs-2e-2');\n",
        "lr = 1e-2\n",
        "learner.freeze_to(-2)\n",
        "learner.fit_one_cycle(6,slice(lr/(2.6**4),lr), moms=(0.8,0.7) )\n",
        "learner.save('/content/gdrive/My Drive/DCNN/Smart Contracts/weights2/classifier/classifier-82-epochs-2e-2')"
      ],
      "execution_count": null,
      "outputs": [
        {
          "output_type": "display_data",
          "data": {
            "text/html": [
              "<table border=\"1\" class=\"dataframe\">\n",
              "  <thead>\n",
              "    <tr style=\"text-align: left;\">\n",
              "      <th>epoch</th>\n",
              "      <th>train_loss</th>\n",
              "      <th>valid_loss</th>\n",
              "      <th>fbeta</th>\n",
              "      <th>time</th>\n",
              "    </tr>\n",
              "  </thead>\n",
              "  <tbody>\n",
              "    <tr>\n",
              "      <td>0</td>\n",
              "      <td>0.068474</td>\n",
              "      <td>0.128122</td>\n",
              "      <td>0.969852</td>\n",
              "      <td>34:35</td>\n",
              "    </tr>\n",
              "    <tr>\n",
              "      <td>1</td>\n",
              "      <td>0.074311</td>\n",
              "      <td>0.120471</td>\n",
              "      <td>0.969020</td>\n",
              "      <td>37:22</td>\n",
              "    </tr>\n",
              "    <tr>\n",
              "      <td>2</td>\n",
              "      <td>0.106893</td>\n",
              "      <td>0.209704</td>\n",
              "      <td>0.973622</td>\n",
              "      <td>31:56</td>\n",
              "    </tr>\n",
              "    <tr>\n",
              "      <td>3</td>\n",
              "      <td>0.084891</td>\n",
              "      <td>0.315960</td>\n",
              "      <td>0.964905</td>\n",
              "      <td>30:23</td>\n",
              "    </tr>\n",
              "    <tr>\n",
              "      <td>4</td>\n",
              "      <td>0.081366</td>\n",
              "      <td>1.514845</td>\n",
              "      <td>0.969456</td>\n",
              "      <td>34:36</td>\n",
              "    </tr>\n",
              "    <tr>\n",
              "      <td>5</td>\n",
              "      <td>0.074966</td>\n",
              "      <td>0.209609</td>\n",
              "      <td>0.971043</td>\n",
              "      <td>32:23</td>\n",
              "    </tr>\n",
              "  </tbody>\n",
              "</table>"
            ],
            "text/plain": [
              "<IPython.core.display.HTML object>"
            ]
          },
          "metadata": {
            "tags": []
          }
        }
      ]
    },
    {
      "cell_type": "code",
      "metadata": {
        "id": "PFS-6iTMx6wE",
        "outputId": "3a9276c4-a5bb-4d64-e72c-adddecd1b951",
        "colab": {
          "base_uri": "https://localhost:8080/",
          "height": 297
        }
      },
      "source": [
        "learner.load('/content/gdrive/My Drive/DCNN/Smart Contracts/weights2/classifier/classifier-82-epochs-2e-2');\n",
        "lr = 1e-2\n",
        "learner.freeze_to(-2)\n",
        "learner.fit_one_cycle(8,slice(lr/(2.6**4),lr), moms=(0.8,0.7) )\n",
        "learner.save('/content/gdrive/My Drive/DCNN/Smart Contracts/weights2/classifier/classifier-90-epochs-2e-2')"
      ],
      "execution_count": null,
      "outputs": [
        {
          "output_type": "display_data",
          "data": {
            "text/html": [
              "<table border=\"1\" class=\"dataframe\">\n",
              "  <thead>\n",
              "    <tr style=\"text-align: left;\">\n",
              "      <th>epoch</th>\n",
              "      <th>train_loss</th>\n",
              "      <th>valid_loss</th>\n",
              "      <th>fbeta</th>\n",
              "      <th>time</th>\n",
              "    </tr>\n",
              "  </thead>\n",
              "  <tbody>\n",
              "    <tr>\n",
              "      <td>0</td>\n",
              "      <td>0.082478</td>\n",
              "      <td>0.518336</td>\n",
              "      <td>0.970130</td>\n",
              "      <td>27:54</td>\n",
              "    </tr>\n",
              "    <tr>\n",
              "      <td>1</td>\n",
              "      <td>0.104354</td>\n",
              "      <td>0.318921</td>\n",
              "      <td>0.963079</td>\n",
              "      <td>21:53</td>\n",
              "    </tr>\n",
              "    <tr>\n",
              "      <td>2</td>\n",
              "      <td>0.110029</td>\n",
              "      <td>0.068381</td>\n",
              "      <td>0.970589</td>\n",
              "      <td>22:15</td>\n",
              "    </tr>\n",
              "    <tr>\n",
              "      <td>3</td>\n",
              "      <td>0.092413</td>\n",
              "      <td>0.098233</td>\n",
              "      <td>0.968983</td>\n",
              "      <td>23:02</td>\n",
              "    </tr>\n",
              "    <tr>\n",
              "      <td>4</td>\n",
              "      <td>0.093013</td>\n",
              "      <td>0.100619</td>\n",
              "      <td>0.972713</td>\n",
              "      <td>23:55</td>\n",
              "    </tr>\n",
              "    <tr>\n",
              "      <td>5</td>\n",
              "      <td>0.085476</td>\n",
              "      <td>0.091344</td>\n",
              "      <td>0.967414</td>\n",
              "      <td>21:48</td>\n",
              "    </tr>\n",
              "    <tr>\n",
              "      <td>6</td>\n",
              "      <td>0.085501</td>\n",
              "      <td>0.091116</td>\n",
              "      <td>0.972796</td>\n",
              "      <td>24:50</td>\n",
              "    </tr>\n",
              "    <tr>\n",
              "      <td>7</td>\n",
              "      <td>0.076127</td>\n",
              "      <td>0.063211</td>\n",
              "      <td>0.970135</td>\n",
              "      <td>23:18</td>\n",
              "    </tr>\n",
              "  </tbody>\n",
              "</table>"
            ],
            "text/plain": [
              "<IPython.core.display.HTML object>"
            ]
          },
          "metadata": {
            "tags": []
          }
        }
      ]
    },
    {
      "cell_type": "code",
      "metadata": {
        "id": "EqBECdJKxIkT",
        "outputId": "b79d5125-08cb-4d99-e9c6-2e0eaa1c97c5",
        "colab": {
          "base_uri": "https://localhost:8080/",
          "height": 288
        }
      },
      "source": [
        "learner.load('/content/gdrive/My Drive/DCNN/Smart Contracts/weights2/classifier/classifier-90-epochs-2e-2');\n",
        "lr = 9e-3\n",
        "learner.freeze_to(-2)\n",
        "learner.fit_one_cycle(8,slice(lr/(2.6**4),lr), moms=(0.8,0.7) )\n",
        "learner.save('/content/gdrive/My Drive/DCNN/Smart Contracts/weights2/classifier/classifier-98-epochs-2e-2')"
      ],
      "execution_count": null,
      "outputs": [
        {
          "output_type": "display_data",
          "data": {
            "text/html": [
              "<table border=\"1\" class=\"dataframe\">\n",
              "  <thead>\n",
              "    <tr style=\"text-align: left;\">\n",
              "      <th>epoch</th>\n",
              "      <th>train_loss</th>\n",
              "      <th>valid_loss</th>\n",
              "      <th>fbeta</th>\n",
              "      <th>time</th>\n",
              "    </tr>\n",
              "  </thead>\n",
              "  <tbody>\n",
              "    <tr>\n",
              "      <td>0</td>\n",
              "      <td>0.086571</td>\n",
              "      <td>0.072130</td>\n",
              "      <td>0.973053</td>\n",
              "      <td>39:46</td>\n",
              "    </tr>\n",
              "    <tr>\n",
              "      <td>1</td>\n",
              "      <td>0.086974</td>\n",
              "      <td>0.202250</td>\n",
              "      <td>0.970273</td>\n",
              "      <td>38:36</td>\n",
              "    </tr>\n",
              "    <tr>\n",
              "      <td>2</td>\n",
              "      <td>0.087375</td>\n",
              "      <td>0.197104</td>\n",
              "      <td>0.972553</td>\n",
              "      <td>46:31</td>\n",
              "    </tr>\n",
              "    <tr>\n",
              "      <td>3</td>\n",
              "      <td>0.084393</td>\n",
              "      <td>0.099453</td>\n",
              "      <td>0.968873</td>\n",
              "      <td>41:21</td>\n",
              "    </tr>\n",
              "    <tr>\n",
              "      <td>4</td>\n",
              "      <td>0.100653</td>\n",
              "      <td>0.085233</td>\n",
              "      <td>0.970594</td>\n",
              "      <td>49:25</td>\n",
              "    </tr>\n",
              "    <tr>\n",
              "      <td>5</td>\n",
              "      <td>0.069088</td>\n",
              "      <td>0.088870</td>\n",
              "      <td>0.973117</td>\n",
              "      <td>46:34</td>\n",
              "    </tr>\n",
              "    <tr>\n",
              "      <td>6</td>\n",
              "      <td>0.071587</td>\n",
              "      <td>0.062561</td>\n",
              "      <td>0.974585</td>\n",
              "      <td>46:05</td>\n",
              "    </tr>\n",
              "    <tr>\n",
              "      <td>7</td>\n",
              "      <td>0.069149</td>\n",
              "      <td>0.062339</td>\n",
              "      <td>0.974814</td>\n",
              "      <td>49:59</td>\n",
              "    </tr>\n",
              "  </tbody>\n",
              "</table>"
            ],
            "text/plain": [
              "<IPython.core.display.HTML object>"
            ]
          },
          "metadata": {
            "tags": []
          }
        }
      ]
    },
    {
      "cell_type": "code",
      "metadata": {
        "id": "BAjy_ribh7LJ"
      },
      "source": [
        ""
      ],
      "execution_count": null,
      "outputs": []
    },
    {
      "cell_type": "code",
      "metadata": {
        "id": "4dX8FJd0Qsy0",
        "outputId": "ed4fd2db-6b08-428a-cd47-9dbd98c5bf73",
        "colab": {
          "base_uri": "https://localhost:8080/",
          "height": 297
        }
      },
      "source": [
        "learner = text_classifier_learner(classifier_data, AWD_LSTM, drop_mult=0.7, metrics=fbeta)\n",
        "learner.load('/content/gdrive/My Drive/DCNN/Smart Contracts/weights2/classifier/classifier-98-epochs-2e-2');\n",
        "lr = 8e-3\n",
        "learner.fit_one_cycle(8,slice(lr/(2.6**4),lr), moms=(0.8,0.7) )\n",
        "learner.save('/content/gdrive/My Drive/DCNN/Smart Contracts/weights2/classifier/classifier-116-epochs-2e-2')"
      ],
      "execution_count": null,
      "outputs": [
        {
          "output_type": "display_data",
          "data": {
            "text/html": [
              "<table border=\"1\" class=\"dataframe\">\n",
              "  <thead>\n",
              "    <tr style=\"text-align: left;\">\n",
              "      <th>epoch</th>\n",
              "      <th>train_loss</th>\n",
              "      <th>valid_loss</th>\n",
              "      <th>fbeta</th>\n",
              "      <th>time</th>\n",
              "    </tr>\n",
              "  </thead>\n",
              "  <tbody>\n",
              "    <tr>\n",
              "      <td>0</td>\n",
              "      <td>0.128073</td>\n",
              "      <td>0.119002</td>\n",
              "      <td>0.968557</td>\n",
              "      <td>17:59</td>\n",
              "    </tr>\n",
              "    <tr>\n",
              "      <td>1</td>\n",
              "      <td>0.166349</td>\n",
              "      <td>0.134227</td>\n",
              "      <td>0.966058</td>\n",
              "      <td>16:11</td>\n",
              "    </tr>\n",
              "    <tr>\n",
              "      <td>2</td>\n",
              "      <td>0.163422</td>\n",
              "      <td>0.139112</td>\n",
              "      <td>0.965569</td>\n",
              "      <td>18:56</td>\n",
              "    </tr>\n",
              "    <tr>\n",
              "      <td>3</td>\n",
              "      <td>0.173766</td>\n",
              "      <td>0.286472</td>\n",
              "      <td>0.956175</td>\n",
              "      <td>18:23</td>\n",
              "    </tr>\n",
              "    <tr>\n",
              "      <td>4</td>\n",
              "      <td>0.134874</td>\n",
              "      <td>0.138193</td>\n",
              "      <td>0.962257</td>\n",
              "      <td>17:19</td>\n",
              "    </tr>\n",
              "    <tr>\n",
              "      <td>5</td>\n",
              "      <td>0.124796</td>\n",
              "      <td>0.121065</td>\n",
              "      <td>0.968774</td>\n",
              "      <td>19:18</td>\n",
              "    </tr>\n",
              "    <tr>\n",
              "      <td>6</td>\n",
              "      <td>0.129993</td>\n",
              "      <td>0.112160</td>\n",
              "      <td>0.970783</td>\n",
              "      <td>20:04</td>\n",
              "    </tr>\n",
              "    <tr>\n",
              "      <td>7</td>\n",
              "      <td>0.125925</td>\n",
              "      <td>0.115919</td>\n",
              "      <td>0.969534</td>\n",
              "      <td>17:14</td>\n",
              "    </tr>\n",
              "  </tbody>\n",
              "</table>"
            ],
            "text/plain": [
              "<IPython.core.display.HTML object>"
            ]
          },
          "metadata": {
            "tags": []
          }
        }
      ]
    },
    {
      "cell_type": "code",
      "metadata": {
        "id": "akiD5AlZC9-z"
      },
      "source": [
        ""
      ],
      "execution_count": null,
      "outputs": []
    },
    {
      "cell_type": "code",
      "metadata": {
        "id": "iJIIDI9WK8fL",
        "outputId": "bcd6745f-3b16-4af2-f226-23be0a5e797d",
        "colab": {
          "base_uri": "https://localhost:8080/",
          "height": 221
        }
      },
      "source": [
        "learner = text_classifier_learner(classifier_data, AWD_LSTM, drop_mult=1.2, metrics=fbeta)\n",
        "learner.load('/content/gdrive/My Drive/DCNN/Smart Contracts/weights2/classifier/classifier-116-epochs-2e-2');\n",
        "lr = 2e-2\n",
        "learner.freeze_to(-2)\n",
        "learner.fit_one_cycle(5,slice(lr/(2.6**4),lr), moms=(0.8,0.7) )\n",
        "learner.save('/content/gdrive/My Drive/DCNN/Smart Contracts/weights2/classifier/classifier-120-epochs-2e-2')"
      ],
      "execution_count": null,
      "outputs": [
        {
          "output_type": "stream",
          "text": [
            "Downloading https://s3.amazonaws.com/fast-ai-modelzoo/wt103-fwd\n"
          ],
          "name": "stdout"
        },
        {
          "output_type": "display_data",
          "data": {
            "text/html": [
              ""
            ],
            "text/plain": [
              "<IPython.core.display.HTML object>"
            ]
          },
          "metadata": {
            "tags": []
          }
        },
        {
          "output_type": "display_data",
          "data": {
            "text/html": [
              "<table border=\"1\" class=\"dataframe\">\n",
              "  <thead>\n",
              "    <tr style=\"text-align: left;\">\n",
              "      <th>epoch</th>\n",
              "      <th>train_loss</th>\n",
              "      <th>valid_loss</th>\n",
              "      <th>fbeta</th>\n",
              "      <th>time</th>\n",
              "    </tr>\n",
              "  </thead>\n",
              "  <tbody>\n",
              "    <tr>\n",
              "      <td>0</td>\n",
              "      <td>0.113374</td>\n",
              "      <td>0.167017</td>\n",
              "      <td>0.975007</td>\n",
              "      <td>22:05</td>\n",
              "    </tr>\n",
              "    <tr>\n",
              "      <td>1</td>\n",
              "      <td>0.140326</td>\n",
              "      <td>0.082012</td>\n",
              "      <td>0.969492</td>\n",
              "      <td>21:36</td>\n",
              "    </tr>\n",
              "    <tr>\n",
              "      <td>2</td>\n",
              "      <td>0.124975</td>\n",
              "      <td>1.121230</td>\n",
              "      <td>0.967570</td>\n",
              "      <td>26:08</td>\n",
              "    </tr>\n",
              "    <tr>\n",
              "      <td>3</td>\n",
              "      <td>0.093167</td>\n",
              "      <td>0.248695</td>\n",
              "      <td>0.969474</td>\n",
              "      <td>23:16</td>\n",
              "    </tr>\n",
              "    <tr>\n",
              "      <td>4</td>\n",
              "      <td>0.103076</td>\n",
              "      <td>0.341204</td>\n",
              "      <td>0.969942</td>\n",
              "      <td>27:36</td>\n",
              "    </tr>\n",
              "  </tbody>\n",
              "</table>"
            ],
            "text/plain": [
              "<IPython.core.display.HTML object>"
            ]
          },
          "metadata": {
            "tags": []
          }
        }
      ]
    },
    {
      "cell_type": "code",
      "metadata": {
        "id": "V01L3E3SyyXs",
        "outputId": "14009a6b-83bf-4a7a-b40e-addee2ac560e",
        "colab": {
          "base_uri": "https://localhost:8080/",
          "height": 359
        }
      },
      "source": [
        "learner = text_classifier_learner(classifier_data, AWD_LSTM, drop_mult=0.8, metrics=fbeta)\n",
        "learner.load('/content/gdrive/My Drive/DCNN/Smart Contracts/weights2/classifier/classifier-120-epochs-2e-2');\n",
        "lr = 8e-3\n",
        "learner.freeze_to(-2)\n",
        "learner.fit_one_cycle(10,slice(lr/(2.6**4),lr), moms=(0.8,0.7) )\n",
        "learner.save('/content/gdrive/My Drive/DCNN/Smart Contracts/weights2/classifier/classifier-130-epochs-2e-2')"
      ],
      "execution_count": null,
      "outputs": [
        {
          "output_type": "display_data",
          "data": {
            "text/html": [
              "<table border=\"1\" class=\"dataframe\">\n",
              "  <thead>\n",
              "    <tr style=\"text-align: left;\">\n",
              "      <th>epoch</th>\n",
              "      <th>train_loss</th>\n",
              "      <th>valid_loss</th>\n",
              "      <th>fbeta</th>\n",
              "      <th>time</th>\n",
              "    </tr>\n",
              "  </thead>\n",
              "  <tbody>\n",
              "    <tr>\n",
              "      <td>0</td>\n",
              "      <td>0.058648</td>\n",
              "      <td>0.069158</td>\n",
              "      <td>0.976590</td>\n",
              "      <td>28:55</td>\n",
              "    </tr>\n",
              "    <tr>\n",
              "      <td>1</td>\n",
              "      <td>0.083209</td>\n",
              "      <td>0.049945</td>\n",
              "      <td>0.976699</td>\n",
              "      <td>21:52</td>\n",
              "    </tr>\n",
              "    <tr>\n",
              "      <td>2</td>\n",
              "      <td>0.081960</td>\n",
              "      <td>0.053142</td>\n",
              "      <td>0.975929</td>\n",
              "      <td>22:15</td>\n",
              "    </tr>\n",
              "    <tr>\n",
              "      <td>3</td>\n",
              "      <td>0.076601</td>\n",
              "      <td>0.069409</td>\n",
              "      <td>0.976929</td>\n",
              "      <td>23:02</td>\n",
              "    </tr>\n",
              "    <tr>\n",
              "      <td>4</td>\n",
              "      <td>0.075514</td>\n",
              "      <td>14.587753</td>\n",
              "      <td>0.970470</td>\n",
              "      <td>23:53</td>\n",
              "    </tr>\n",
              "    <tr>\n",
              "      <td>5</td>\n",
              "      <td>0.071998</td>\n",
              "      <td>0.141210</td>\n",
              "      <td>0.976924</td>\n",
              "      <td>21:53</td>\n",
              "    </tr>\n",
              "    <tr>\n",
              "      <td>6</td>\n",
              "      <td>0.065713</td>\n",
              "      <td>0.206592</td>\n",
              "      <td>0.976778</td>\n",
              "      <td>24:51</td>\n",
              "    </tr>\n",
              "    <tr>\n",
              "      <td>7</td>\n",
              "      <td>0.060200</td>\n",
              "      <td>0.066234</td>\n",
              "      <td>0.977177</td>\n",
              "      <td>23:16</td>\n",
              "    </tr>\n",
              "    <tr>\n",
              "      <td>8</td>\n",
              "      <td>0.064382</td>\n",
              "      <td>0.081128</td>\n",
              "      <td>0.978053</td>\n",
              "      <td>26:06</td>\n",
              "    </tr>\n",
              "    <tr>\n",
              "      <td>9</td>\n",
              "      <td>0.056445</td>\n",
              "      <td>1.587501</td>\n",
              "      <td>0.974236</td>\n",
              "      <td>21:33</td>\n",
              "    </tr>\n",
              "  </tbody>\n",
              "</table>"
            ],
            "text/plain": [
              "<IPython.core.display.HTML object>"
            ]
          },
          "metadata": {
            "tags": []
          }
        }
      ]
    },
    {
      "cell_type": "code",
      "metadata": {
        "id": "ye-cokJZU-RL",
        "outputId": "b15599d1-1745-4938-9b73-1968aa488f44",
        "colab": {
          "base_uri": "https://localhost:8080/",
          "height": 216
        }
      },
      "source": [
        "learner = text_classifier_learner(classifier_data, AWD_LSTM, drop_mult=0.8, metrics=fbeta)\n",
        "learner.load('/content/gdrive/My Drive/DCNN/Smart Contracts/weights2/classifier/classifier-130-epochs-2e-2');\n",
        "lr = 8e-3\n",
        "learner.freeze_to(-2)\n",
        "learner.fit_one_cycle(5,slice(lr/(2.6**4),lr), moms=(0.8,0.7) )\n",
        "learner.save('/content/gdrive/My Drive/DCNN/Smart Contracts/weights2/classifier/classifier-135-epochs-2e-2')"
      ],
      "execution_count": null,
      "outputs": [
        {
          "output_type": "stream",
          "text": [
            "Downloading https://s3.amazonaws.com/fast-ai-modelzoo/wt103-fwd\n"
          ],
          "name": "stdout"
        },
        {
          "output_type": "display_data",
          "data": {
            "text/html": [
              ""
            ],
            "text/plain": [
              "<IPython.core.display.HTML object>"
            ]
          },
          "metadata": {
            "tags": []
          }
        },
        {
          "output_type": "display_data",
          "data": {
            "text/html": [
              "<table border=\"1\" class=\"dataframe\">\n",
              "  <thead>\n",
              "    <tr style=\"text-align: left;\">\n",
              "      <th>epoch</th>\n",
              "      <th>train_loss</th>\n",
              "      <th>valid_loss</th>\n",
              "      <th>fbeta</th>\n",
              "      <th>time</th>\n",
              "    </tr>\n",
              "  </thead>\n",
              "  <tbody>\n",
              "    <tr>\n",
              "      <td>0</td>\n",
              "      <td>0.069492</td>\n",
              "      <td>0.098334</td>\n",
              "      <td>0.973245</td>\n",
              "      <td>40:09</td>\n",
              "    </tr>\n",
              "    <tr>\n",
              "      <td>1</td>\n",
              "      <td>0.078366</td>\n",
              "      <td>0.493444</td>\n",
              "      <td>0.973635</td>\n",
              "      <td>39:00</td>\n",
              "    </tr>\n",
              "    <tr>\n",
              "      <td>2</td>\n",
              "      <td>0.071265</td>\n",
              "      <td>16.710926</td>\n",
              "      <td>0.968658</td>\n",
              "      <td>46:54</td>\n",
              "    </tr>\n",
              "    <tr>\n",
              "      <td>3</td>\n",
              "      <td>0.062192</td>\n",
              "      <td>1.141531</td>\n",
              "      <td>0.973305</td>\n",
              "      <td>41:30</td>\n",
              "    </tr>\n",
              "    <tr>\n",
              "      <td>4</td>\n",
              "      <td>0.068011</td>\n",
              "      <td>1.107378</td>\n",
              "      <td>0.973778</td>\n",
              "      <td>49:32</td>\n",
              "    </tr>\n",
              "  </tbody>\n",
              "</table>"
            ],
            "text/plain": [
              "<IPython.core.display.HTML object>"
            ]
          },
          "metadata": {
            "tags": []
          }
        }
      ]
    },
    {
      "cell_type": "code",
      "metadata": {
        "id": "4RtMVYEiVGMB",
        "outputId": "c4c1654e-31b2-40e3-9e13-5bd64c9b7c8c",
        "colab": {
          "base_uri": "https://localhost:8080/",
          "height": 204
        }
      },
      "source": [
        "learner = text_classifier_learner(classifier_data, AWD_LSTM, drop_mult=0.7, metrics=fbeta)\n",
        "learner.load('/content/gdrive/My Drive/DCNN/Smart Contracts/weights2/classifier/classifier-135-epochs-2e-2');\n",
        "lr = 1e-2\n",
        "learner.freeze_to(-2)\n",
        "learner.fit_one_cycle(5,slice(lr/(2.6**4),lr), moms=(0.8,0.7) )\n",
        "learner.save('/content/gdrive/My Drive/DCNN/Smart Contracts/weights2/classifier/classifier-140-epochs-2e-2')"
      ],
      "execution_count": null,
      "outputs": [
        {
          "output_type": "display_data",
          "data": {
            "text/html": [
              "<table border=\"1\" class=\"dataframe\">\n",
              "  <thead>\n",
              "    <tr style=\"text-align: left;\">\n",
              "      <th>epoch</th>\n",
              "      <th>train_loss</th>\n",
              "      <th>valid_loss</th>\n",
              "      <th>fbeta</th>\n",
              "      <th>time</th>\n",
              "    </tr>\n",
              "  </thead>\n",
              "  <tbody>\n",
              "    <tr>\n",
              "      <td>0</td>\n",
              "      <td>0.066711</td>\n",
              "      <td>0.342581</td>\n",
              "      <td>0.972686</td>\n",
              "      <td>27:54</td>\n",
              "    </tr>\n",
              "    <tr>\n",
              "      <td>1</td>\n",
              "      <td>0.086865</td>\n",
              "      <td>0.331711</td>\n",
              "      <td>0.971644</td>\n",
              "      <td>21:49</td>\n",
              "    </tr>\n",
              "    <tr>\n",
              "      <td>2</td>\n",
              "      <td>0.080033</td>\n",
              "      <td>0.070409</td>\n",
              "      <td>0.975397</td>\n",
              "      <td>22:10</td>\n",
              "    </tr>\n",
              "    <tr>\n",
              "      <td>3</td>\n",
              "      <td>0.064393</td>\n",
              "      <td>0.092268</td>\n",
              "      <td>0.974727</td>\n",
              "      <td>22:59</td>\n",
              "    </tr>\n",
              "    <tr>\n",
              "      <td>4</td>\n",
              "      <td>0.068909</td>\n",
              "      <td>11.564064</td>\n",
              "      <td>0.974263</td>\n",
              "      <td>23:53</td>\n",
              "    </tr>\n",
              "  </tbody>\n",
              "</table>"
            ],
            "text/plain": [
              "<IPython.core.display.HTML object>"
            ]
          },
          "metadata": {
            "tags": []
          }
        }
      ]
    },
    {
      "cell_type": "code",
      "metadata": {
        "id": "TiemsF96idUX"
      },
      "source": [
        "#learner.load('/content/gdrive/My Drive/DCNN/Smart Contracts/weights2/classifier/classifier-120-epochs-2e-2');\n",
        "learner.load('/content/gdrive/My Drive/DCNN/Smart Contracts/weights2/classifier/classifier-140-epochs-2e-2');\n",
        "\n"
      ],
      "execution_count": null,
      "outputs": []
    },
    {
      "cell_type": "code",
      "metadata": {
        "id": "GQ2fxRY1xKPY",
        "outputId": "3f14cffa-2cba-46fc-99ea-f5a1425f3ecd",
        "colab": {
          "base_uri": "https://localhost:8080/",
          "height": 17
        }
      },
      "source": [
        "#learner.load('/content/gdrive/My Drive/DCNN/Smart Contracts/weights2/classifier/classifier-138-epochs-2e-2');\n",
        "predictions, *_ = learner.get_preds(DatasetType.Test)"
      ],
      "execution_count": null,
      "outputs": [
        {
          "output_type": "display_data",
          "data": {
            "text/html": [
              ""
            ],
            "text/plain": [
              "<IPython.core.display.HTML object>"
            ]
          },
          "metadata": {
            "tags": []
          }
        }
      ]
    },
    {
      "cell_type": "code",
      "metadata": {
        "id": "OnToueTFxKPj"
      },
      "source": [
        "preds = np.argmax(predictions, axis = 1)"
      ],
      "execution_count": null,
      "outputs": []
    },
    {
      "cell_type": "code",
      "metadata": {
        "id": "7VJkrI1dxIeG",
        "outputId": "d7d5a46b-812e-45ac-eae9-793c6b96a09b",
        "colab": {
          "base_uri": "https://localhost:8080/",
          "height": 35
        }
      },
      "source": [
        "preds"
      ],
      "execution_count": null,
      "outputs": [
        {
          "output_type": "execute_result",
          "data": {
            "text/plain": [
              "tensor([3, 3, 3,  ..., 2, 3, 3])"
            ]
          },
          "metadata": {
            "tags": []
          },
          "execution_count": 28
        }
      ]
    },
    {
      "cell_type": "code",
      "metadata": {
        "id": "H4XCtOv_Y7vo"
      },
      "source": [
        "preds_test = np.argmax(predictions, axis = 1)"
      ],
      "execution_count": null,
      "outputs": []
    },
    {
      "cell_type": "code",
      "metadata": {
        "id": "V-fpqPyVtDe7"
      },
      "source": [
        "preds_test"
      ],
      "execution_count": null,
      "outputs": []
    },
    {
      "cell_type": "code",
      "metadata": {
        "id": "iyAHX4piterj"
      },
      "source": [
        "your_file = open('/content/gdrive/My Drive/DCNN/Smart Contracts/filename.txt', 'ab')\n",
        "np.savetxt(your_file, preds_test.numpy())\n",
        "your_file.close()"
      ],
      "execution_count": null,
      "outputs": []
    },
    {
      "cell_type": "code",
      "metadata": {
        "id": "--dsL0hxXM2X",
        "outputId": "31542765-2d5b-499c-adcc-4e68a208d109",
        "colab": {
          "base_uri": "https://localhost:8080/",
          "height": 35
        }
      },
      "source": [
        "\n",
        "targets = []\n",
        "#t1 = [3 for i in range(5000)]\n",
        "t1 = [3 for i in range(4860)]\n",
        "t2 = [0 for i in range(870)]\n",
        "t3 = [1 for i in range(220)]\n",
        "t4 = [2 for i in range(181)]\n",
        "arr = t1+t2+t3+t4\n",
        "arr = np.asarray(arr)\n",
        "len(arr)"
      ],
      "execution_count": null,
      "outputs": [
        {
          "output_type": "execute_result",
          "data": {
            "text/plain": [
              "6131"
            ]
          },
          "metadata": {
            "tags": []
          },
          "execution_count": 34
        }
      ]
    },
    {
      "cell_type": "code",
      "metadata": {
        "id": "AmCae8yMxIWQ",
        "outputId": "ddbeeba0-e1ae-4872-a551-ec6b529f8c35",
        "colab": {
          "base_uri": "https://localhost:8080/",
          "height": 35
        }
      },
      "source": [
        "import torch\n",
        "target = torch.from_numpy(arr)\n",
        "target"
      ],
      "execution_count": null,
      "outputs": [
        {
          "output_type": "execute_result",
          "data": {
            "text/plain": [
              "tensor([3, 3, 3,  ..., 2, 2, 2])"
            ]
          },
          "metadata": {
            "tags": []
          },
          "execution_count": 35
        }
      ]
    },
    {
      "cell_type": "code",
      "metadata": {
        "id": "Ah1gsBC5ryvQ",
        "outputId": "d415fdee-b249-4399-d39a-4e5b0ab2f517",
        "colab": {
          "base_uri": "https://localhost:8080/",
          "height": 145
        }
      },
      "source": [
        "target1 = torch.nn.functional.one_hot(target)\n",
        "target1"
      ],
      "execution_count": null,
      "outputs": [
        {
          "output_type": "execute_result",
          "data": {
            "text/plain": [
              "tensor([[0, 0, 0, 1],\n",
              "        [0, 0, 0, 1],\n",
              "        [0, 0, 0, 1],\n",
              "        ...,\n",
              "        [0, 0, 1, 0],\n",
              "        [0, 0, 1, 0],\n",
              "        [0, 0, 1, 0]])"
            ]
          },
          "metadata": {
            "tags": []
          },
          "execution_count": 36
        }
      ]
    },
    {
      "cell_type": "code",
      "metadata": {
        "id": "MN9KZHCZbT-4"
      },
      "source": [
        ""
      ],
      "execution_count": null,
      "outputs": []
    },
    {
      "cell_type": "code",
      "metadata": {
        "id": "lxZyRPCabTxm"
      },
      "source": [
        "learner.load('/content/gdrive/My Drive/DCNN/Smart Contracts/final/classifier-22-epochs-3e-3');"
      ],
      "execution_count": null,
      "outputs": []
    },
    {
      "cell_type": "code",
      "metadata": {
        "id": "53xmS9DmbTrq"
      },
      "source": [
        ""
      ],
      "execution_count": null,
      "outputs": []
    },
    {
      "cell_type": "code",
      "metadata": {
        "id": "JxF4i-wj0My4",
        "outputId": "a783efaf-42ba-4eec-fbfb-8599a6ede707",
        "colab": {
          "base_uri": "https://localhost:8080/",
          "height": 17
        }
      },
      "source": [
        "preds1, targets1 = learner.get_preds()"
      ],
      "execution_count": null,
      "outputs": [
        {
          "output_type": "display_data",
          "data": {
            "text/html": [
              ""
            ],
            "text/plain": [
              "<IPython.core.display.HTML object>"
            ]
          },
          "metadata": {
            "tags": []
          }
        }
      ]
    },
    {
      "cell_type": "code",
      "metadata": {
        "id": "EEaxqSAMsni5"
      },
      "source": [
        "preds = np.argmax(preds1, axis = 1)"
      ],
      "execution_count": null,
      "outputs": []
    },
    {
      "cell_type": "code",
      "metadata": {
        "id": "Kzlj5Q6Gj32l",
        "outputId": "97aaeadf-62b9-4e76-bd08-68aab82d4583",
        "colab": {
          "base_uri": "https://localhost:8080/",
          "height": 34
        }
      },
      "source": [
        "preds1"
      ],
      "execution_count": null,
      "outputs": [
        {
          "output_type": "execute_result",
          "data": {
            "text/plain": [
              "tensor([3, 3, 3,  ..., 2, 3, 0])"
            ]
          },
          "metadata": {
            "tags": []
          },
          "execution_count": 70
        }
      ]
    },
    {
      "cell_type": "code",
      "metadata": {
        "id": "eDN5hOgNj8mB"
      },
      "source": [
        "\n",
        "targs = np.argmax(targets1, axis = 1)"
      ],
      "execution_count": null,
      "outputs": []
    },
    {
      "cell_type": "code",
      "metadata": {
        "id": "q4-RGRq47gNP",
        "outputId": "4274122e-4f55-4903-b3be-23f96c91c5fa",
        "colab": {
          "base_uri": "https://localhost:8080/",
          "height": 204
        }
      },
      "source": [
        "## testing latest 140 epochs\n",
        "#from sklearn.metrics import classification_report\n",
        "#print(classification_report(target, preds_test))"
      ],
      "execution_count": null,
      "outputs": [
        {
          "output_type": "stream",
          "text": [
            "              precision    recall  f1-score   support\n",
            "\n",
            "           0       0.80      0.73      0.76       870\n",
            "           1       0.62      0.20      0.30       220\n",
            "           2       0.90      0.72      0.80       181\n",
            "           3       0.93      0.98      0.95      5000\n",
            "\n",
            "    accuracy                           0.91      6271\n",
            "   macro avg       0.81      0.65      0.70      6271\n",
            "weighted avg       0.90      0.91      0.90      6271\n",
            "\n"
          ],
          "name": "stdout"
        }
      ]
    },
    {
      "cell_type": "code",
      "metadata": {
        "id": "RPdHPdbP_IEg",
        "outputId": "a9a20efa-6e1d-4862-b1a8-f744d7e02e51",
        "colab": {
          "base_uri": "https://localhost:8080/",
          "height": 85
        }
      },
      "source": [
        "#from sklearn.metrics import confusion_matrix\n",
        "#cm = confusion_matrix(target, preds_test)\n",
        "#cm"
      ],
      "execution_count": null,
      "outputs": [
        {
          "output_type": "execute_result",
          "data": {
            "text/plain": [
              "array([[ 636,    9,    7,  218],\n",
              "       [  59,   43,    0,  118],\n",
              "       [   5,    1,  130,   45],\n",
              "       [ 100,   16,    8, 4876]])"
            ]
          },
          "metadata": {
            "tags": []
          },
          "execution_count": 21
        }
      ]
    },
    {
      "cell_type": "code",
      "metadata": {
        "id": "rzvZlehw_IBs",
        "outputId": "93dc7ba5-3546-47a4-a3f8-34670d6de78d",
        "colab": {
          "base_uri": "https://localhost:8080/",
          "height": 217
        }
      },
      "source": [
        "## testing latest 140 epochs\n",
        "from sklearn.metrics import classification_report\n",
        "print(classification_report(target, preds_test))"
      ],
      "execution_count": null,
      "outputs": [
        {
          "output_type": "stream",
          "text": [
            "              precision    recall  f1-score   support\n",
            "\n",
            "           0       0.82      0.74      0.78       870\n",
            "           1       0.66      0.19      0.30       220\n",
            "           2       0.94      0.75      0.83       181\n",
            "           3       0.93      0.98      0.95      4860\n",
            "\n",
            "    accuracy                           0.91      6131\n",
            "   macro avg       0.84      0.67      0.72      6131\n",
            "weighted avg       0.90      0.91      0.90      6131\n",
            "\n"
          ],
          "name": "stdout"
        }
      ]
    },
    {
      "cell_type": "code",
      "metadata": {
        "id": "1O1cWD-FsMdi",
        "outputId": "62369e53-0b34-46a4-d318-b275de42610c",
        "colab": {
          "base_uri": "https://localhost:8080/",
          "height": 90
        }
      },
      "source": [
        "from sklearn.metrics import confusion_matrix\n",
        "cm = confusion_matrix(target, preds_test)\n",
        "cm"
      ],
      "execution_count": null,
      "outputs": [
        {
          "output_type": "execute_result",
          "data": {
            "text/plain": [
              "array([[ 648,    4,    3,  215],\n",
              "       [  59,   42,    0,  119],\n",
              "       [   1,    0,  135,   45],\n",
              "       [  78,   18,    5, 4759]])"
            ]
          },
          "metadata": {
            "tags": []
          },
          "execution_count": 38
        }
      ]
    },
    {
      "cell_type": "code",
      "metadata": {
        "id": "QsibR9QY_H-k"
      },
      "source": [
        ""
      ],
      "execution_count": null,
      "outputs": []
    },
    {
      "cell_type": "code",
      "metadata": {
        "id": "ksMtPnpk7gaE",
        "outputId": "19bdb196-9eff-4fa4-cc41-1049dbea00c5",
        "colab": {
          "base_uri": "https://localhost:8080/",
          "height": 204
        }
      },
      "source": [
        "## testing latest 110 epochs\n",
        "from sklearn.metrics import classification_report\n",
        "print(classification_report(target, preds_test))"
      ],
      "execution_count": null,
      "outputs": [
        {
          "output_type": "stream",
          "text": [
            "              precision    recall  f1-score   support\n",
            "\n",
            "           0       0.81      0.73      0.77       870\n",
            "           1       0.63      0.20      0.31       220\n",
            "           2       0.88      0.72      0.79       181\n",
            "           3       0.93      0.98      0.95      5000\n",
            "\n",
            "    accuracy                           0.91      6271\n",
            "   macro avg       0.81      0.66      0.70      6271\n",
            "weighted avg       0.90      0.91      0.90      6271\n",
            "\n"
          ],
          "name": "stdout"
        }
      ]
    },
    {
      "cell_type": "code",
      "metadata": {
        "id": "d2dkWoML7gel",
        "outputId": "f201b108-4ceb-48b2-ca98-4243546bb176",
        "colab": {
          "base_uri": "https://localhost:8080/",
          "height": 85
        }
      },
      "source": [
        "from sklearn.metrics import confusion_matrix\n",
        "cm = confusion_matrix(target, preds_test)\n",
        "cm"
      ],
      "execution_count": null,
      "outputs": [
        {
          "output_type": "execute_result",
          "data": {
            "text/plain": [
              "array([[ 554,    7,    0,  309],\n",
              "       [  32,   20,    1,  167],\n",
              "       [   0,    0,  149,   32],\n",
              "       [ 147,    9,   11, 4833]])"
            ]
          },
          "metadata": {
            "tags": []
          },
          "execution_count": 26
        }
      ]
    },
    {
      "cell_type": "code",
      "metadata": {
        "id": "wnPXH1D9wEzz"
      },
      "source": [
        ""
      ],
      "execution_count": null,
      "outputs": []
    },
    {
      "cell_type": "code",
      "metadata": {
        "id": "a5TDPJzn0My7",
        "outputId": "3de3fa83-31de-4c95-9ddd-03e3786c9a8f",
        "colab": {
          "base_uri": "https://localhost:8080/",
          "height": 204
        }
      },
      "source": [
        "### validation\n",
        "\n",
        "from sklearn.metrics import classification_report\n",
        "print(classification_report(targs, preds))"
      ],
      "execution_count": null,
      "outputs": [
        {
          "output_type": "stream",
          "text": [
            "              precision    recall  f1-score   support\n",
            "\n",
            "           0       0.94      0.93      0.93       731\n",
            "           1       0.97      0.88      0.92       201\n",
            "           2       0.96      0.92      0.94       143\n",
            "           3       0.98      0.99      0.98      4115\n",
            "\n",
            "    accuracy                           0.97      5190\n",
            "   macro avg       0.96      0.93      0.95      5190\n",
            "weighted avg       0.97      0.97      0.97      5190\n",
            "\n"
          ],
          "name": "stdout"
        }
      ]
    },
    {
      "cell_type": "code",
      "metadata": {
        "id": "I8YCzpuu0My-"
      },
      "source": [
        "from sklearn.metrics import confusion_matrix\n",
        "cm = confusion_matrix(target, preds_test)"
      ],
      "execution_count": null,
      "outputs": []
    },
    {
      "cell_type": "code",
      "metadata": {
        "id": "vluNyvPn0MzC",
        "outputId": "25c0d7df-d41d-4195-ed84-f2cdbe12e2ad",
        "colab": {
          "base_uri": "https://localhost:8080/",
          "height": 85
        }
      },
      "source": [
        "cm"
      ],
      "execution_count": null,
      "outputs": [
        {
          "output_type": "execute_result",
          "data": {
            "text/plain": [
              "array([[ 562,   89,    0,  219],\n",
              "       [  24,   62,    0,  134],\n",
              "       [   0,    4,  138,   39],\n",
              "       [  88,  165,    4, 4743]])"
            ]
          },
          "metadata": {
            "tags": []
          },
          "execution_count": 76
        }
      ]
    },
    {
      "cell_type": "code",
      "metadata": {
        "id": "o8txNdhIK-XJ"
      },
      "source": [
        "targets = target\n",
        "preds = predictions"
      ],
      "execution_count": null,
      "outputs": []
    },
    {
      "cell_type": "code",
      "metadata": {
        "id": "I4zVze9XbNUE"
      },
      "source": [
        "\n",
        "import numpy as np\n",
        "import matplotlib.pyplot as plt\n",
        "from itertools import cycle\n",
        "\n",
        "from sklearn import svm, datasets\n",
        "from sklearn.metrics import roc_curve, auc\n",
        "from sklearn.model_selection import train_test_split\n",
        "from sklearn.preprocessing import label_binarize\n",
        "from sklearn.multiclass import OneVsRestClassifier\n",
        "from scipy import interp\n",
        "\n",
        "\n",
        "# Compute ROC curve and ROC area for each class\n",
        "fpr = dict()\n",
        "tpr = dict()\n",
        "roc_auc = dict()\n",
        "n_classes = 4\n",
        "\n",
        "targets = target1\n",
        "preds = predictions\n",
        "\n",
        "y_test = targets.numpy()\n",
        "y_score = preds.numpy()\n",
        "for i in range(n_classes):\n",
        "    fpr[i], tpr[i], _ = roc_curve(y_test[:, i], y_score[:, i])\n",
        "    roc_auc[i] = auc(fpr[i], tpr[i])\n",
        "\n",
        "# Compute micro-average ROC curve and ROC area\n",
        "fpr[\"micro\"], tpr[\"micro\"], _ = roc_curve(y_test.ravel(), y_score.ravel())\n",
        "roc_auc[\"micro\"] = auc(fpr[\"micro\"], tpr[\"micro\"])\n"
      ],
      "execution_count": null,
      "outputs": []
    },
    {
      "cell_type": "code",
      "metadata": {
        "id": "KzbyzDnLbNUt",
        "outputId": "3bf384f6-30a7-4643-d617-da4501cf36cf",
        "colab": {
          "base_uri": "https://localhost:8080/",
          "height": 295
        }
      },
      "source": [
        "plt.figure()\n",
        "lw = 2\n",
        "\n",
        "i = 3\n",
        "plt.plot(fpr[i], tpr[i], color='darkorange',\n",
        "         lw=lw, label='ROC curve (area = %0.2f)' % roc_auc[i])\n",
        "plt.plot([0, 1], [0, 1], color='navy', lw=lw, linestyle='--')\n",
        "plt.xlim([0.0, 1.0])\n",
        "plt.ylim([0.0, 1.05])\n",
        "plt.xlabel('False Positive Rate')\n",
        "plt.ylabel('True Positive Rate')\n",
        "plt.title('Receiver operating characteristic example')\n",
        "plt.legend(loc=\"lower right\")\n",
        "plt.show()"
      ],
      "execution_count": null,
      "outputs": [
        {
          "output_type": "display_data",
          "data": {
            "image/png": "[encoded data removed]",
            "text/plain": [
              "<Figure size 432x288 with 1 Axes>"
            ]
          },
          "metadata": {
            "tags": []
          }
        }
      ]
    },
    {
      "cell_type": "code",
      "metadata": {
        "id": "ejshNOq6bNU9",
        "outputId": "cb85b7ec-20a9-4d60-b7af-3b758463f63a",
        "colab": {
          "base_uri": "https://localhost:8080/",
          "height": 126
        }
      },
      "source": [
        "fpr"
      ],
      "execution_count": null,
      "outputs": [
        {
          "output_type": "execute_result",
          "data": {
            "text/plain": [
              "{0: array([0.      , 0.      , 0.      , 0.      , ..., 0.977001, 0.977001, 0.981943, 1.      ]),\n",
              " 1: array([0.      , 0.      , 0.      , 0.      , ..., 0.993402, 0.993402, 0.997293, 1.      ]),\n",
              " 2: array([0.000000e+00, 0.000000e+00, 0.000000e+00, 1.680672e-04, ..., 9.714286e-01, 9.715966e-01, 9.724370e-01,\n",
              "        1.000000e+00]),\n",
              " 3: array([0.      , 0.018096, 0.018883, 0.018883, ..., 0.992132, 0.992919, 0.995279, 1.      ]),\n",
              " 'micro': array([0.      , 0.00125 , 0.001305, 0.001305, ..., 0.991519, 0.991519, 0.993965, 1.      ])}"
            ]
          },
          "metadata": {
            "tags": []
          },
          "execution_count": 43
        }
      ]
    },
    {
      "cell_type": "code",
      "metadata": {
        "id": "YqY5ZRANbNVI",
        "outputId": "26608e9a-29c8-4b78-ccb3-24a3b9937e68",
        "colab": {
          "base_uri": "https://localhost:8080/",
          "height": 328
        }
      },
      "source": [
        "# Compute macro-average ROC curve and ROC area\n",
        "\n",
        "# First aggregate all false positive rates\n",
        "#all_fpr = np.unique(np.concatenate([fpr[i] for i in range(n_classes)]))\n",
        "all_fpr = np.unique(np.concatenate([fpr[0], fpr[1], fpr[2], fpr[3]]))\n",
        "\n",
        "# Then interpolate all ROC curves at this points\n",
        "mean_tpr = np.zeros_like(all_fpr)\n",
        "mean_tpr = interp(all_fpr, fpr[0], tpr[0]) + interp(all_fpr, fpr[1], tpr[1]) + interp(all_fpr, fpr[2], tpr[2]) + interp(all_fpr, fpr[3], tpr[3]) \n",
        "#for i in range(n_classes):\n",
        "    #mean_tpr += interp(all_fpr, fpr[i], tpr[i])\n",
        "\n",
        "# Finally average it and compute AUC\n",
        "n_c = 5\n",
        "#mean_tpr /= n_classes\n",
        "mean_tpr /= n_c\n",
        "\n",
        "fpr[\"macro\"] = all_fpr\n",
        "tpr[\"macro\"] = mean_tpr\n",
        "roc_auc[\"macro\"] = auc(fpr[\"macro\"], tpr[\"macro\"])\n",
        "\n",
        "# Plot all ROC curves\n",
        "plt.figure()\n",
        "plt.plot(fpr[\"micro\"], tpr[\"micro\"],\n",
        "         label='micro-average ROC curve (area = {0:0.2f})'\n",
        "               ''.format(roc_auc[\"micro\"]),\n",
        "         color='deeppink', linestyle=':', linewidth=4)\n",
        "\n",
        "plt.plot(fpr[\"macro\"], tpr[\"macro\"],\n",
        "         label='macro-average ROC curve (area = {0:0.2f})'\n",
        "               ''.format(roc_auc[\"macro\"]),\n",
        "         color='navy', linestyle=':', linewidth=4)\n",
        "\n",
        "colors = cycle(['red', 'green', 'blue','yellow','yellow'])\n",
        "\n",
        "temp1 = fpr[3];temp2 = fpr[2];temp3 = tpr[3];temp4 = tpr[2]\n",
        "temp5 = roc_auc[3];temp6 = roc_auc[2];fpr[3] = temp2; fpr[2] = temp1\n",
        "tpr[3] = temp4; tpr[2] = temp3;roc_auc[3] = temp6; roc_auc[2] = temp5\n",
        "\n",
        "for i, color in zip(range(n_classes), colors):\n",
        "  if i != 10:\n",
        "    plt.plot(fpr[i], tpr[i], color=color, lw=lw,\n",
        "             label='ROC curve of Type {0} '\n",
        "             ''.format(i+1, roc_auc[i]))\n",
        "##(area = {1:0.2f})\n",
        "\n",
        "plt.plot([0, 1], [0, 1], 'k--', lw=lw)\n",
        "plt.xlim([0.0, 1.0])\n",
        "plt.ylim([0.0, 1.05])\n",
        "#plt.xticks(fontsize=14)\n",
        "plt.tick_params(axis='both', which='major', labelsize=15)\n",
        "plt.xlabel('False Positive Rate', fontsize=18)\n",
        "plt.ylabel('True Positive Rate', fontsize=18)\n",
        "#plt.title('Receiver operating characteristic to multi-class classification')\n",
        "plt.legend(loc=\"lower right\")\n",
        "plt.show()"
      ],
      "execution_count": null,
      "outputs": [
        {
          "output_type": "stream",
          "text": [
            "/usr/local/lib/python3.6/dist-packages/ipykernel_launcher.py:5: DeprecationWarning: scipy.interp is deprecated and will be removed in SciPy 2.0.0, use numpy.interp instead\n",
            "  \"\"\"\n"
          ],
          "name": "stderr"
        },
        {
          "output_type": "display_data",
          "data": {
            "image/png": "[encoded data removed]",
            "text/plain": [
              "<Figure size 432x288 with 1 Axes>"
            ]
          },
          "metadata": {
            "tags": []
          }
        }
      ]
    },
    {
      "cell_type": "code",
      "metadata": {
        "id": "IcwSKKdkbNVS",
        "outputId": "ae422c65-0b11-46bd-94ed-b7d39af8d8be",
        "colab": {
          "base_uri": "https://localhost:8080/",
          "height": 292
        }
      },
      "source": [
        "\n",
        "plt.figure()\n",
        "\n",
        "\n",
        "colors = cycle(['red', 'green', 'blue','orange'])\n",
        "for i, color in zip(range(n_classes), colors):\n",
        "  if i != 10:\n",
        "    plt.plot(fpr[i], tpr[i], color=color, lw=lw,\n",
        "             label='ROC curve of Type {0} (Area = {1:0.4f})'\n",
        "             ''.format(i+1, roc_auc[i]))\n",
        "## \n",
        "\n",
        "plt.plot([0, 1], [0, 1], 'k--', lw=lw)\n",
        "plt.xlim([0.0, 1.0])\n",
        "plt.ylim([0.0, 1.05])\n",
        "#plt.xticks(fontsize=14)\n",
        "plt.tick_params(axis='both', which='major', labelsize=15)\n",
        "plt.xlabel('False Positive Rate', fontsize=18)\n",
        "plt.ylabel('True Positive Rate', fontsize=18)\n",
        "#plt.title('Receiver operating characteristic to multi-class classification')\n",
        "plt.legend(loc=\"lower right\")\n",
        "plt.show()"
      ],
      "execution_count": null,
      "outputs": [
        {
          "output_type": "display_data",
          "data": {
            "image/png": "[encoded data removed]",
            "text/plain": [
              "<Figure size 432x288 with 1 Axes>"
            ]
          },
          "metadata": {
            "tags": []
          }
        }
      ]
    },
    {
      "cell_type": "code",
      "metadata": {
        "id": "BMRs_ehP0MB6"
      },
      "source": [
        ""
      ],
      "execution_count": null,
      "outputs": []
    },
    {
      "cell_type": "code",
      "metadata": {
        "id": "h2ck0pll0L9L"
      },
      "source": [
        ""
      ],
      "execution_count": null,
      "outputs": []
    },
    {
      "cell_type": "code",
      "metadata": {
        "id": "IA58BD_reBqJ"
      },
      "source": [
        ""
      ],
      "execution_count": null,
      "outputs": []
    }
  ]
}